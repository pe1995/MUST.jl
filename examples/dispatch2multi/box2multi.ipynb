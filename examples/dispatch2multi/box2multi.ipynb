{
 "cells": [
  {
   "cell_type": "code",
   "execution_count": 1,
   "metadata": {},
   "outputs": [
    {
     "name": "stderr",
     "output_type": "stream",
     "text": [
      "\u001b[32m\u001b[1m  Activating\u001b[22m\u001b[39m environment at `/usr/local/autofs.shared/shared-storage/eitner/model_grid/MUST.jl/examples/dispatch2multi/Project.toml`\n"
     ]
    },
    {
     "ename": "ErrorException",
     "evalue": "/u/peitner/DISPATCH/dispatch2/utilities/python/ is not a dispatch installation.",
     "output_type": "error",
     "traceback": [
      "/u/peitner/DISPATCH/dispatch2/utilities/python/ is not a dispatch installation.\n",
      "\n",
      "Stacktrace:\n",
      " [1] error(s::String)\n",
      "   @ Base ./error.jl:33\n",
      " [2] _import_dispatch(location::String, submodules::Vector{Any})\n",
      "   @ MUST /usr/local/autofs.shared/shared-storage/eitner/model_grid/MUST.jl/src/_dispatch.jl:44\n",
      " [3] _import_dispatch(location::String)\n",
      "   @ MUST /usr/local/autofs.shared/shared-storage/eitner/model_grid/MUST.jl/src/_dispatch.jl:35\n",
      " [4] top-level scope\n",
      "   @ /usr/local/autofs.shared/shared-storage/eitner/model_grid/MUST.jl/src/_dispatch.jl:25"
     ]
    }
   ],
   "source": [
    "using Pkg; Pkg.activate(\".\"); \n",
    "using MUST\n",
    "using PyPlot\n",
    "\n",
    "MUST.@import_dispatch \"/u/peitner/DISPATCH/dispatch2\" ;\n",
    "#MUST.@import_dispatch \"../../../dispatch2_clean/dispatch2\" ;"
   ]
  },
  {
   "cell_type": "code",
   "execution_count": 2,
   "metadata": {},
   "outputs": [],
   "source": [
    "input_name  = \"TSO_sun_Magg_rturc\"\n",
    "output_name = \"TSO_sun_Magg\"\n",
    "eos_name    = \"TSO_sun_Magg_v1\"\n",
    "\n",
    "\n",
    "input_name  = \"TAB_sun_profile_hRes\"\n",
    "output_name = \"TSO_sun_hRes\"\n",
    "eos_name    = \"solar_lte\";\n",
    "\n",
    "\n",
    "input_name  = \"TSO_sun_TDZv2_v3.1\"\n",
    "output_name = \"TSO_sun_TDZv2_v3.1\"\n",
    "eos_name    = \"TSO_sun_Magg_v3.1\";"
   ]
  },
  {
   "cell_type": "code",
   "execution_count": 3,
   "metadata": {},
   "outputs": [
    {
     "ename": "BoundsError",
     "evalue": "BoundsError: attempt to access 0-element Vector{Any} at index [-1]",
     "output_type": "error",
     "traceback": [
      "BoundsError: attempt to access 0-element Vector{Any} at index [-1]\n",
      "\n",
      "Stacktrace:\n",
      " [1] getindex(A::Vector{Any}, i1::Int64)\n",
      "   @ Base ./array.jl:805\n",
      " [2] top-level scope\n",
      "   @ /shared-storage/eitner/model_grid/MUST.jl/examples/dispatch2multi/box2multi.ipynb:2"
     ]
    }
   ],
   "source": [
    "model_box = MUST.Boxes(MUST.@in_dispatch(\"data/$(input_name)\"))\n",
    "m = model_box[1][end-1];"
   ]
  },
  {
   "cell_type": "code",
   "execution_count": 4,
   "metadata": {},
   "outputs": [
    {
     "ename": "SystemError",
     "evalue": "SystemError: opening file \"/u/peitner/DISPATCH/dispatch2/experiments/stellar_atmospheres/input_data/TSO_sun_Magg_v3.1/tabparam.in\": No such file or directory",
     "output_type": "error",
     "traceback": [
      "SystemError: opening file \"/u/peitner/DISPATCH/dispatch2/experiments/stellar_atmospheres/input_data/TSO_sun_Magg_v3.1/tabparam.in\": No such file or directory\n",
      "\n",
      "Stacktrace:\n",
      " [1] systemerror(p::String, errno::Int32; extrainfo::Nothing)\n",
      "   @ Base ./error.jl:168\n",
      " [2] #systemerror#62\n",
      "   @ ./error.jl:167 [inlined]\n",
      " [3] systemerror\n",
      "   @ ./error.jl:167 [inlined]\n",
      " [4] open(fname::String; lock::Bool, read::Bool, write::Nothing, create::Nothing, truncate::Nothing, append::Nothing)\n",
      "   @ Base ./iostream.jl:293\n",
      " [5] open(fname::String, mode::String; lock::Bool)\n",
      "   @ Base ./iostream.jl:355\n",
      " [6] open\n",
      "   @ ./iostream.jl:355 [inlined]\n",
      " [7] read_squaregas_params(file_name::String)\n",
      "   @ MUST /usr/local/autofs.shared/shared-storage/eitner/model_grid/MUST.jl/src/_eos.jl:118\n",
      " [8] MUST.SquareGasEOS(para_path::String)\n",
      "   @ MUST /usr/local/autofs.shared/shared-storage/eitner/model_grid/MUST.jl/src/_eos.jl:49\n",
      " [9] top-level scope\n",
      "   @ /shared-storage/eitner/model_grid/MUST.jl/examples/dispatch2multi/box2multi.ipynb:1"
     ]
    }
   ],
   "source": [
    "eos = MUST.SquareGasEOS(MUST.@in_dispatch(\"input_data/$(eos_name)\"));"
   ]
  },
  {
   "cell_type": "code",
   "execution_count": 5,
   "metadata": {},
   "outputs": [
    {
     "ename": "UndefVarError",
     "evalue": "UndefVarError: m not defined",
     "output_type": "error",
     "traceback": [
      "UndefVarError: m not defined\n",
      "\n",
      "Stacktrace:\n",
      " [1] top-level scope\n",
      "   @ /shared-storage/eitner/model_grid/MUST.jl/examples/dispatch2multi/box2multi.ipynb:1"
     ]
    }
   ],
   "source": [
    "MUST.multiBox(m, eos, output_name, downsample_xy=20)"
   ]
  },
  {
   "cell_type": "code",
   "execution_count": 6,
   "metadata": {},
   "outputs": [
    {
     "ename": "SystemError",
     "evalue": "SystemError: opening file \"TSO_sun_TDZv2_v3.1.mesh\": No such file or directory",
     "output_type": "error",
     "traceback": [
      "SystemError: opening file \"TSO_sun_TDZv2_v3.1.mesh\": No such file or directory\n",
      "\n",
      "Stacktrace:\n",
      "  [1] systemerror(p::String, errno::Int32; extrainfo::Nothing)\n",
      "    @ Base ./error.jl:168\n",
      "  [2] #systemerror#62\n",
      "    @ ./error.jl:167 [inlined]\n",
      "  [3] systemerror\n",
      "    @ ./error.jl:167 [inlined]\n",
      "  [4] open(fname::String; lock::Bool, read::Bool, write::Nothing, create::Nothing, truncate::Nothing, append::Nothing)\n",
      "    @ Base ./iostream.jl:293\n",
      "  [5] open(fname::String, mode::String; lock::Bool)\n",
      "    @ Base ./iostream.jl:355\n",
      "  [6] open(fname::String, mode::String)\n",
      "    @ Base ./iostream.jl:355\n",
      "  [7] open(::MUST.var\"#254#255\", ::String, ::Vararg{String, N} where N; kwargs::Base.Iterators.Pairs{Union{}, Union{}, Tuple{}, NamedTuple{(), Tuple{}}})\n",
      "    @ Base ./io.jl:328\n",
      "  [8] open\n",
      "    @ ./io.jl:328 [inlined]\n",
      "  [9] _read_mesh_multi\n",
      "    @ /usr/local/autofs.shared/shared-storage/eitner/model_grid/MUST.jl/src/_atmos2multi.jl:58 [inlined]\n",
      " [10] multiBox(name::String)\n",
      "    @ MUST /usr/local/autofs.shared/shared-storage/eitner/model_grid/MUST.jl/src/_atmos2multi.jl:47\n",
      " [11] top-level scope\n",
      "    @ /shared-storage/eitner/model_grid/MUST.jl/examples/dispatch2multi/box2multi.ipynb:1"
     ]
    }
   ],
   "source": [
    "b_d = MUST.multiBox(output_name);\n",
    "@show size(b_d);"
   ]
  },
  {
   "cell_type": "code",
   "execution_count": 7,
   "metadata": {},
   "outputs": [
    {
     "ename": "SystemError",
     "evalue": "SystemError: opening file \"/u/peitner/MULTI3D/Multi3D/input_multi3d/atmos/t5777g44m0005_20.5x5x230.mesh\": No such file or directory",
     "output_type": "error",
     "traceback": [
      "SystemError: opening file \"/u/peitner/MULTI3D/Multi3D/input_multi3d/atmos/t5777g44m0005_20.5x5x230.mesh\": No such file or directory\n",
      "\n",
      "Stacktrace:\n",
      "  [1] systemerror(p::String, errno::Int32; extrainfo::Nothing)\n",
      "    @ Base ./error.jl:168\n",
      "  [2] #systemerror#62\n",
      "    @ ./error.jl:167 [inlined]\n",
      "  [3] systemerror\n",
      "    @ ./error.jl:167 [inlined]\n",
      "  [4] open(fname::String; lock::Bool, read::Bool, write::Nothing, create::Nothing, truncate::Nothing, append::Nothing)\n",
      "    @ Base ./iostream.jl:293\n",
      "  [5] open(fname::String, mode::String; lock::Bool)\n",
      "    @ Base ./iostream.jl:355\n",
      "  [6] open(fname::String, mode::String)\n",
      "    @ Base ./iostream.jl:355\n",
      "  [7] open(::MUST.var\"#254#255\", ::String, ::Vararg{String, N} where N; kwargs::Base.Iterators.Pairs{Union{}, Union{}, Tuple{}, NamedTuple{(), Tuple{}}})\n",
      "    @ Base ./io.jl:328\n",
      "  [8] open\n",
      "    @ ./io.jl:328 [inlined]\n",
      "  [9] _read_mesh_multi\n",
      "    @ /usr/local/autofs.shared/shared-storage/eitner/model_grid/MUST.jl/src/_atmos2multi.jl:58 [inlined]\n",
      " [10] multiBox(name::String)\n",
      "    @ MUST /usr/local/autofs.shared/shared-storage/eitner/model_grid/MUST.jl/src/_atmos2multi.jl:47\n",
      " [11] top-level scope\n",
      "    @ /shared-storage/eitner/model_grid/MUST.jl/examples/dispatch2multi/box2multi.ipynb:1"
     ]
    }
   ],
   "source": [
    "b_m = MUST.multiBox(\"/u/peitner/MULTI3D/Multi3D/input_multi3d/atmos/t5777g44m0005_20.5x5x230\");"
   ]
  },
  {
   "cell_type": "code",
   "execution_count": 8,
   "metadata": {},
   "outputs": [
    {
     "ename": "UndefVarError",
     "evalue": "UndefVarError: b_d not defined",
     "output_type": "error",
     "traceback": [
      "UndefVarError: b_d not defined\n",
      "\n",
      "Stacktrace:\n",
      " [1] top-level scope\n",
      "   @ /shared-storage/eitner/model_grid/MUST.jl/examples/dispatch2multi/box2multi.ipynb:1"
     ]
    }
   ],
   "source": [
    "t = MUST.plane_statistic(MUST.mean, b_d, :T)\n",
    "d = MUST.plane_statistic(MUST.mean, b_d, :d)\n",
    "\n",
    "t_m = MUST.plane_statistic(MUST.mean, b_m, :T)\n",
    "d_m = MUST.plane_statistic(MUST.mean, b_m, :d)\n",
    "\n",
    "plt.scatter(log10.(b_d[:d]), b_d[:T], s=0.5, alpha=0.2, label=\"Dispatch\", color=\"blue\")\n",
    "plt.scatter(log10.(b_m[:d]), b_m[:T], s=5.0, alpha=0.2, label=\"Stagger\", color=\"red\")\n",
    "\n",
    "plt.plot(log10.(d), t, color=\"k\", lw=3)\n",
    "plt.plot(log10.(d_m), t_m, color=\"0.5\", lw=3)\n",
    "\n",
    "#plt.xlim(log(10, 1.e-7), log(10, 1e-6))\n",
    "#plt.ylim(8000,14000)\n",
    "plt.legend()"
   ]
  },
  {
   "cell_type": "code",
   "execution_count": 9,
   "metadata": {},
   "outputs": [
    {
     "ename": "UndefVarError",
     "evalue": "UndefVarError: b_d not defined",
     "output_type": "error",
     "traceback": [
      "UndefVarError: b_d not defined\n",
      "\n",
      "Stacktrace:\n",
      " [1] top-level scope\n",
      "   @ /shared-storage/eitner/model_grid/MUST.jl/examples/dispatch2multi/box2multi.ipynb:1"
     ]
    }
   ],
   "source": [
    "plt.scatter(b_d[:T], b_d[:uz], s=0.5, alpha=0.2, color=\"blue\", label=\"Dispatch\")\n",
    "plt.scatter(b_m[:T], b_m[:uz], s=5.0, alpha=0.2, color=\"red\", label=\"Stagger\")\n",
    "\n",
    "plt.legend();"
   ]
  },
  {
   "cell_type": "code",
   "execution_count": 10,
   "metadata": {},
   "outputs": [
    {
     "ename": "UndefVarError",
     "evalue": "UndefVarError: b_d not defined",
     "output_type": "error",
     "traceback": [
      "UndefVarError: b_d not defined\n",
      "\n",
      "Stacktrace:\n",
      " [1] top-level scope\n",
      "   @ /shared-storage/eitner/model_grid/MUST.jl/examples/dispatch2multi/box2multi.ipynb:1"
     ]
    }
   ],
   "source": [
    "plt.scatter(b_d[:T], log10.(b_d[:Ne]), s=0.5, alpha=0.2, color=\"blue\", label=\"Dispatch\")\n",
    "plt.scatter(b_m[:T], log10.(b_m[:Ne]), s=5.0, alpha=0.2, color=\"red\", label=\"Stagger\")\n",
    "\n",
    "plt.legend();"
   ]
  },
  {
   "cell_type": "code",
   "execution_count": 11,
   "metadata": {},
   "outputs": [
    {
     "ename": "UndefVarError",
     "evalue": "UndefVarError: b_m not defined",
     "output_type": "error",
     "traceback": [
      "UndefVarError: b_m not defined\n",
      "\n",
      "Stacktrace:\n",
      " [1] top-level scope\n",
      "   @ /shared-storage/eitner/model_grid/MUST.jl/examples/dispatch2multi/box2multi.ipynb:1"
     ]
    }
   ],
   "source": [
    "mask_m = b_m[:T] .< 6000.0\n",
    "mask_d = b_d[:T] .< 6000.0\n",
    "\n",
    "u_m  = b_m[:uz][mask_m] ./ 1e5\n",
    "u_d  = b_d[:uz][mask_d] ./ 1e5\n",
    "\n",
    "plt.hist(reshape(u_m, :), bins=20, alpha=0.2, color=\"red\", density=true, label=\"Stagger\")\n",
    "plt.hist(reshape(u_d, :), bins=100, alpha=0.2, color=\"blue\", density=true, label=\"Dispatch\")\n",
    "\n",
    "plt.title(\"Uz distribution towards the surface\")\n",
    "plt.xlabel(\"Uz [km/s]\")\n",
    "\n",
    "plt.legend();"
   ]
  },
  {
   "cell_type": "code",
   "execution_count": 12,
   "metadata": {},
   "outputs": [
    {
     "ename": "UndefVarError",
     "evalue": "UndefVarError: b_d not defined",
     "output_type": "error",
     "traceback": [
      "UndefVarError: b_d not defined\n",
      "\n",
      "Stacktrace:\n",
      " [1] top-level scope\n",
      "   @ /shared-storage/eitner/model_grid/MUST.jl/examples/dispatch2multi/box2multi.ipynb:1"
     ]
    }
   ],
   "source": [
    "plt.scatter(b_d[:T], log.(10, b_d[:Ne]))"
   ]
  }
 ],
 "metadata": {
  "kernelspec": {
   "display_name": "Julia 1.6.5",
   "language": "julia",
   "name": "julia-1.6"
  },
  "language_info": {
   "file_extension": ".jl",
   "mimetype": "application/julia",
   "name": "julia",
   "version": "1.6.5"
  },
  "orig_nbformat": 4
 },
 "nbformat": 4,
 "nbformat_minor": 2
}
