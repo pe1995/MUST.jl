{
 "cells": [
  {
   "cell_type": "code",
   "execution_count": 41,
   "metadata": {},
   "outputs": [
    {
     "name": "stderr",
     "output_type": "stream",
     "text": [
      "\u001b[32m\u001b[1m  Activating\u001b[22m\u001b[39m environment at `/cobra/ptmp/peitner/model_grid/MUST.jl/examples/dispatch2space/Project.toml`\n",
      "\u001b[32m\u001b[1m   Resolving\u001b[22m\u001b[39m package versions...\n",
      "\u001b[32m\u001b[1m    Updating\u001b[22m\u001b[39m `/cobra/ptmp/peitner/model_grid/MUST.jl/examples/dispatch2space/Project.toml`\n",
      " \u001b[90m [d330b81b] \u001b[39m\u001b[92m+ PyPlot v2.10.0\u001b[39m\n",
      "\u001b[32m\u001b[1m    Updating\u001b[22m\u001b[39m `/cobra/ptmp/peitner/model_grid/MUST.jl/examples/dispatch2space/Manifest.toml`\n",
      " \u001b[90m [3da002f7] \u001b[39m\u001b[92m+ ColorTypes v0.11.4\u001b[39m\n",
      " \u001b[90m [5ae59095] \u001b[39m\u001b[92m+ Colors v0.12.8\u001b[39m\n",
      " \u001b[90m [53c48c17] \u001b[39m\u001b[92m+ FixedPointNumbers v0.8.4\u001b[39m\n",
      " \u001b[90m [b964fa9f] \u001b[39m\u001b[92m+ LaTeXStrings v1.3.0\u001b[39m\n",
      " \u001b[90m [d330b81b] \u001b[39m\u001b[92m+ PyPlot v2.10.0\u001b[39m\n",
      "┌ Info: Precompiling PyPlot [d330b81b-6aea-500a-939a-2ce795aea3ee]\n",
      "└ @ Base loading.jl:1342\n"
     ]
    },
    {
     "data": {
      "text/plain": [
       "PyObject <module 'select' from '/mpcdf/soft/SLE_12/packages/x86_64/anaconda/3/2021.05/lib/python3.8/lib-dynload/select.cpython-38-x86_64-linux-gnu.so'>"
      ]
     },
     "execution_count": 41,
     "metadata": {},
     "output_type": "execute_result"
    }
   ],
   "source": [
    "using Pkg; Pkg.activate(\".\"); Pkg.add(\"PyPlot\") #Pkg.update(); \n",
    "using MUST\n",
    "using Glob\n",
    "using PyCall\n",
    "using PyPlot\n",
    "\n",
    "MUST.@import_dispatch \"../../../dispatch2_clean/dispatch2\"\n",
    "MUST.@import_dispatch \"../../../dispatch2_clean/dispatch2\" EOS select"
   ]
  },
  {
   "cell_type": "code",
   "execution_count": 3,
   "metadata": {},
   "outputs": [],
   "source": [
    "folder = MUST.@in_dispatch \"data/phase1_2\" ;"
   ]
  },
  {
   "cell_type": "code",
   "execution_count": 35,
   "metadata": {},
   "outputs": [
    {
     "data": {
      "text/plain": [
       "PyObject <dispatch._dispatch.snapshot object at 0x2adc85504370>"
      ]
     },
     "execution_count": 35,
     "metadata": {},
     "output_type": "execute_result"
    }
   ],
   "source": [
    "s = dispatch.snapshot(10, data=folder)"
   ]
  },
  {
   "cell_type": "code",
   "execution_count": 66,
   "metadata": {},
   "outputs": [
    {
     "name": "stdout",
     "output_type": "stream",
     "text": [
      "length(s.patches) = 500\n",
      "minimum(patch.var(\"qr\")) = 0.0f0\n",
      "maximum(patch.var(\"qr\")) = 0.0f0\n",
      "minimum(patch.var(\"qr\")) = 0.0f0\n",
      "maximum(patch.var(\"qr\")) = 0.0f0\n",
      "minimum(patch.var(\"qr\")) = 0.0f0\n",
      "maximum(patch.var(\"qr\")) = 0.0f0\n",
      "minimum(patch.var(\"qr\")) = 0.0f0\n",
      "maximum(patch.var(\"qr\")) = 0.0f0\n",
      "minimum(patch.var(\"qr\")) = 0.0f0\n",
      "maximum(patch.var(\"qr\")) = 0.0f0\n",
      "minimum(patch.var(\"qr\")) = 0.0f0\n",
      "maximum(patch.var(\"qr\")) = 0.0f0\n",
      "minimum(patch.var(\"qr\")) = 0.0f0\n",
      "maximum(patch.var(\"qr\")) = 0.0f0\n",
      "minimum(patch.var(\"qr\")) = 0.0f0\n",
      "maximum(patch.var(\"qr\")) = 0.0f0\n",
      "minimum(patch.var(\"qr\")) = 0.0f0\n",
      "maximum(patch.var(\"qr\")) = 0.0f0\n",
      "minimum(patch.var(\"qr\")) = 0.0f0\n",
      "maximum(patch.var(\"qr\")) = 0.0f0\n",
      "minimum(patch.var(\"qr\")) = 0.0f0\n",
      "maximum(patch.var(\"qr\")) = 0.0f0\n",
      "minimum(patch.var(\"qr\")) = 0.0f0\n",
      "maximum(patch.var(\"qr\")) = 0.0f0\n",
      "minimum(patch.var(\"qr\")) = 0.0f0\n",
      "maximum(patch.var(\"qr\")) = 0.0f0\n",
      "minimum(patch.var(\"qr\")) = 0.0f0\n",
      "maximum(patch.var(\"qr\")) = 0.0f0\n",
      "minimum(patch.var(\"qr\")) = 0.0f0\n",
      "maximum(patch.var(\"qr\")) = 0.0f0\n",
      "minimum(patch.var(\"qr\")) = 0.0f0\n",
      "maximum(patch.var(\"qr\")) = 0.0f0\n",
      "minimum(patch.var(\"qr\")) = 0.0f0\n",
      "maximum(patch.var(\"qr\")) = 0.0f0\n",
      "minimum(patch.var(\"qr\")) = 0.0f0\n",
      "maximum(patch.var(\"qr\")) = 0.0f0\n",
      "minimum(patch.var(\"qr\")) = 0.0f0\n",
      "maximum(patch.var(\"qr\")) = 0.0f0\n",
      "minimum(patch.var(\"qr\")) = 0.0f0\n",
      "maximum(patch.var(\"qr\")) = 0.0f0\n",
      "minimum(patch.var(\"qr\")) = 0.0f0\n",
      "maximum(patch.var(\"qr\")) = 0.0f0\n",
      "minimum(patch.var(\"qr\")) = 0.0f0\n",
      "maximum(patch.var(\"qr\")) = 0.0f0\n",
      "minimum(patch.var(\"qr\")) = 0.0f0\n",
      "maximum(patch.var(\"qr\")) = 0.0f0\n",
      "minimum(patch.var(\"qr\")) = 0.0f0\n",
      "maximum(patch.var(\"qr\")) = 0.0f0\n",
      "minimum(patch.var(\"qr\")) = 0.0f0\n",
      "maximum(patch.var(\"qr\")) = 0.0f0\n",
      "minimum(patch.var(\"qr\")) = 0.0f0\n",
      "maximum(patch.var(\"qr\")) = 0.0f0\n",
      "minimum(patch.var(\"qr\")) = 0.0f0\n",
      "maximum(patch.var(\"qr\")) = 0.0f0\n",
      "minimum(patch.var(\"qr\")) = 0.0f0\n",
      "maximum(patch.var(\"qr\")) = 0.0f0\n",
      "minimum(patch.var(\"qr\")) = 0.0f0\n",
      "maximum(patch.var(\"qr\")) = 0.0f0\n",
      "minimum(patch.var(\"qr\")) = 0.0f0\n",
      "maximum(patch.var(\"qr\")) = 0.0f0\n",
      "minimum(patch.var(\"qr\")) = 0.0f0\n",
      "maximum(patch.var(\"qr\")) = 0.0f0\n",
      "minimum(patch.var(\"qr\")) = 0.0f0\n",
      "maximum(patch.var(\"qr\")) = 0.0f0\n",
      "minimum(patch.var(\"qr\")) = 0.0f0\n",
      "maximum(patch.var(\"qr\")) = 0.0f0\n",
      "minimum(patch.var(\"qr\")) = 0.0f0\n",
      "maximum(patch.var(\"qr\")) = 0.0f0\n",
      "minimum(patch.var(\"qr\")) = 0.0f0\n",
      "maximum(patch.var(\"qr\")) = 0.0f0\n",
      "minimum(patch.var(\"qr\")) = 0.0f0\n",
      "maximum(patch.var(\"qr\")) = 0.0f0\n",
      "minimum(patch.var(\"qr\")) = 0.0f0\n",
      "maximum(patch.var(\"qr\")) = 0.0f0\n",
      "minimum(patch.var(\"qr\")) = 0.0f0\n",
      "maximum(patch.var(\"qr\")) = 0.0f0\n",
      "minimum(patch.var(\"qr\")) = 0.0f0\n",
      "maximum(patch.var(\"qr\")) = 0.0f0\n",
      "minimum(patch.var(\"qr\")) = 0.0f0\n",
      "maximum(patch.var(\"qr\")) = 0.0f0\n",
      "minimum(patch.var(\"qr\")) = 0.0f0\n",
      "maximum(patch.var(\"qr\")) = 0.0f0\n",
      "minimum(patch.var(\"qr\")) = 0.0f0\n",
      "maximum(patch.var(\"qr\")) = 0.0f0\n",
      "minimum(patch.var(\"qr\")) = 0.0f0\n",
      "maximum(patch.var(\"qr\")) = 0.0f0\n",
      "minimum(patch.var(\"qr\")) = 0.0f0\n",
      "maximum(patch.var(\"qr\")) = 0.0f0\n",
      "minimum(patch.var(\"qr\")) = 0.0f0\n",
      "maximum(patch.var(\"qr\")) = 0.0f0\n",
      "minimum(patch.var(\"qr\")) = 0.0f0\n",
      "maximum(patch.var(\"qr\")) = 0.0f0\n",
      "minimum(patch.var(\"qr\")) = 0.0f0\n",
      "maximum(patch.var(\"qr\")) = 0.0f0\n",
      "minimum(patch.var(\"qr\")) = 0.0f0\n",
      "maximum(patch.var(\"qr\")) = 0.0f0\n",
      "minimum(patch.var(\"qr\")) = 0.0f0\n",
      "maximum(patch.var(\"qr\")) = 0.0f0\n",
      "minimum(patch.var(\"qr\")) = 0.0f0\n",
      "maximum(patch.var(\"qr\")) = 0.0f0\n",
      "minimum(patch.var(\"qr\")) = 0.0f0\n",
      "maximum(patch.var(\"qr\")) = 0.0f0\n",
      "minimum(patch.var(\"qr\")) = 0.0f0\n",
      "maximum(patch.var(\"qr\")) = 0.0f0\n",
      "minimum(patch.var(\"qr\")) = 0.0f0\n",
      "maximum(patch.var(\"qr\")) = 0.0f0\n",
      "minimum(patch.var(\"qr\")) = 0.0f0\n",
      "maximum(patch.var(\"qr\")) = 0.0f0\n",
      "minimum(patch.var(\"qr\")) = 0.0f0\n",
      "maximum(patch.var(\"qr\")) = 0.0f0\n",
      "minimum(patch.var(\"qr\")) = 0.0f0\n",
      "maximum(patch.var(\"qr\")) = 0.0f0\n",
      "minimum(patch.var(\"qr\")) = 0.0f0\n",
      "maximum(patch.var(\"qr\")) = 0.0f0\n",
      "minimum(patch.var(\"qr\")) = 0.0f0\n",
      "maximum(patch.var(\"qr\")) = 0.0f0\n",
      "minimum(patch.var(\"qr\")) = 0.0f0\n",
      "maximum(patch.var(\"qr\")) = 0.0f0\n",
      "minimum(patch.var(\"qr\")) = 0.0f0\n",
      "maximum(patch.var(\"qr\")) = 0.0f0\n",
      "minimum(patch.var(\"qr\")) = 0.0f0\n",
      "maximum(patch.var(\"qr\")) = 0.0f0\n",
      "minimum(patch.var(\"qr\")) = 0.0f0\n",
      "maximum(patch.var(\"qr\")) = 0.0f0\n",
      "minimum(patch.var(\"qr\")) = 0.0f0\n",
      "maximum(patch.var(\"qr\")) = 0.0f0\n",
      "minimum(patch.var(\"qr\")) = 0.0f0\n",
      "maximum(patch.var(\"qr\")) = 0.0f0\n",
      "minimum(patch.var(\"qr\")) = 0.0f0\n",
      "maximum(patch.var(\"qr\")) = 0.0f0\n",
      "minimum(patch.var(\"qr\")) = 0.0f0\n",
      "maximum(patch.var(\"qr\")) = 0.0f0\n",
      "minimum(patch.var(\"qr\")) = 0.0f0\n",
      "maximum(patch.var(\"qr\")) = 0.0f0\n",
      "minimum(patch.var(\"qr\")) = 0.0f0\n",
      "maximum(patch.var(\"qr\")) = 0.0f0\n",
      "minimum(patch.var(\"qr\")) = 0.0f0\n",
      "maximum(patch.var(\"qr\")) = 0.0f0\n",
      "minimum(patch.var(\"qr\")) = 0.0f0\n",
      "maximum(patch.var(\"qr\")) = 0.0f0\n",
      "minimum(patch.var(\"qr\")) = 0.0f0\n",
      "maximum(patch.var(\"qr\")) = 0.0f0\n",
      "minimum(patch.var(\"qr\")) = 0.0f0\n",
      "maximum(patch.var(\"qr\")) = 0.0f0\n",
      "minimum(patch.var(\"qr\")) = 0.0f0\n",
      "maximum(patch.var(\"qr\")) = 0.0f0\n",
      "minimum(patch.var(\"qr\")) = 0.0f0\n",
      "maximum(patch.var(\"qr\")) = 0.0f0\n",
      "minimum(patch.var(\"qr\")) = 0.0f0\n",
      "maximum(patch.var(\"qr\")) = 0.0f0\n",
      "minimum(patch.var(\"qr\")) = 0.0f0\n",
      "maximum(patch.var(\"qr\")) = 0.0f0\n",
      "minimum(patch.var(\"qr\")) = 0.0f0\n",
      "maximum(patch.var(\"qr\")) = 0.0f0\n",
      "minimum(patch.var(\"qr\")) = 0.0f0\n",
      "maximum(patch.var(\"qr\")) = 0.0f0\n",
      "minimum(patch.var(\"qr\")) = 0.0f0\n",
      "maximum(patch.var(\"qr\")) = 0.0f0\n",
      "minimum(patch.var(\"qr\")) = 0.0f0\n",
      "maximum(patch.var(\"qr\")) = 0.0f0\n",
      "minimum(patch.var(\"qr\")) = 0.0f0\n",
      "maximum(patch.var(\"qr\")) = 0.0f0\n",
      "minimum(patch.var(\"qr\")) = 0.0f0\n",
      "maximum(patch.var(\"qr\")) = 0.0f0\n",
      "minimum(patch.var(\"qr\")) = 0.0f0\n",
      "maximum(patch.var(\"qr\")) = 0.0f0\n",
      "minimum(patch.var(\"qr\")) = 0.0f0\n",
      "maximum(patch.var(\"qr\")) = 0.0f0\n",
      "minimum(patch.var(\"qr\")) = 0.0f0\n",
      "maximum(patch.var(\"qr\")) = 0.0f0\n",
      "minimum(patch.var(\"qr\")) = 0.0f0\n",
      "maximum(patch.var(\"qr\")) = 0.0f0\n",
      "minimum(patch.var(\"qr\")) = 0.0f0\n",
      "maximum(patch.var(\"qr\")) = 0.0f0\n",
      "minimum(patch.var(\"qr\")) = 0.0f0\n",
      "maximum(patch.var(\"qr\")) = 0.0f0\n",
      "minimum(patch.var(\"qr\")) = 0.0f0\n",
      "maximum(patch.var(\"qr\")) = 0.0f0\n",
      "minimum(patch.var(\"qr\")) = 0.0f0\n",
      "maximum(patch.var(\"qr\")) = 0.0f0\n",
      "minimum(patch.var(\"qr\")) = 0.0f0\n",
      "maximum(patch.var(\"qr\")) = 0.0f0\n",
      "minimum(patch.var(\"qr\")) = 0.0f0\n",
      "maximum(patch.var(\"qr\")) = 0.0f0\n",
      "minimum(patch.var(\"qr\")) = 0.0f0\n",
      "maximum(patch.var(\"qr\")) = 0.0f0\n",
      "minimum(patch.var(\"qr\")) = 0.0f0\n",
      "maximum(patch.var(\"qr\")) = 0.0f0\n",
      "minimum(patch.var(\"qr\")) = 0.0f0\n",
      "maximum(patch.var(\"qr\")) = 0.0f0\n",
      "minimum(patch.var(\"qr\")) = 0.0f0\n",
      "maximum(patch.var(\"qr\")) = 0.0f0\n",
      "minimum(patch.var(\"qr\")) = 0.0f0\n",
      "maximum(patch.var(\"qr\")) = 0.0f0\n",
      "minimum(patch.var(\"qr\")) = 0.0f0\n",
      "maximum(patch.var(\"qr\")) = 0.0f0\n",
      "minimum(patch.var(\"qr\")) = 0.0f0\n",
      "maximum(patch.var(\"qr\")) = 0.0f0\n",
      "minimum(patch.var(\"qr\")) = 0.0f0\n",
      "maximum(patch.var(\"qr\")) = 0.0f0\n"
     ]
    }
   ],
   "source": [
    "cen_list  = []\n",
    "cen_list2 = []\n",
    "@show length(s.patches)\n",
    "for patch in s.patches\n",
    "    sx, sy, sz = sort(patch.xi), sort(patch.yi), sort(patch.zi)\n",
    "    icen = Int(length(sx) / 2)\n",
    "    xyz = ([sx[icen], sy[icen], sz[icen]] - [sx[1], sy[1], sz[1]]) + [sx[1], sy[1], sz[1]]\n",
    "\n",
    "    if length(keys(patch.aux.vars)) == 0\n",
    "        @show minimum(patch.var(\"qr\")) maximum(patch.var(\"qr\"))\n",
    "        append!(cen_list, [xyz])\n",
    "    else\n",
    "        \n",
    "        append!(cen_list2, [xyz])\n",
    "    end\n",
    "end"
   ]
  },
  {
   "cell_type": "code",
   "execution_count": 54,
   "metadata": {},
   "outputs": [
    {
     "data": {
      "text/plain": [
       "500"
      ]
     },
     "execution_count": 54,
     "metadata": {},
     "output_type": "execute_result"
    }
   ],
   "source": [
    "10*10*5"
   ]
  },
  {
   "cell_type": "code",
   "execution_count": 63,
   "metadata": {},
   "outputs": [],
   "source": [
    "x = first.(cen_list)\n",
    "z = last.(cen_list);\n",
    "\n",
    "x2 = first.(cen_list2)\n",
    "z2 = last.(cen_list2);"
   ]
  },
  {
   "cell_type": "code",
   "execution_count": 64,
   "metadata": {},
   "outputs": [
    {
     "data": {
      "image/png": "[encoded data removed]",
      "text/plain": [
       "Figure(PyObject <Figure size 640x480 with 1 Axes>)"
      ]
     },
     "metadata": {},
     "output_type": "display_data"
    },
    {
     "data": {
      "text/plain": [
       "PyObject <matplotlib.collections.PathCollection object at 0x2adc95733f40>"
      ]
     },
     "execution_count": 64,
     "metadata": {},
     "output_type": "execute_result"
    }
   ],
   "source": [
    "plt.scatter(x, z)\n",
    "plt.scatter(x2, z2)"
   ]
  },
  {
   "cell_type": "code",
   "execution_count": null,
   "metadata": {},
   "outputs": [],
   "source": []
  }
 ],
 "metadata": {
  "kernelspec": {
   "display_name": "Julia 1.6.4",
   "language": "julia",
   "name": "julia-1.6"
  },
  "language_info": {
   "file_extension": ".jl",
   "mimetype": "application/julia",
   "name": "julia",
   "version": "1.6.4"
  },
  "orig_nbformat": 4
 },
 "nbformat": 4,
 "nbformat_minor": 2
}
