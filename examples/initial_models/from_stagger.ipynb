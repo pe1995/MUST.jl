{
 "cells": [
  {
   "attachments": {},
   "cell_type": "markdown",
   "metadata": {},
   "source": [
    "# Packages"
   ]
  },
  {
   "cell_type": "code",
   "execution_count": 18,
   "metadata": {},
   "outputs": [
    {
     "name": "stderr",
     "output_type": "stream",
     "text": [
      "\u001b[32m\u001b[1m  Activating\u001b[22m\u001b[39m project at `/mnt/beegfs/gemini/groups/bergemann/users/eitner/model_grid/MUST.jl/examples/initial_models`\n"
     ]
    }
   ],
   "source": [
    "using Pkg; Pkg.activate(\".\"); \n",
    "using CSV\n",
    "using MUST  # For the models\n",
    "using TSO   # For the EoS\n",
    "using DelimitedFiles\n",
    "using DataFrames\n",
    "using Glob;"
   ]
  },
  {
   "cell_type": "code",
   "execution_count": 19,
   "metadata": {},
   "outputs": [],
   "source": [
    "eos = reload(SqEoS, \"/home/eitner/shared/TS_opacity_tables/opacity_tables/DIS_MARCS_v0.5.5.1/eos.hdf5\");"
   ]
  },
  {
   "attachments": {},
   "cell_type": "markdown",
   "metadata": {},
   "source": [
    "# Infrastructure"
   ]
  },
  {
   "cell_type": "code",
   "execution_count": 20,
   "metadata": {},
   "outputs": [],
   "source": [
    "struct StaggerGrid{DF<:DataFrame}\n",
    "    name :: String\n",
    "    info :: DF\n",
    "end"
   ]
  },
  {
   "attachments": {},
   "cell_type": "markdown",
   "metadata": {},
   "source": [
    "we first create an info csv file, that will represent the Stagger grid"
   ]
  },
  {
   "cell_type": "code",
   "execution_count": 21,
   "metadata": {},
   "outputs": [],
   "source": [
    "folder = \"/mnt/beegfs/gemini/groups/bergemann/users/shared-storage/bergemann-data/Stagger_zaz/grid/\"\n",
    "listOfFolders = [f[1:end-1] for f in glob(\"*/\", folder) if isdir(f)]\n",
    "listOfFolderNames = [f[first(findlast(\"/\", f))+1:end] for f in listOfFolders]\n",
    "\n",
    "FolderNamesMask   = [f[1]=='t' for f in listOfFolderNames]\n",
    "listOfFolders     = listOfFolders[FolderNamesMask]\n",
    "listOfFolderNames = listOfFolderNames[FolderNamesMask];"
   ]
  },
  {
   "cell_type": "code",
   "execution_count": 22,
   "metadata": {},
   "outputs": [],
   "source": [
    "## only for Remo sub-folder\n",
    "\n",
    "#for (i, f) in enumerate(listOfFolders)\n",
    "#    f_intern = glob(\"*/\", f)\n",
    "#    f_intern = f_intern[isdir.(f_intern)]\n",
    "#    if length(f_intern) > 1\n",
    "#        @warn \"there are more than one entried in $(f)\"\n",
    "#    end\n",
    "#    f_intern = f_intern |> first\n",
    "#   \n",
    "#    listOfFolders[i] = f_intern\n",
    "#end"
   ]
  },
  {
   "cell_type": "code",
   "execution_count": 23,
   "metadata": {},
   "outputs": [],
   "source": [
    "meshFiles = [\"\" for _ in listOfFolders]\n",
    "snapshots = [\"\" for _ in listOfFolders]\n",
    "isPresent  = trues(length(meshFiles))\n",
    "\n",
    "for (i, f) in enumerate(listOfFolders)\n",
    "    mesh_file = glob(\"*.msh\", f)\n",
    "    \n",
    "    mesh_file = if length(mesh_file) == 0\n",
    "        #@warn \"No mesh file in $(f)\"\n",
    "        isPresent[i] = false\n",
    "        nothing\n",
    "    elseif length(mesh_file) > 1\n",
    "        @warn \"More than one mesh file present in $(f)\"\n",
    "        fist(mesh_file)\n",
    "    else\n",
    "        first(mesh_file)\n",
    "    end\n",
    "\n",
    "    meshFiles[i] = isnothing(mesh_file) ?  \"\" : basename(mesh_file)\n",
    "\n",
    "\n",
    "\n",
    "    snap_file = glob(\"*.aux\", f)\n",
    "    \n",
    "    snap_file = if length(snap_file) == 0\n",
    "        #@warn \"No snap file in $(f)\"\n",
    "        isPresent[i] = false\n",
    "        nothing\n",
    "    elseif length(snap_file) > 1\n",
    "        #@warn \"More than one snap file present in $(f)\"\n",
    "        rand(snap_file)\n",
    "    else\n",
    "        fist(snap_file)\n",
    "    end\n",
    "\n",
    "    snapshots[i] = isnothing(snap_file) ? \"\" : basename(snap_file)[1:findlast('.', snap_file |> basename)-1]\n",
    "end\n",
    "\n",
    "\n",
    "info = DataFrame(Dict(\"name\"=>listOfFolderNames[isPresent], \"folder\"=>listOfFolders[isPresent], \"mesh\"=>meshFiles[isPresent], \"snapshot\"=>snapshots[isPresent]));"
   ]
  },
  {
   "cell_type": "code",
   "execution_count": 24,
   "metadata": {},
   "outputs": [
    {
     "data": {
      "text/html": [
       "<div><div style = \"float: left;\"><span>11×4 DataFrame</span></div><div style = \"clear: both;\"></div></div><div class = \"data-frame\" style = \"overflow-x: scroll;\"><table class = \"data-frame\" style = \"margin-bottom: 6px;\"><thead><tr class = \"header\"><th class = \"rowNumber\" style = \"font-weight: bold; text-align: right;\">Row</th><th style = \"text-align: left;\">folder</th><th style = \"text-align: left;\">mesh</th><th style = \"text-align: left;\">name</th><th style = \"text-align: left;\">snapshot</th></tr><tr class = \"subheader headerLastRow\"><th class = \"rowNumber\" style = \"font-weight: bold; text-align: right;\"></th><th title = \"String\" style = \"text-align: left;\">String</th><th title = \"String\" style = \"text-align: left;\">String</th><th title = \"String\" style = \"text-align: left;\">String</th><th title = \"String\" style = \"text-align: left;\">String</th></tr></thead><tbody><tr><td class = \"rowNumber\" style = \"font-weight: bold; text-align: right;\">1</td><td style = \"text-align: left;\">/mnt/beegfs/gemini/groups/bergemann/users/shared-storage/bergemann-data/Stagger_zaz/grid/t45g20m00</td><td style = \"text-align: left;\">t45g20m00.msh</td><td style = \"text-align: left;\">t45g20m00</td><td style = \"text-align: left;\">t45g20m00_00168</td></tr><tr><td class = \"rowNumber\" style = \"font-weight: bold; text-align: right;\">2</td><td style = \"text-align: left;\">/mnt/beegfs/gemini/groups/bergemann/users/shared-storage/bergemann-data/Stagger_zaz/grid/t45g20m20</td><td style = \"text-align: left;\">t45g20m20.msh</td><td style = \"text-align: left;\">t45g20m20</td><td style = \"text-align: left;\">t45g20m20_00031</td></tr><tr><td class = \"rowNumber\" style = \"font-weight: bold; text-align: right;\">3</td><td style = \"text-align: left;\">/mnt/beegfs/gemini/groups/bergemann/users/shared-storage/bergemann-data/Stagger_zaz/grid/t45g20m40</td><td style = \"text-align: left;\">t45g20m40.msh</td><td style = \"text-align: left;\">t45g20m40</td><td style = \"text-align: left;\">t45g20m40_00010</td></tr><tr><td class = \"rowNumber\" style = \"font-weight: bold; text-align: right;\">4</td><td style = \"text-align: left;\">/mnt/beegfs/gemini/groups/bergemann/users/shared-storage/bergemann-data/Stagger_zaz/grid/t45g40m00</td><td style = \"text-align: left;\">t45g40m00.msh</td><td style = \"text-align: left;\">t45g40m00</td><td style = \"text-align: left;\">t45g40m00_00042</td></tr><tr><td class = \"rowNumber\" style = \"font-weight: bold; text-align: right;\">5</td><td style = \"text-align: left;\">/mnt/beegfs/gemini/groups/bergemann/users/shared-storage/bergemann-data/Stagger_zaz/grid/t55g45m00</td><td style = \"text-align: left;\">t55g45m00.msh</td><td style = \"text-align: left;\">t55g45m00</td><td style = \"text-align: left;\">t55g45m00_00000</td></tr><tr><td class = \"rowNumber\" style = \"font-weight: bold; text-align: right;\">6</td><td style = \"text-align: left;\">/mnt/beegfs/gemini/groups/bergemann/users/shared-storage/bergemann-data/Stagger_zaz/grid/t5777g44m00</td><td style = \"text-align: left;\">t5777g44m0005.msh</td><td style = \"text-align: left;\">t5777g44m00</td><td style = \"text-align: left;\">t5777g44m0005_00070</td></tr><tr><td class = \"rowNumber\" style = \"font-weight: bold; text-align: right;\">7</td><td style = \"text-align: left;\">/mnt/beegfs/gemini/groups/bergemann/users/shared-storage/bergemann-data/Stagger_zaz/grid/t60g45m00</td><td style = \"text-align: left;\">t60g45m00.msh</td><td style = \"text-align: left;\">t60g45m00</td><td style = \"text-align: left;\">t60g45m00_00068</td></tr><tr><td class = \"rowNumber\" style = \"font-weight: bold; text-align: right;\">8</td><td style = \"text-align: left;\">/mnt/beegfs/gemini/groups/bergemann/users/shared-storage/bergemann-data/Stagger_zaz/grid/t65g40m20</td><td style = \"text-align: left;\">t65g40m20.msh</td><td style = \"text-align: left;\">t65g40m20</td><td style = \"text-align: left;\">t65g40m20_00052</td></tr><tr><td class = \"rowNumber\" style = \"font-weight: bold; text-align: right;\">9</td><td style = \"text-align: left;\">/mnt/beegfs/gemini/groups/bergemann/users/shared-storage/bergemann-data/Stagger_zaz/grid/t65g40m40</td><td style = \"text-align: left;\">t65g40m40.msh</td><td style = \"text-align: left;\">t65g40m40</td><td style = \"text-align: left;\">t65g40m40_00027</td></tr><tr><td class = \"rowNumber\" style = \"font-weight: bold; text-align: right;\">10</td><td style = \"text-align: left;\">/mnt/beegfs/gemini/groups/bergemann/users/shared-storage/bergemann-data/Stagger_zaz/grid/t65g45m00</td><td style = \"text-align: left;\">t65g45m00.msh</td><td style = \"text-align: left;\">t65g45m00</td><td style = \"text-align: left;\">t65g45m00_00006</td></tr><tr><td class = \"rowNumber\" style = \"font-weight: bold; text-align: right;\">11</td><td style = \"text-align: left;\">/mnt/beegfs/gemini/groups/bergemann/users/shared-storage/bergemann-data/Stagger_zaz/grid/t70g45m00</td><td style = \"text-align: left;\">t70g45m00.msh</td><td style = \"text-align: left;\">t70g45m00</td><td style = \"text-align: left;\">t70g45m00_00094</td></tr></tbody></table></div>"
      ],
      "text/latex": [
       "\\begin{tabular}{r|cc}\n",
       "\t& folder & \\\\\n",
       "\t\\hline\n",
       "\t& String & \\\\\n",
       "\t\\hline\n",
       "\t1 & /mnt/beegfs/gemini/groups/bergemann/users/shared-storage/bergemann-data/Stagger\\_zaz/grid/t45g20m00 & $\\dots$ \\\\\n",
       "\t2 & /mnt/beegfs/gemini/groups/bergemann/users/shared-storage/bergemann-data/Stagger\\_zaz/grid/t45g20m20 & $\\dots$ \\\\\n",
       "\t3 & /mnt/beegfs/gemini/groups/bergemann/users/shared-storage/bergemann-data/Stagger\\_zaz/grid/t45g20m40 & $\\dots$ \\\\\n",
       "\t4 & /mnt/beegfs/gemini/groups/bergemann/users/shared-storage/bergemann-data/Stagger\\_zaz/grid/t45g40m00 & $\\dots$ \\\\\n",
       "\t5 & /mnt/beegfs/gemini/groups/bergemann/users/shared-storage/bergemann-data/Stagger\\_zaz/grid/t55g45m00 & $\\dots$ \\\\\n",
       "\t6 & /mnt/beegfs/gemini/groups/bergemann/users/shared-storage/bergemann-data/Stagger\\_zaz/grid/t5777g44m00 & $\\dots$ \\\\\n",
       "\t7 & /mnt/beegfs/gemini/groups/bergemann/users/shared-storage/bergemann-data/Stagger\\_zaz/grid/t60g45m00 & $\\dots$ \\\\\n",
       "\t8 & /mnt/beegfs/gemini/groups/bergemann/users/shared-storage/bergemann-data/Stagger\\_zaz/grid/t65g40m20 & $\\dots$ \\\\\n",
       "\t9 & /mnt/beegfs/gemini/groups/bergemann/users/shared-storage/bergemann-data/Stagger\\_zaz/grid/t65g40m40 & $\\dots$ \\\\\n",
       "\t10 & /mnt/beegfs/gemini/groups/bergemann/users/shared-storage/bergemann-data/Stagger\\_zaz/grid/t65g45m00 & $\\dots$ \\\\\n",
       "\t11 & /mnt/beegfs/gemini/groups/bergemann/users/shared-storage/bergemann-data/Stagger\\_zaz/grid/t70g45m00 & $\\dots$ \\\\\n",
       "\\end{tabular}\n"
      ],
      "text/plain": [
       "\u001b[1m11×4 DataFrame\u001b[0m\n",
       "\u001b[1m Row \u001b[0m│\u001b[1m folder                            \u001b[0m\u001b[1m mesh              \u001b[0m\u001b[1m name        \u001b[0m\u001b[1m snap\u001b[0m ⋯\n",
       "     │\u001b[90m String                            \u001b[0m\u001b[90m String            \u001b[0m\u001b[90m String      \u001b[0m\u001b[90m Stri\u001b[0m ⋯\n",
       "─────┼──────────────────────────────────────────────────────────────────────────\n",
       "   1 │ /mnt/beegfs/gemini/groups/bergem…  t45g20m00.msh      t45g20m00    t45g ⋯\n",
       "   2 │ /mnt/beegfs/gemini/groups/bergem…  t45g20m20.msh      t45g20m20    t45g\n",
       "   3 │ /mnt/beegfs/gemini/groups/bergem…  t45g20m40.msh      t45g20m40    t45g\n",
       "   4 │ /mnt/beegfs/gemini/groups/bergem…  t45g40m00.msh      t45g40m00    t45g\n",
       "   5 │ /mnt/beegfs/gemini/groups/bergem…  t55g45m00.msh      t55g45m00    t55g ⋯\n",
       "   6 │ /mnt/beegfs/gemini/groups/bergem…  t5777g44m0005.msh  t5777g44m00  t577\n",
       "   7 │ /mnt/beegfs/gemini/groups/bergem…  t60g45m00.msh      t60g45m00    t60g\n",
       "   8 │ /mnt/beegfs/gemini/groups/bergem…  t65g40m20.msh      t65g40m20    t65g\n",
       "   9 │ /mnt/beegfs/gemini/groups/bergem…  t65g40m40.msh      t65g40m40    t65g ⋯\n",
       "  10 │ /mnt/beegfs/gemini/groups/bergem…  t65g45m00.msh      t65g45m00    t65g\n",
       "  11 │ /mnt/beegfs/gemini/groups/bergem…  t70g45m00.msh      t70g45m00    t70g\n",
       "\u001b[36m                                                                1 column omitted\u001b[0m"
      ]
     },
     "metadata": {},
     "output_type": "display_data"
    }
   ],
   "source": [
    "info"
   ]
  },
  {
   "attachments": {},
   "cell_type": "markdown",
   "metadata": {},
   "source": [
    "Now we add information of the models and the preferred snapshot etc."
   ]
  },
  {
   "cell_type": "code",
   "execution_count": 25,
   "metadata": {},
   "outputs": [
    {
     "data": {
      "text/plain": [
       "model_properties (generic function with 1 method)"
      ]
     },
     "metadata": {},
     "output_type": "display_data"
    }
   ],
   "source": [
    "function model_properties(name, path, snap_name)\n",
    "    ## we get the temperature and logg from the name only at this stage\n",
    "    teff =  parse(Float64, name[2:findfirst('g', name)-1]) .*100\n",
    "    logg =  parse(Float64, name[findfirst('g', name)+1:findfirst('m', name)-1]) ./10\n",
    "    feh  = -parse(Float64, name[findfirst('m', name)+1:end]) ./10\n",
    "\n",
    "    b = MUST.Box(MUST.StaggerSnap(snap_name, path))\n",
    "    #MUST.save(b, name=\"box_stagger_$(snap_name)\", folder=\"\")\n",
    "\n",
    "    T = MUST.plane_statistic(MUST.mean, b, :T)\n",
    "    d = MUST.plane_statistic(MUST.mean, b, :d)\n",
    "    z = MUST.axis(b, :z)\n",
    "\n",
    "    resolution(model) = minimum(abs.(diff(MUST.axis(model, :z))))\n",
    "    resolution_horizontal(model) = minimum(abs.(diff(MUST.axis(model, :x))))\n",
    "\tΔt(R, u, c=1.0) = c * R / u\n",
    "    scaling(δt, goal_scale=1e-3) = exp10.(round(log10(δt / goal_scale), sigdigits=1))\n",
    "\n",
    "    vmax = max(abs(maximum(b[:ux])), \n",
    "\t\t\t\tabs(maximum(b[:uy])), \n",
    "\t\t\t\tabs(maximum(b[:uz])))\n",
    "\n",
    "    s = scaling(Δt(resolution(b), vmax, 0.1))\n",
    "\n",
    "    #initial_model = SimpleInitialModel(teff, logg, z, T, log.(d))\n",
    "    \n",
    "    open(\"$(snap_name)_av.dat\", \"w\") do f\n",
    "        writedlm(f, [z T log.(d)])\n",
    "    end\n",
    "\n",
    "    ## save return the additional column values\n",
    "    return (teff, logg, feh, \n",
    "            minimum(b[:x]), maximum(b[:x]), \n",
    "            minimum(b[:y]), maximum(b[:y]), \n",
    "            minimum(b[:z]), maximum(b[:z]), \n",
    "            min(minimum(b[:ux]), minimum(b[:uy]), minimum(b[:uz])),\n",
    "            max(maximum(b[:ux]), maximum(b[:uy]), maximum(b[:uz])),\n",
    "            s,\n",
    "            resolution_horizontal(b),\n",
    "            \"$(snap_name)_av.dat\")\n",
    "end"
   ]
  },
  {
   "cell_type": "code",
   "execution_count": 26,
   "metadata": {},
   "outputs": [
    {
     "name": "stderr",
     "output_type": "stream",
     "text": [
      "┌ Info: processing t45g20m00\n",
      "└ @ Main /home/eitner/shared/model_grid/examples/initial_models/from_stagger.ipynb:4\n",
      "┌ Info: Increase number of points from 238 to 440\n",
      "└ @ MUST /mnt/beegfs/gemini/groups/bergemann/users/eitner/model_grid/MUST.jl/src/_atmos2legacy.jl:173\n"
     ]
    },
    {
     "name": "stderr",
     "output_type": "stream",
     "text": [
      "┌ Info: processing t45g20m20\n",
      "└ @ Main /home/eitner/shared/model_grid/examples/initial_models/from_stagger.ipynb:4\n",
      "┌ Info: Increase number of points from 238 to 351\n",
      "└ @ MUST /mnt/beegfs/gemini/groups/bergemann/users/eitner/model_grid/MUST.jl/src/_atmos2legacy.jl:173\n"
     ]
    },
    {
     "name": "stderr",
     "output_type": "stream",
     "text": [
      "┌ Info: processing t45g20m40\n",
      "└ @ Main /home/eitner/shared/model_grid/examples/initial_models/from_stagger.ipynb:4\n",
      "┌ Info: Increase number of points from 238 to 440\n",
      "└ @ MUST /mnt/beegfs/gemini/groups/bergemann/users/eitner/model_grid/MUST.jl/src/_atmos2legacy.jl:173\n"
     ]
    },
    {
     "name": "stderr",
     "output_type": "stream",
     "text": [
      "┌ Info: processing t45g40m00\n",
      "└ @ Main /home/eitner/shared/model_grid/examples/initial_models/from_stagger.ipynb:4\n",
      "┌ Info: Increase number of points from 238 to 445\n",
      "└ @ MUST /mnt/beegfs/gemini/groups/bergemann/users/eitner/model_grid/MUST.jl/src/_atmos2legacy.jl:173\n"
     ]
    },
    {
     "name": "stderr",
     "output_type": "stream",
     "text": [
      "┌ Info: processing t55g45m00\n",
      "└ @ Main /home/eitner/shared/model_grid/examples/initial_models/from_stagger.ipynb:4\n",
      "┌ Info: Increase number of points from 238 to 411\n",
      "└ @ MUST /mnt/beegfs/gemini/groups/bergemann/users/eitner/model_grid/MUST.jl/src/_atmos2legacy.jl:173\n"
     ]
    },
    {
     "name": "stderr",
     "output_type": "stream",
     "text": [
      "┌ Info: processing t5777g44m00\n",
      "└ @ Main /home/eitner/shared/model_grid/examples/initial_models/from_stagger.ipynb:4\n",
      "┌ Info: Increase number of points from 238 to 445\n",
      "└ @ MUST /mnt/beegfs/gemini/groups/bergemann/users/eitner/model_grid/MUST.jl/src/_atmos2legacy.jl:173\n"
     ]
    },
    {
     "name": "stderr",
     "output_type": "stream",
     "text": [
      "┌ Info: processing t60g45m00\n",
      "└ @ Main /home/eitner/shared/model_grid/examples/initial_models/from_stagger.ipynb:4\n",
      "┌ Info: Increase number of points from 238 to 453\n",
      "└ @ MUST /mnt/beegfs/gemini/groups/bergemann/users/eitner/model_grid/MUST.jl/src/_atmos2legacy.jl:173\n"
     ]
    },
    {
     "name": "stderr",
     "output_type": "stream",
     "text": [
      "┌ Info: processing t65g40m20\n",
      "└ @ Main /home/eitner/shared/model_grid/examples/initial_models/from_stagger.ipynb:4\n",
      "┌ Info: Increase number of points from 238 to 636\n",
      "└ @ MUST /mnt/beegfs/gemini/groups/bergemann/users/eitner/model_grid/MUST.jl/src/_atmos2legacy.jl:173\n"
     ]
    },
    {
     "name": "stderr",
     "output_type": "stream",
     "text": [
      "┌ Info: processing t65g40m40\n",
      "└ @ Main /home/eitner/shared/model_grid/examples/initial_models/from_stagger.ipynb:4\n",
      "┌ Info: Increase number of points from 238 to 579\n",
      "└ @ MUST /mnt/beegfs/gemini/groups/bergemann/users/eitner/model_grid/MUST.jl/src/_atmos2legacy.jl:173\n"
     ]
    },
    {
     "name": "stderr",
     "output_type": "stream",
     "text": [
      "┌ Info: processing t65g45m00\n",
      "└ @ Main /home/eitner/shared/model_grid/examples/initial_models/from_stagger.ipynb:4\n",
      "┌ Info: Increase number of points from 238 to 465\n",
      "└ @ MUST /mnt/beegfs/gemini/groups/bergemann/users/eitner/model_grid/MUST.jl/src/_atmos2legacy.jl:173\n"
     ]
    },
    {
     "name": "stderr",
     "output_type": "stream",
     "text": [
      "┌ Info: processing t70g45m00\n",
      "└ @ Main /home/eitner/shared/model_grid/examples/initial_models/from_stagger.ipynb:4\n",
      "┌ Info: Increase number of points from 238 to 510\n",
      "└ @ MUST /mnt/beegfs/gemini/groups/bergemann/users/eitner/model_grid/MUST.jl/src/_atmos2legacy.jl:173\n"
     ]
    }
   ],
   "source": [
    "teff, logg, feh, mi_x, ma_x, mi_y, ma_y, mi_z, ma_z, vmin, vmax, tscale, hres, av_path = [], [], [], [], [], [], [], [], [], [], [], [], [], []\n",
    "\n",
    "for i in 1:nrow(info)\n",
    "    @info \"processing $(info[i, \"name\"])\"\n",
    "    res = model_properties(info[i, \"name\"], info[i, \"folder\"], info[i, \"snapshot\"])\n",
    "\n",
    "    append!(teff,    [res[1]])\n",
    "    append!(logg,    [res[2]])\n",
    "    append!(feh,     [res[3]])\n",
    "    append!(mi_x,    [res[4]])\n",
    "    append!(ma_x,    [res[5]])\n",
    "    append!(mi_y,    [res[6]])\n",
    "    append!(ma_y,    [res[7]])\n",
    "    append!(mi_z,    [res[8]])\n",
    "    append!(ma_z,    [res[9]])\n",
    "    append!(vmin,    [res[10]])\n",
    "    append!(vmax,    [res[11]])\n",
    "    append!(tscale,  [res[12]])\n",
    "    append!(hres,    [res[13]])\n",
    "    append!(av_path, [res[14]])\n",
    "end"
   ]
  },
  {
   "cell_type": "code",
   "execution_count": 27,
   "metadata": {},
   "outputs": [],
   "source": [
    "info[!, \"teff\"]    = teff\n",
    "info[!, \"logg\"]    = logg\n",
    "info[!, \"feh\"]     = feh\n",
    "info[!, \"mi_x\"]    = mi_x\n",
    "info[!, \"ma_x\"]    = ma_x\n",
    "info[!, \"mi_y\"]    = mi_y\n",
    "info[!, \"ma_y\"]    = ma_y\n",
    "info[!, \"mi_z\"]    = mi_z\n",
    "info[!, \"ma_z\"]    = ma_z\n",
    "info[!, \"vmin\"]    = vmin\n",
    "info[!, \"vmax\"]    = vmax\n",
    "info[!, \"tscale\"]  = tscale\n",
    "info[!, \"hres\"]    = hres\n",
    "info[!, \"av_path\"] = av_path;"
   ]
  },
  {
   "cell_type": "code",
   "execution_count": 28,
   "metadata": {},
   "outputs": [
    {
     "data": {
      "text/plain": [
       "\"stagger_grid.mgrid\""
      ]
     },
     "metadata": {},
     "output_type": "display_data"
    }
   ],
   "source": [
    "CSV.write(\"stagger_grid.mgrid\", info)"
   ]
  },
  {
   "cell_type": "code",
   "execution_count": 29,
   "metadata": {},
   "outputs": [],
   "source": [
    "# copy the average profiles to the source folders\n",
    "for i in 1:nrow(info)\n",
    "    av_name = basename(info[i, \"av_path\"])\n",
    "    dest    = joinpath(info[i, \"folder\"], av_name)\n",
    "\n",
    "    #cp(info[i, \"av_path\"], dest)\n",
    "end"
   ]
  },
  {
   "attachments": {},
   "cell_type": "markdown",
   "metadata": {},
   "source": [
    "# Load the Grid"
   ]
  },
  {
   "cell_type": "code",
   "execution_count": 30,
   "metadata": {},
   "outputs": [
    {
     "data": {
      "text/plain": [
       "StaggerGrid"
      ]
     },
     "metadata": {},
     "output_type": "display_data"
    }
   ],
   "source": [
    "StaggerGrid(path) = begin\n",
    "    info = CSV.read(path, DataFrame)\n",
    "    name = basename(path)[1:findlast('.', basename(path))-1]\n",
    "\n",
    "    StaggerGrid(name, info)\n",
    "end"
   ]
  },
  {
   "cell_type": "code",
   "execution_count": 31,
   "metadata": {},
   "outputs": [],
   "source": [
    "grid = StaggerGrid(\"stagger_grid.mgrid\");"
   ]
  },
  {
   "cell_type": "code",
   "execution_count": 32,
   "metadata": {},
   "outputs": [
    {
     "data": {
      "text/html": [
       "<div><div style = \"float: left;\"><span>11×18 DataFrame</span></div><div style = \"clear: both;\"></div></div><div class = \"data-frame\" style = \"overflow-x: scroll;\"><table class = \"data-frame\" style = \"margin-bottom: 6px;\"><thead><tr class = \"header\"><th class = \"rowNumber\" style = \"font-weight: bold; text-align: right;\">Row</th><th style = \"text-align: left;\">folder</th><th style = \"text-align: left;\">mesh</th><th style = \"text-align: left;\">name</th><th style = \"text-align: left;\">snapshot</th><th style = \"text-align: left;\">teff</th><th style = \"text-align: left;\">logg</th><th style = \"text-align: left;\">feh</th><th style = \"text-align: left;\">mi_x</th><th style = \"text-align: left;\">ma_x</th><th style = \"text-align: left;\">mi_y</th><th style = \"text-align: left;\">ma_y</th><th style = \"text-align: left;\">mi_z</th><th style = \"text-align: left;\">ma_z</th><th style = \"text-align: left;\">vmin</th><th style = \"text-align: left;\">vmax</th><th style = \"text-align: left;\">tscale</th><th style = \"text-align: left;\">hres</th><th style = \"text-align: left;\">av_path</th></tr><tr class = \"subheader headerLastRow\"><th class = \"rowNumber\" style = \"font-weight: bold; text-align: right;\"></th><th title = \"String\" style = \"text-align: left;\">String</th><th title = \"String31\" style = \"text-align: left;\">String31</th><th title = \"String15\" style = \"text-align: left;\">String15</th><th title = \"String31\" style = \"text-align: left;\">String31</th><th title = \"Float64\" style = \"text-align: left;\">Float64</th><th title = \"Float64\" style = \"text-align: left;\">Float64</th><th title = \"Float64\" style = \"text-align: left;\">Float64</th><th title = \"Float64\" style = \"text-align: left;\">Float64</th><th title = \"Float64\" style = \"text-align: left;\">Float64</th><th title = \"Float64\" style = \"text-align: left;\">Float64</th><th title = \"Float64\" style = \"text-align: left;\">Float64</th><th title = \"Float64\" style = \"text-align: left;\">Float64</th><th title = \"Float64\" style = \"text-align: left;\">Float64</th><th title = \"Float64\" style = \"text-align: left;\">Float64</th><th title = \"Float64\" style = \"text-align: left;\">Float64</th><th title = \"Float64\" style = \"text-align: left;\">Float64</th><th title = \"Float64\" style = \"text-align: left;\">Float64</th><th title = \"String31\" style = \"text-align: left;\">String31</th></tr></thead><tbody><tr><td class = \"rowNumber\" style = \"font-weight: bold; text-align: right;\">1</td><td style = \"text-align: left;\">/mnt/beegfs/gemini/groups/bergemann/users/shared-storage/bergemann-data/Stagger_zaz/grid/t45g20m00</td><td style = \"text-align: left;\">t45g20m00.msh</td><td style = \"text-align: left;\">t45g20m00</td><td style = \"text-align: left;\">t45g20m00_00168</td><td style = \"text-align: right;\">4500.0</td><td style = \"text-align: right;\">2.0</td><td style = \"text-align: right;\">-0.0</td><td style = \"text-align: right;\">0.0</td><td style = \"text-align: right;\">2.39e11</td><td style = \"text-align: right;\">0.0</td><td style = \"text-align: right;\">2.39e11</td><td style = \"text-align: right;\">-8.85898e10</td><td style = \"text-align: right;\">2.62912e10</td><td style = \"text-align: right;\">-2.38794e6</td><td style = \"text-align: right;\">2.85569e6</td><td style = \"text-align: right;\">10000.0</td><td style = \"text-align: right;\">9.99997e8</td><td style = \"text-align: left;\">t45g20m00_00168_av.dat</td></tr><tr><td class = \"rowNumber\" style = \"font-weight: bold; text-align: right;\">2</td><td style = \"text-align: left;\">/mnt/beegfs/gemini/groups/bergemann/users/shared-storage/bergemann-data/Stagger_zaz/grid/t45g20m20</td><td style = \"text-align: left;\">t45g20m20.msh</td><td style = \"text-align: left;\">t45g20m20</td><td style = \"text-align: left;\">t45g20m20_00031</td><td style = \"text-align: right;\">4500.0</td><td style = \"text-align: right;\">2.0</td><td style = \"text-align: right;\">-2.0</td><td style = \"text-align: right;\">0.0</td><td style = \"text-align: right;\">1.69292e11</td><td style = \"text-align: right;\">0.0</td><td style = \"text-align: right;\">1.69292e11</td><td style = \"text-align: right;\">-4.62167e10</td><td style = \"text-align: right;\">1.93811e10</td><td style = \"text-align: right;\">-1.33372e6</td><td style = \"text-align: right;\">1.84548e6</td><td style = \"text-align: right;\">10000.0</td><td style = \"text-align: right;\">7.08313e8</td><td style = \"text-align: left;\">t45g20m20_00031_av.dat</td></tr><tr><td class = \"rowNumber\" style = \"font-weight: bold; text-align: right;\">3</td><td style = \"text-align: left;\">/mnt/beegfs/gemini/groups/bergemann/users/shared-storage/bergemann-data/Stagger_zaz/grid/t45g20m40</td><td style = \"text-align: left;\">t45g20m40.msh</td><td style = \"text-align: left;\">t45g20m40</td><td style = \"text-align: left;\">t45g20m40_00010</td><td style = \"text-align: right;\">4500.0</td><td style = \"text-align: right;\">2.0</td><td style = \"text-align: right;\">-4.0</td><td style = \"text-align: right;\">0.0</td><td style = \"text-align: right;\">1.49375e11</td><td style = \"text-align: right;\">0.0</td><td style = \"text-align: right;\">1.49375e11</td><td style = \"text-align: right;\">-5.08822e10</td><td style = \"text-align: right;\">2.16435e10</td><td style = \"text-align: right;\">-1.36513e6</td><td style = \"text-align: right;\">2.62862e6</td><td style = \"text-align: right;\">10000.0</td><td style = \"text-align: right;\">6.24984e8</td><td style = \"text-align: left;\">t45g20m40_00010_av.dat</td></tr><tr><td class = \"rowNumber\" style = \"font-weight: bold; text-align: right;\">4</td><td style = \"text-align: left;\">/mnt/beegfs/gemini/groups/bergemann/users/shared-storage/bergemann-data/Stagger_zaz/grid/t45g40m00</td><td style = \"text-align: left;\">t45g40m00.msh</td><td style = \"text-align: left;\">t45g40m00</td><td style = \"text-align: left;\">t45g40m00_00042</td><td style = \"text-align: right;\">4500.0</td><td style = \"text-align: right;\">4.0</td><td style = \"text-align: right;\">-0.0</td><td style = \"text-align: right;\">0.0</td><td style = \"text-align: right;\">1.39417e9</td><td style = \"text-align: right;\">0.0</td><td style = \"text-align: right;\">1.39417e9</td><td style = \"text-align: right;\">-5.99664e8</td><td style = \"text-align: right;\">1.69718e8</td><td style = \"text-align: right;\">-8.94969e5</td><td style = \"text-align: right;\">8.70332e5</td><td style = \"text-align: right;\">100.0</td><td style = \"text-align: right;\">5.83322e6</td><td style = \"text-align: left;\">t45g40m00_00042_av.dat</td></tr><tr><td class = \"rowNumber\" style = \"font-weight: bold; text-align: right;\">5</td><td style = \"text-align: left;\">/mnt/beegfs/gemini/groups/bergemann/users/shared-storage/bergemann-data/Stagger_zaz/grid/t55g45m00</td><td style = \"text-align: left;\">t55g45m00.msh</td><td style = \"text-align: left;\">t55g45m00</td><td style = \"text-align: left;\">t55g45m00_00000</td><td style = \"text-align: right;\">5500.0</td><td style = \"text-align: right;\">4.5</td><td style = \"text-align: right;\">-0.0</td><td style = \"text-align: right;\">0.0</td><td style = \"text-align: right;\">6.97083e8</td><td style = \"text-align: right;\">0.0</td><td style = \"text-align: right;\">6.97083e8</td><td style = \"text-align: right;\">-2.28791e8</td><td style = \"text-align: right;\">8.38153e7</td><td style = \"text-align: right;\">-1.13401e6</td><td style = \"text-align: right;\">1.14704e6</td><td style = \"text-align: right;\">100.0</td><td style = \"text-align: right;\">2.91661e6</td><td style = \"text-align: left;\">t55g45m00_00000_av.dat</td></tr><tr><td class = \"rowNumber\" style = \"font-weight: bold; text-align: right;\">6</td><td style = \"text-align: left;\">/mnt/beegfs/gemini/groups/bergemann/users/shared-storage/bergemann-data/Stagger_zaz/grid/t5777g44m00</td><td style = \"text-align: left;\">t5777g44m0005.msh</td><td style = \"text-align: left;\">t5777g44m00</td><td style = \"text-align: left;\">t5777g44m0005_00070</td><td style = \"text-align: right;\">577700.0</td><td style = \"text-align: right;\">4.4</td><td style = \"text-align: right;\">-0.0</td><td style = \"text-align: right;\">0.0</td><td style = \"text-align: right;\">7.96667e8</td><td style = \"text-align: right;\">0.0</td><td style = \"text-align: right;\">7.96667e8</td><td style = \"text-align: right;\">-2.93971e8</td><td style = \"text-align: right;\">9.57648e7</td><td style = \"text-align: right;\">-1.32773e6</td><td style = \"text-align: right;\">1.58787e6</td><td style = \"text-align: right;\">100.0</td><td style = \"text-align: right;\">3.33328e6</td><td style = \"text-align: left;\">t5777g44m0005_00070_av.dat</td></tr><tr><td class = \"rowNumber\" style = \"font-weight: bold; text-align: right;\">7</td><td style = \"text-align: left;\">/mnt/beegfs/gemini/groups/bergemann/users/shared-storage/bergemann-data/Stagger_zaz/grid/t60g45m00</td><td style = \"text-align: left;\">t60g45m00.msh</td><td style = \"text-align: left;\">t60g45m00</td><td style = \"text-align: left;\">t60g45m00_00068</td><td style = \"text-align: right;\">6000.0</td><td style = \"text-align: right;\">4.5</td><td style = \"text-align: right;\">-0.0</td><td style = \"text-align: right;\">0.0</td><td style = \"text-align: right;\">6.97083e8</td><td style = \"text-align: right;\">0.0</td><td style = \"text-align: right;\">6.97083e8</td><td style = \"text-align: right;\">-2.63195e8</td><td style = \"text-align: right;\">8.59617e7</td><td style = \"text-align: right;\">-1.40654e6</td><td style = \"text-align: right;\">1.48123e6</td><td style = \"text-align: right;\">100.0</td><td style = \"text-align: right;\">2.91661e6</td><td style = \"text-align: left;\">t60g45m00_00068_av.dat</td></tr><tr><td class = \"rowNumber\" style = \"font-weight: bold; text-align: right;\">8</td><td style = \"text-align: left;\">/mnt/beegfs/gemini/groups/bergemann/users/shared-storage/bergemann-data/Stagger_zaz/grid/t65g40m20</td><td style = \"text-align: left;\">t65g40m20.msh</td><td style = \"text-align: left;\">t65g40m20</td><td style = \"text-align: left;\">t65g40m20_00052</td><td style = \"text-align: right;\">6500.0</td><td style = \"text-align: right;\">4.0</td><td style = \"text-align: right;\">-2.0</td><td style = \"text-align: right;\">0.0</td><td style = \"text-align: right;\">1.99167e9</td><td style = \"text-align: right;\">0.0</td><td style = \"text-align: right;\">1.99167e9</td><td style = \"text-align: right;\">-1.0953e9</td><td style = \"text-align: right;\">3.0781e8</td><td style = \"text-align: right;\">-1.83404e6</td><td style = \"text-align: right;\">2.65585e6</td><td style = \"text-align: right;\">100.0</td><td style = \"text-align: right;\">8.33318e6</td><td style = \"text-align: left;\">t65g40m20_00052_av.dat</td></tr><tr><td class = \"rowNumber\" style = \"font-weight: bold; text-align: right;\">9</td><td style = \"text-align: left;\">/mnt/beegfs/gemini/groups/bergemann/users/shared-storage/bergemann-data/Stagger_zaz/grid/t65g40m40</td><td style = \"text-align: left;\">t65g40m40.msh</td><td style = \"text-align: left;\">t65g40m40</td><td style = \"text-align: left;\">t65g40m40_00027</td><td style = \"text-align: right;\">6500.0</td><td style = \"text-align: right;\">4.0</td><td style = \"text-align: right;\">-4.0</td><td style = \"text-align: right;\">0.0</td><td style = \"text-align: right;\">2.19083e9</td><td style = \"text-align: right;\">0.0</td><td style = \"text-align: right;\">2.19083e9</td><td style = \"text-align: right;\">-1.07635e9</td><td style = \"text-align: right;\">3.31133e8</td><td style = \"text-align: right;\">-2.22901e6</td><td style = \"text-align: right;\">3.88219e6</td><td style = \"text-align: right;\">100.0</td><td style = \"text-align: right;\">9.16646e6</td><td style = \"text-align: left;\">t65g40m40_00027_av.dat</td></tr><tr><td class = \"rowNumber\" style = \"font-weight: bold; text-align: right;\">10</td><td style = \"text-align: left;\">/mnt/beegfs/gemini/groups/bergemann/users/shared-storage/bergemann-data/Stagger_zaz/grid/t65g45m00</td><td style = \"text-align: left;\">t65g45m00.msh</td><td style = \"text-align: left;\">t65g45m00</td><td style = \"text-align: left;\">t65g45m00_00006</td><td style = \"text-align: right;\">6500.0</td><td style = \"text-align: right;\">4.5</td><td style = \"text-align: right;\">-0.0</td><td style = \"text-align: right;\">0.0</td><td style = \"text-align: right;\">7.96667e8</td><td style = \"text-align: right;\">0.0</td><td style = \"text-align: right;\">7.96667e8</td><td style = \"text-align: right;\">-3.17081e8</td><td style = \"text-align: right;\">9.42253e7</td><td style = \"text-align: right;\">-1.65396e6</td><td style = \"text-align: right;\">2.44878e6</td><td style = \"text-align: right;\">100.0</td><td style = \"text-align: right;\">3.33331e6</td><td style = \"text-align: left;\">t65g45m00_00006_av.dat</td></tr><tr><td class = \"rowNumber\" style = \"font-weight: bold; text-align: right;\">11</td><td style = \"text-align: left;\">/mnt/beegfs/gemini/groups/bergemann/users/shared-storage/bergemann-data/Stagger_zaz/grid/t70g45m00</td><td style = \"text-align: left;\">t70g45m00.msh</td><td style = \"text-align: left;\">t70g45m00</td><td style = \"text-align: left;\">t70g45m00_00094</td><td style = \"text-align: right;\">7000.0</td><td style = \"text-align: right;\">4.5</td><td style = \"text-align: right;\">-0.0</td><td style = \"text-align: right;\">0.0</td><td style = \"text-align: right;\">1.09542e9</td><td style = \"text-align: right;\">0.0</td><td style = \"text-align: right;\">1.09542e9</td><td style = \"text-align: right;\">-4.64059e8</td><td style = \"text-align: right;\">1.2535e8</td><td style = \"text-align: right;\">-2.08767e6</td><td style = \"text-align: right;\">4.00708e6</td><td style = \"text-align: right;\">10.0</td><td style = \"text-align: right;\">4.58323e6</td><td style = \"text-align: left;\">t70g45m00_00094_av.dat</td></tr></tbody></table></div>"
      ],
      "text/latex": [
       "\\begin{tabular}{r|cc}\n",
       "\t& folder & \\\\\n",
       "\t\\hline\n",
       "\t& String & \\\\\n",
       "\t\\hline\n",
       "\t1 & /mnt/beegfs/gemini/groups/bergemann/users/shared-storage/bergemann-data/Stagger\\_zaz/grid/t45g20m00 & $\\dots$ \\\\\n",
       "\t2 & /mnt/beegfs/gemini/groups/bergemann/users/shared-storage/bergemann-data/Stagger\\_zaz/grid/t45g20m20 & $\\dots$ \\\\\n",
       "\t3 & /mnt/beegfs/gemini/groups/bergemann/users/shared-storage/bergemann-data/Stagger\\_zaz/grid/t45g20m40 & $\\dots$ \\\\\n",
       "\t4 & /mnt/beegfs/gemini/groups/bergemann/users/shared-storage/bergemann-data/Stagger\\_zaz/grid/t45g40m00 & $\\dots$ \\\\\n",
       "\t5 & /mnt/beegfs/gemini/groups/bergemann/users/shared-storage/bergemann-data/Stagger\\_zaz/grid/t55g45m00 & $\\dots$ \\\\\n",
       "\t6 & /mnt/beegfs/gemini/groups/bergemann/users/shared-storage/bergemann-data/Stagger\\_zaz/grid/t5777g44m00 & $\\dots$ \\\\\n",
       "\t7 & /mnt/beegfs/gemini/groups/bergemann/users/shared-storage/bergemann-data/Stagger\\_zaz/grid/t60g45m00 & $\\dots$ \\\\\n",
       "\t8 & /mnt/beegfs/gemini/groups/bergemann/users/shared-storage/bergemann-data/Stagger\\_zaz/grid/t65g40m20 & $\\dots$ \\\\\n",
       "\t9 & /mnt/beegfs/gemini/groups/bergemann/users/shared-storage/bergemann-data/Stagger\\_zaz/grid/t65g40m40 & $\\dots$ \\\\\n",
       "\t10 & /mnt/beegfs/gemini/groups/bergemann/users/shared-storage/bergemann-data/Stagger\\_zaz/grid/t65g45m00 & $\\dots$ \\\\\n",
       "\t11 & /mnt/beegfs/gemini/groups/bergemann/users/shared-storage/bergemann-data/Stagger\\_zaz/grid/t70g45m00 & $\\dots$ \\\\\n",
       "\\end{tabular}\n"
      ],
      "text/plain": [
       "\u001b[1m11×18 DataFrame\u001b[0m\n",
       "\u001b[1m Row \u001b[0m│\u001b[1m folder                            \u001b[0m\u001b[1m mesh              \u001b[0m\u001b[1m name        \u001b[0m\u001b[1m snap\u001b[0m ⋯\n",
       "     │\u001b[90m String                            \u001b[0m\u001b[90m String31          \u001b[0m\u001b[90m String15    \u001b[0m\u001b[90m Stri\u001b[0m ⋯\n",
       "─────┼──────────────────────────────────────────────────────────────────────────\n",
       "   1 │ /mnt/beegfs/gemini/groups/bergem…  t45g20m00.msh      t45g20m00    t45g ⋯\n",
       "   2 │ /mnt/beegfs/gemini/groups/bergem…  t45g20m20.msh      t45g20m20    t45g\n",
       "   3 │ /mnt/beegfs/gemini/groups/bergem…  t45g20m40.msh      t45g20m40    t45g\n",
       "   4 │ /mnt/beegfs/gemini/groups/bergem…  t45g40m00.msh      t45g40m00    t45g\n",
       "   5 │ /mnt/beegfs/gemini/groups/bergem…  t55g45m00.msh      t55g45m00    t55g ⋯\n",
       "   6 │ /mnt/beegfs/gemini/groups/bergem…  t5777g44m0005.msh  t5777g44m00  t577\n",
       "   7 │ /mnt/beegfs/gemini/groups/bergem…  t60g45m00.msh      t60g45m00    t60g\n",
       "   8 │ /mnt/beegfs/gemini/groups/bergem…  t65g40m20.msh      t65g40m20    t65g\n",
       "   9 │ /mnt/beegfs/gemini/groups/bergem…  t65g40m40.msh      t65g40m40    t65g ⋯\n",
       "  10 │ /mnt/beegfs/gemini/groups/bergem…  t65g45m00.msh      t65g45m00    t65g\n",
       "  11 │ /mnt/beegfs/gemini/groups/bergem…  t70g45m00.msh      t70g45m00    t70g\n",
       "\u001b[36m                                                              15 columns omitted\u001b[0m"
      ]
     },
     "metadata": {},
     "output_type": "display_data"
    }
   ],
   "source": [
    "grid.info"
   ]
  },
  {
   "attachments": {},
   "cell_type": "markdown",
   "metadata": {},
   "source": [
    "# Look at the average profiles"
   ]
  },
  {
   "cell_type": "code",
   "execution_count": 33,
   "metadata": {},
   "outputs": [
    {
     "data": {
      "text/plain": [
       "Models (generic function with 1 method)"
      ]
     },
     "metadata": {},
     "output_type": "display_data"
    }
   ],
   "source": [
    "Models(grid::StaggerGrid) = begin \n",
    "    [Average3D(grid.info[i, \"av_path\"], logg=grid.info[i, \"logg\"]) for i in 1:nrow(grid.info)]\n",
    "end"
   ]
  },
  {
   "cell_type": "code",
   "execution_count": 34,
   "metadata": {},
   "outputs": [],
   "source": [
    "models = Models(grid);"
   ]
  }
 ],
 "metadata": {
  "kernelspec": {
   "display_name": "Julia 1.9.2",
   "language": "julia",
   "name": "julia-1.9"
  },
  "language_info": {
   "file_extension": ".jl",
   "mimetype": "application/julia",
   "name": "julia",
   "version": "1.9.2"
  },
  "orig_nbformat": 4
 },
 "nbformat": 4,
 "nbformat_minor": 2
}
