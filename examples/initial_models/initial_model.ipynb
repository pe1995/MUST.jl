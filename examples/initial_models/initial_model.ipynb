{
 "cells": [
  {
   "cell_type": "code",
   "execution_count": 17,
   "metadata": {},
   "outputs": [
    {
     "name": "stderr",
     "output_type": "stream",
     "text": [
      "\u001b[32m\u001b[1m  Activating\u001b[22m\u001b[39m environment at `/mnt/beegfs/gemini/groups/bergemann/users/eitner/model_grid/MUST.jl/examples/initial_models/Project.toml`\n"
     ]
    }
   ],
   "source": [
    "using Pkg; Pkg.activate(\".\"); \n",
    "using CSV\n",
    "using MUST  # For the models\n",
    "using TSO   # For the EoS\n",
    "using PyPlot\n",
    "using DelimitedFiles\n",
    "using DataFrames\n",
    "using Glob;"
   ]
  },
  {
   "cell_type": "code",
   "execution_count": 18,
   "metadata": {},
   "outputs": [
    {
     "name": "stderr",
     "output_type": "stream",
     "text": [
      "┌ Warning: thread = 1 warning: only found 1 / 34 columns around data row: 9. Filling remaining columns with `missing`\n",
      "└ @ CSV /home/eitner/.julia/packages/CSV/b8ebJ/src/file.jl:576\n"
     ]
    }
   ],
   "source": [
    "grid = MUST.StaggerGrid(\"dispatch_grid.mgrid\");"
   ]
  },
  {
   "cell_type": "code",
   "execution_count": 19,
   "metadata": {},
   "outputs": [],
   "source": [
    "eos_sq = MUST.SquareGasEOS(\"/home/eitner/shared/model_grid/stellar_atmospheres/input_data/DIS_MARCS_E_v0.5.1\");"
   ]
  },
  {
   "cell_type": "code",
   "execution_count": 20,
   "metadata": {},
   "outputs": [
    {
     "ename": "MethodError",
     "evalue": "MethodError: no method matching readdlm_auto(::Missing, ::Char, ::Type{Float64}, ::Char, ::Bool; skipstart=0)\nClosest candidates are:\n  readdlm_auto(!Matched::Vector{UInt8}, ::AbstractChar, ::Type, ::AbstractChar, ::Bool; opts...) at /buildworker/worker/package_linux64/build/usr/share/julia/stdlib/v1.6/DelimitedFiles/src/DelimitedFiles.jl:228\n  readdlm_auto(!Matched::IO, ::AbstractChar, ::Type, ::AbstractChar, ::Bool; opts...) at /buildworker/worker/package_linux64/build/usr/share/julia/stdlib/v1.6/DelimitedFiles/src/DelimitedFiles.jl:230\n  readdlm_auto(!Matched::AbstractString, ::AbstractChar, ::Type, ::AbstractChar, ::Bool; opts...) at /buildworker/worker/package_linux64/build/usr/share/julia/stdlib/v1.6/DelimitedFiles/src/DelimitedFiles.jl:232",
     "output_type": "error",
     "traceback": [
      "MethodError: no method matching readdlm_auto(::Missing, ::Char, ::Type{Float64}, ::Char, ::Bool; skipstart=0)\n",
      "Closest candidates are:\n",
      "  readdlm_auto(!Matched::Vector{UInt8}, ::AbstractChar, ::Type, ::AbstractChar, ::Bool; opts...) at /buildworker/worker/package_linux64/build/usr/share/julia/stdlib/v1.6/DelimitedFiles/src/DelimitedFiles.jl:228\n",
      "  readdlm_auto(!Matched::IO, ::AbstractChar, ::Type, ::AbstractChar, ::Bool; opts...) at /buildworker/worker/package_linux64/build/usr/share/julia/stdlib/v1.6/DelimitedFiles/src/DelimitedFiles.jl:230\n",
      "  readdlm_auto(!Matched::AbstractString, ::AbstractChar, ::Type, ::AbstractChar, ::Bool; opts...) at /buildworker/worker/package_linux64/build/usr/share/julia/stdlib/v1.6/DelimitedFiles/src/DelimitedFiles.jl:232\n",
      "\n",
      "Stacktrace:\n",
      " [1] readdlm(input::Missing, dlm::Char, eol::Char; opts::Base.Iterators.Pairs{Symbol, Int64, Tuple{Symbol}, NamedTuple{(:skipstart,), Tuple{Int64}}})\n",
      "   @ DelimitedFiles /buildworker/worker/package_linux64/build/usr/share/julia/stdlib/v1.6/DelimitedFiles/src/DelimitedFiles.jl:170\n",
      " [2] readdlm(input::Missing; opts::Base.Iterators.Pairs{Symbol, Int64, Tuple{Symbol}, NamedTuple{(:skipstart,), Tuple{Int64}}})\n",
      "   @ DelimitedFiles /buildworker/worker/package_linux64/build/usr/share/julia/stdlib/v1.6/DelimitedFiles/src/DelimitedFiles.jl:118\n",
      " [3] Average3D(path::Missing; logg::Float64)\n",
      "   @ TSO ~/shared/TS_opacity_tables/TSO.jl/src/_models.jl:33\n",
      " [4] Average3D(path::Missing)\n",
      "   @ TSO ~/shared/TS_opacity_tables/TSO.jl/src/_models.jl:33\n",
      " [5] top-level scope\n",
      "   @ ~/shared/model_grid/examples/initial_models/initial_model.ipynb:1"
     ]
    }
   ],
   "source": [
    "av_model = Average3D(grid.info[end, \"av_path\"]);"
   ]
  },
  {
   "cell_type": "code",
   "execution_count": 21,
   "metadata": {},
   "outputs": [
    {
     "ename": "MethodError",
     "evalue": "MethodError: no method matching exp10(::Missing)\nClosest candidates are:\n  exp10(!Matched::Float16) at math.jl:1159\n  exp10(!Matched::ComplexF16) at math.jl:1160\n  exp10(!Matched::Complex{T}) where T at complex.jl:717\n  ...",
     "output_type": "error",
     "traceback": [
      "MethodError: no method matching exp10(::Missing)\n",
      "Closest candidates are:\n",
      "  exp10(!Matched::Float16) at math.jl:1159\n",
      "  exp10(!Matched::ComplexF16) at math.jl:1160\n",
      "  exp10(!Matched::Complex{T}) where T at complex.jl:717\n",
      "  ...\n",
      "\n",
      "Stacktrace:\n",
      " [1] _broadcast_getindex_evalf\n",
      "   @ ./broadcast.jl:648 [inlined]\n",
      " [2] _broadcast_getindex\n",
      "   @ ./broadcast.jl:621 [inlined]\n",
      " [3] getindex\n",
      "   @ ./broadcast.jl:575 [inlined]\n",
      " [4] copy\n",
      "   @ ./broadcast.jl:898 [inlined]\n",
      " [5] materialize(bc::Base.Broadcast.Broadcasted{Base.Broadcast.DefaultArrayStyle{0}, Nothing, typeof(exp10), Tuple{Base.RefValue{Missing}}})\n",
      "   @ Base.Broadcast ./broadcast.jl:883\n",
      " [6] top-level scope\n",
      "   @ ~/shared/model_grid/examples/initial_models/initial_model.ipynb:5"
     ]
    }
   ],
   "source": [
    "z = grid.info[end, \"z_lo\"]\n",
    "d = grid.info[end, \"d_lo\"]\n",
    "T = grid.info[end, \"T_lo\"]\n",
    "eemin = grid.info[end, \"ee_min\"]\n",
    "g = exp10.(grid.info[end, \"logg\"]);"
   ]
  },
  {
   "cell_type": "code",
   "execution_count": 22,
   "metadata": {},
   "outputs": [
    {
     "data": {
      "text/plain": [
       "missing"
      ]
     },
     "metadata": {},
     "output_type": "display_data"
    }
   ],
   "source": [
    "log(eemin)"
   ]
  },
  {
   "cell_type": "code",
   "execution_count": 23,
   "metadata": {},
   "outputs": [],
   "source": [
    "units = MUST.StaggerCGS();"
   ]
  },
  {
   "cell_type": "code",
   "execution_count": 24,
   "metadata": {},
   "outputs": [
    {
     "name": "stdout",
     "output_type": "stream",
     "text": [
      "z / units.l = missing\n",
      "d = missing\n",
      "T = missing\n",
      "g = 31622.776601683792\n"
     ]
    },
    {
     "data": {
      "text/plain": [
       "31622.776601683792"
      ]
     },
     "metadata": {},
     "output_type": "display_data"
    }
   ],
   "source": [
    "@show z/units.l d T g"
   ]
  },
  {
   "cell_type": "code",
   "execution_count": 25,
   "metadata": {},
   "outputs": [
    {
     "ename": "MethodError",
     "evalue": "MethodError: no method matching lookup(::MUST.SquareGasEOS{Nothing, Array{Float32, 3}, Array{Float32, 3}, Nothing, Nothing, Nothing, Nothing, Vector{Float32}, Float32}, ::Symbol, ::Missing, ::Float64)\nClosest candidates are:\n  lookup(::MUST.SquareGasEOS, ::Symbol, !Matched::T, ::T; to_log) where T<:AbstractFloat at /mnt/beegfs/gemini/groups/bergemann/users/eitner/model_grid/MUST.jl/src/_eos.jl:238\n  lookup(::MUST.SquareGasEOS, !Matched::String, ::Any...; kwargs...) at /mnt/beegfs/gemini/groups/bergemann/users/eitner/model_grid/MUST.jl/src/_eos.jl:239\n  lookup(!Matched::MUST.PythonEOS, ::Any, !Matched::T...) where T<:AbstractFloat at /mnt/beegfs/gemini/groups/bergemann/users/eitner/model_grid/MUST.jl/src/_eos.jl:160\n  ...",
     "output_type": "error",
     "traceback": [
      "MethodError: no method matching lookup(::MUST.SquareGasEOS{Nothing, Array{Float32, 3}, Array{Float32, 3}, Nothing, Nothing, Nothing, Nothing, Vector{Float32}, Float32}, ::Symbol, ::Missing, ::Float64)\n",
      "Closest candidates are:\n",
      "  lookup(::MUST.SquareGasEOS, ::Symbol, !Matched::T, ::T; to_log) where T<:AbstractFloat at /mnt/beegfs/gemini/groups/bergemann/users/eitner/model_grid/MUST.jl/src/_eos.jl:238\n",
      "  lookup(::MUST.SquareGasEOS, !Matched::String, ::Any...; kwargs...) at /mnt/beegfs/gemini/groups/bergemann/users/eitner/model_grid/MUST.jl/src/_eos.jl:239\n",
      "  lookup(!Matched::MUST.PythonEOS, ::Any, !Matched::T...) where T<:AbstractFloat at /mnt/beegfs/gemini/groups/bergemann/users/eitner/model_grid/MUST.jl/src/_eos.jl:160\n",
      "  ...\n",
      "\n",
      "Stacktrace:\n",
      " [1] initial_adiabat(eos::MUST.SquareGasEOS{Nothing, Array{Float32, 3}, Array{Float32, 3}, Nothing, Nothing, Nothing, Nothing, Vector{Float32}, Float32}, t_ini::Missing, d_ini::Missing, g_ini::Float64; scaling::MUST.AtmosUnits, dlnd::Float64, ee_min::Missing, w_perturb::Float64, a_perturb::Float64, nz::Int64, i0::Int64, z0_position::Missing, n_iter::Int64)\n",
      "   @ MUST /mnt/beegfs/gemini/groups/bergemann/users/eitner/model_grid/MUST.jl/src/_initial_conditions.jl:113\n",
      " [2] top-level scope\n",
      "   @ ~/shared/model_grid/examples/initial_models/initial_model.ipynb:1"
     ]
    }
   ],
   "source": [
    "z_ad, d_ad, e_ad, t_ad, p_ad = MUST.initial_adiabat(eos_sq, T, d, g, ee_min=eemin/units.ee, z0_position=-z/units.l);"
   ]
  },
  {
   "cell_type": "code",
   "execution_count": 26,
   "metadata": {},
   "outputs": [
    {
     "ename": "PyCall.PyJlError",
     "evalue": "(in a Julia function called from Python)\nJULIA: MethodError: no method matching iterate(::Missing)\nClosest candidates are:\n  iterate(!Matched::Union{LinRange, StepRangeLen}) at range.jl:664\n  iterate(!Matched::Union{LinRange, StepRangeLen}, !Matched::Int64) at range.jl:664\n  iterate(!Matched::T) where T<:Union{Base.KeySet{var\"#s77\", var\"#s76\"} where {var\"#s77\", var\"#s76\"<:Dict}, Base.ValueIterator{var\"#s75\"} where var\"#s75\"<:Dict} at dict.jl:693\n  ...\nStacktrace:\n  [1] jlwrap_iterator(o::Missing)\n    @ PyCall ~/.julia/packages/PyCall/twYvK/src/pyiterator.jl:144\n  [2] pyjlwrap_getiter(self_::Ptr{PyCall.PyObject_struct})\n    @ PyCall ~/.julia/packages/PyCall/twYvK/src/pyiterator.jl:125\n  [3] macro expansion\n    @ ~/.julia/packages/PyCall/twYvK/src/exception.jl:108 [inlined]\n  [4] #107\n    @ ~/.julia/packages/PyCall/twYvK/src/pyfncall.jl:43 [inlined]\n  [5] disable_sigint\n    @ ./c.jl:458 [inlined]\n  [6] __pycall!\n    @ ~/.julia/packages/PyCall/twYvK/src/pyfncall.jl:42 [inlined]\n  [7] _pycall!(ret::PyCall.PyObject, o::PyCall.PyObject, args::Tuple{Vector{Missing}, Vector{Missing}}, nargs::Int64, kw::PyCall.PyObject)\n    @ PyCall ~/.julia/packages/PyCall/twYvK/src/pyfncall.jl:29\n  [8] _pycall!(ret::PyCall.PyObject, o::PyCall.PyObject, args::Tuple{Vector{Missing}, Vector{Missing}}, kwargs::Base.Iterators.Pairs{Symbol, String, Tuple{Symbol}, NamedTuple{(:marker,), Tuple{String}}})\n    @ PyCall ~/.julia/packages/PyCall/twYvK/src/pyfncall.jl:11\n  [9] (::PyCall.PyObject)(::Vector{Missing}, ::Vararg{Vector{Missing}, N} where N; kwargs::Base.Iterators.Pairs{Symbol, String, Tuple{Symbol}, NamedTuple{(:marker,), Tuple{String}}})\n    @ PyCall ~/.julia/packages/PyCall/twYvK/src/pyfncall.jl:86\n [10] top-level scope\n    @ ~/shared/model_grid/examples/initial_models/initial_model.ipynb:6\n [11] eval\n    @ ./boot.jl:360 [inlined]\n [12] include_string(mapexpr::typeof(REPL.softscope), mod::Module, code::String, filename::String)\n    @ Base ./loading.jl:1116\n [13] #invokelatest#2\n    @ ./essentials.jl:708 [inlined]\n [14] invokelatest\n    @ ./essentials.jl:706 [inlined]\n [15] (::VSCodeServer.var\"#194#195\"{VSCodeServer.NotebookRunCellArguments, String})()\n    @ VSCodeServer ~/.vscode-server/extensions/julialang.language-julia-1.38.2/scripts/packages/VSCodeServer/src/serve_notebook.jl:19\n [16] withpath(f::VSCodeServer.var\"#194#195\"{VSCodeServer.NotebookRunCellArguments, String}, path::String)\n    @ VSCodeServer ~/.vscode-server/extensions/julialang.language-julia-1.38.2/scripts/packages/VSCodeServer/src/repl.jl:249\n [17] notebook_runcell_request(conn::VSCodeServer.JSONRPC.JSONRPCEndpoint{Base.PipeEndpoint, Base.PipeEndpoint}, params::VSCodeServer.NotebookRunCellArguments)\n    @ VSCodeServer ~/.vscode-server/extensions/julialang.language-julia-1.38.2/scripts/packages/VSCodeServer/src/serve_notebook.jl:13\n [18] dispatch_msg(x::VSCodeServer.JSONRPC.JSONRPCEndpoint{Base.PipeEndpoint, Base.PipeEndpoint}, dispatcher::VSCodeServer.JSONRPC.MsgDispatcher, msg::Dict{String, Any})\n    @ VSCodeServer.JSONRPC ~/.vscode-server/extensions/julialang.language-julia-1.38.2/scripts/packages/JSONRPC/src/typed.jl:67\n [19] serve_notebook(pipename::String, outputchannel_logger::Base.CoreLogging.SimpleLogger; crashreporting_pipename::String)\n    @ VSCodeServer ~/.vscode-server/extensions/julialang.language-julia-1.38.2/scripts/packages/VSCodeServer/src/serve_notebook.jl:139\n [20] top-level scope\n    @ ~/.vscode-server/extensions/julialang.language-julia-1.38.2/scripts/notebook/notebook.jl:32\n [21] include(mod::Module, _path::String)\n    @ Base ./Base.jl:384\n [22] exec_options(opts::Base.JLOptions)\n    @ Base ./client.jl:285\n [23] _start()\n    @ Base ./client.jl:485",
     "output_type": "error",
     "traceback": [
      "(in a Julia function called from Python)\n",
      "JULIA: MethodError: no method matching iterate(::Missing)\n",
      "Closest candidates are:\n",
      "  iterate(!Matched::Union{LinRange, StepRangeLen}) at range.jl:664\n",
      "  iterate(!Matched::Union{LinRange, StepRangeLen}, !Matched::Int64) at range.jl:664\n",
      "  iterate(!Matched::T) where T<:Union{Base.KeySet{var\"#s77\", var\"#s76\"} where {var\"#s77\", var\"#s76\"<:Dict}, Base.ValueIterator{var\"#s75\"} where var\"#s75\"<:Dict} at dict.jl:693\n",
      "  ...\n",
      "Stacktrace:\n",
      "  [1] jlwrap_iterator(o::Missing)\n",
      "    @ PyCall ~/.julia/packages/PyCall/twYvK/src/pyiterator.jl:144\n",
      "  [2] pyjlwrap_getiter(self_::Ptr{PyCall.PyObject_struct})\n",
      "    @ PyCall ~/.julia/packages/PyCall/twYvK/src/pyiterator.jl:125\n",
      "  [3] macro expansion\n",
      "    @ ~/.julia/packages/PyCall/twYvK/src/exception.jl:108 [inlined]\n",
      "  [4] #107\n",
      "    @ ~/.julia/packages/PyCall/twYvK/src/pyfncall.jl:43 [inlined]\n",
      "  [5] disable_sigint\n",
      "    @ ./c.jl:458 [inlined]\n",
      "  [6] __pycall!\n",
      "    @ ~/.julia/packages/PyCall/twYvK/src/pyfncall.jl:42 [inlined]\n",
      "  [7] _pycall!(ret::PyCall.PyObject, o::PyCall.PyObject, args::Tuple{Vector{Missing}, Vector{Missing}}, nargs::Int64, kw::PyCall.PyObject)\n",
      "    @ PyCall ~/.julia/packages/PyCall/twYvK/src/pyfncall.jl:29\n",
      "  [8] _pycall!(ret::PyCall.PyObject, o::PyCall.PyObject, args::Tuple{Vector{Missing}, Vector{Missing}}, kwargs::Base.Iterators.Pairs{Symbol, String, Tuple{Symbol}, NamedTuple{(:marker,), Tuple{String}}})\n",
      "    @ PyCall ~/.julia/packages/PyCall/twYvK/src/pyfncall.jl:11\n",
      "  [9] (::PyCall.PyObject)(::Vector{Missing}, ::Vararg{Vector{Missing}, N} where N; kwargs::Base.Iterators.Pairs{Symbol, String, Tuple{Symbol}, NamedTuple{(:marker,), Tuple{String}}})\n",
      "    @ PyCall ~/.julia/packages/PyCall/twYvK/src/pyfncall.jl:86\n",
      " [10] top-level scope\n",
      "    @ ~/shared/model_grid/examples/initial_models/initial_model.ipynb:6\n",
      " [11] eval\n",
      "    @ ./boot.jl:360 [inlined]\n",
      " [12] include_string(mapexpr::typeof(REPL.softscope), mod::Module, code::String, filename::String)\n",
      "    @ Base ./loading.jl:1116\n",
      " [13] #invokelatest#2\n",
      "    @ ./essentials.jl:708 [inlined]\n",
      " [14] invokelatest\n",
      "    @ ./essentials.jl:706 [inlined]\n",
      " [15] (::VSCodeServer.var\"#194#195\"{VSCodeServer.NotebookRunCellArguments, String})()\n",
      "    @ VSCodeServer ~/.vscode-server/extensions/julialang.language-julia-1.38.2/scripts/packages/VSCodeServer/src/serve_notebook.jl:19\n",
      " [16] withpath(f::VSCodeServer.var\"#194#195\"{VSCodeServer.NotebookRunCellArguments, String}, path::String)\n",
      "    @ VSCodeServer ~/.vscode-server/extensions/julialang.language-julia-1.38.2/scripts/packages/VSCodeServer/src/repl.jl:249\n",
      " [17] notebook_runcell_request(conn::VSCodeServer.JSONRPC.JSONRPCEndpoint{Base.PipeEndpoint, Base.PipeEndpoint}, params::VSCodeServer.NotebookRunCellArguments)\n",
      "    @ VSCodeServer ~/.vscode-server/extensions/julialang.language-julia-1.38.2/scripts/packages/VSCodeServer/src/serve_notebook.jl:13\n",
      " [18] dispatch_msg(x::VSCodeServer.JSONRPC.JSONRPCEndpoint{Base.PipeEndpoint, Base.PipeEndpoint}, dispatcher::VSCodeServer.JSONRPC.MsgDispatcher, msg::Dict{String, Any})\n",
      "    @ VSCodeServer.JSONRPC ~/.vscode-server/extensions/julialang.language-julia-1.38.2/scripts/packages/JSONRPC/src/typed.jl:67\n",
      " [19] serve_notebook(pipename::String, outputchannel_logger::Base.CoreLogging.SimpleLogger; crashreporting_pipename::String)\n",
      "    @ VSCodeServer ~/.vscode-server/extensions/julialang.language-julia-1.38.2/scripts/packages/VSCodeServer/src/serve_notebook.jl:139\n",
      " [20] top-level scope\n",
      "    @ ~/.vscode-server/extensions/julialang.language-julia-1.38.2/scripts/notebook/notebook.jl:32\n",
      " [21] include(mod::Module, _path::String)\n",
      "    @ Base ./Base.jl:384\n",
      " [22] exec_options(opts::Base.JLOptions)\n",
      "    @ Base ./client.jl:285\n",
      " [23] _start()\n",
      "    @ Base ./client.jl:485\n",
      "\n",
      "Stacktrace:\n",
      "  [1] pyerr_check\n",
      "    @ ~/.julia/packages/PyCall/twYvK/src/exception.jl:75 [inlined]\n",
      "  [2] pyerr_check\n",
      "    @ ~/.julia/packages/PyCall/twYvK/src/exception.jl:79 [inlined]\n",
      "  [3] _handle_error(msg::String)\n",
      "    @ PyCall ~/.julia/packages/PyCall/twYvK/src/exception.jl:96\n",
      "  [4] macro expansion\n",
      "    @ ~/.julia/packages/PyCall/twYvK/src/exception.jl:110 [inlined]\n",
      "  [5] #107\n",
      "    @ ~/.julia/packages/PyCall/twYvK/src/pyfncall.jl:43 [inlined]\n",
      "  [6] disable_sigint\n",
      "    @ ./c.jl:458 [inlined]\n",
      "  [7] __pycall!\n",
      "    @ ~/.julia/packages/PyCall/twYvK/src/pyfncall.jl:42 [inlined]\n",
      "  [8] _pycall!(ret::PyCall.PyObject, o::PyCall.PyObject, args::Tuple{Vector{Missing}, Vector{Missing}}, nargs::Int64, kw::PyCall.PyObject)\n",
      "    @ PyCall ~/.julia/packages/PyCall/twYvK/src/pyfncall.jl:29\n",
      "  [9] _pycall!(ret::PyCall.PyObject, o::PyCall.PyObject, args::Tuple{Vector{Missing}, Vector{Missing}}, kwargs::Base.Iterators.Pairs{Symbol, String, Tuple{Symbol}, NamedTuple{(:marker,), Tuple{String}}})\n",
      "    @ PyCall ~/.julia/packages/PyCall/twYvK/src/pyfncall.jl:11\n",
      " [10] (::PyCall.PyObject)(::Vector{Missing}, ::Vararg{Vector{Missing}, N} where N; kwargs::Base.Iterators.Pairs{Symbol, String, Tuple{Symbol}, NamedTuple{(:marker,), Tuple{String}}})\n",
      "    @ PyCall ~/.julia/packages/PyCall/twYvK/src/pyfncall.jl:86\n",
      " [11] top-level scope\n",
      "    @ ~/shared/model_grid/examples/initial_models/initial_model.ipynb:6"
     ]
    }
   ],
   "source": [
    "close()\n",
    "\n",
    "plt.plot(z_ad, t_ad)\n",
    "plt.plot(-av_model.z / units.l, exp.(av_model.lnT))\n",
    "\n",
    "plt.plot([-z./units.l], [T], marker=\"X\")\n",
    "\n",
    "gcf()"
   ]
  },
  {
   "cell_type": "code",
   "execution_count": 27,
   "metadata": {},
   "outputs": [],
   "source": []
  }
 ],
 "metadata": {
  "kernelspec": {
   "display_name": "Julia 1.6.5",
   "language": "julia",
   "name": "julia-1.6"
  },
  "language_info": {
   "file_extension": ".jl",
   "mimetype": "application/julia",
   "name": "julia",
   "version": "1.6.5"
  },
  "orig_nbformat": 4
 },
 "nbformat": 4,
 "nbformat_minor": 2
}
