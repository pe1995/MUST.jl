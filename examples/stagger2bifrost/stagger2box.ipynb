{
 "cells": [
  {
   "cell_type": "code",
   "execution_count": 9,
   "metadata": {},
   "outputs": [
    {
     "name": "stderr",
     "output_type": "stream",
     "text": [
      "\u001b[32m\u001b[1m  Activating\u001b[22m\u001b[39m environment at `/usr/local/autofs.shared/shared-storage/eitner/model_grid/MUST.jl/examples/stagger2bifrost/Project.toml`\n"
     ]
    }
   ],
   "source": [
    "using Pkg; Pkg.activate(\".\");\n",
    "using Revise\n",
    "using Statistics\n",
    "import MUST\n",
    "using PyPlot\n",
    "\n",
    "MUST.@get_help_py stagger\n",
    "MUST.@get_help visual \n",
    "MUST.@import_dispatch \"/shared-storage/eitner/model_grid/dispatch2/\";"
   ]
  },
  {
   "cell_type": "code",
   "execution_count": 10,
   "metadata": {},
   "outputs": [
    {
     "name": "stderr",
     "output_type": "stream",
     "text": [
      "┌ Warning: bx not present.\n",
      "└ @ MUST /usr/local/autofs.shared/shared-storage/eitner/model_grid/MUST.jl/src/_stagger.jl:332\n",
      "┌ Warning: by not present.\n",
      "└ @ MUST /usr/local/autofs.shared/shared-storage/eitner/model_grid/MUST.jl/src/_stagger.jl:332\n",
      "┌ Warning: bz not present.\n",
      "└ @ MUST /usr/local/autofs.shared/shared-storage/eitner/model_grid/MUST.jl/src/_stagger.jl:332\n"
     ]
    }
   ],
   "source": [
    "folder = \"stagger_sun/\"\n",
    "model  = \"t5777g44m0005\";\n",
    "snap_j = MUST.StaggerSnap(model, folder);"
   ]
  },
  {
   "cell_type": "code",
   "execution_count": 11,
   "metadata": {},
   "outputs": [],
   "source": [
    "# The gas pressure is not saved in dispatch, so we use the same EOS for both to get it\n",
    "eos_path = \"input_data/solar_lte\"\n",
    "eos_path = \"input_data/TSO_sun_Magg_v1\"\n",
    "eos_path = \"input_data/TSO_sun_Magg_v1.1\"\n",
    "sqEOS = MUST.SquareGasEOS(MUST.@in_dispatch(eos_path));"
   ]
  },
  {
   "cell_type": "code",
   "execution_count": 12,
   "metadata": {},
   "outputs": [],
   "source": [
    "b = MUST.Box(snap_j, eos=sqEOS);"
   ]
  },
  {
   "cell_type": "code",
   "execution_count": 13,
   "metadata": {},
   "outputs": [
    {
     "data": {
      "text/plain": [
       "1-element Vector{PyObject}:\n",
       " PyObject <matplotlib.lines.Line2D object at 0x2aafc808fd30>"
      ]
     },
     "metadata": {},
     "output_type": "display_data"
    }
   ],
   "source": [
    "z = MUST.axis(b, :z)\n",
    "d = MUST.plane_statistic(mean, b, :τ_ross)\n",
    "plt.semilogy(z, d)"
   ]
  },
  {
   "cell_type": "code",
   "execution_count": 14,
   "metadata": {},
   "outputs": [
    {
     "data": {
      "text/plain": [
       "\"box_solar_stagger_TSOv1.1.hdf5\""
      ]
     },
     "metadata": {},
     "output_type": "display_data"
    }
   ],
   "source": [
    "MUST.save(b; name=\"box_solar_stagger_TSOv1.1\", folder=\"\")"
   ]
  },
  {
   "cell_type": "code",
   "execution_count": 15,
   "metadata": {},
   "outputs": [],
   "source": [
    "stagger_τ  = MUST.height_scale(b, :τ_ross);"
   ]
  },
  {
   "cell_type": "code",
   "execution_count": 16,
   "metadata": {},
   "outputs": [],
   "source": [
    "MUST.save(stagger_τ; name=\"box_solar_stagger_TSOv1.1_t\", folder=\"\");"
   ]
  }
 ],
 "metadata": {
  "kernelspec": {
   "display_name": "Julia 1.6.5",
   "language": "julia",
   "name": "julia-1.6"
  },
  "language_info": {
   "file_extension": ".jl",
   "mimetype": "application/julia",
   "name": "julia",
   "version": "1.6.5"
  },
  "orig_nbformat": 4
 },
 "nbformat": 4,
 "nbformat_minor": 2
}
