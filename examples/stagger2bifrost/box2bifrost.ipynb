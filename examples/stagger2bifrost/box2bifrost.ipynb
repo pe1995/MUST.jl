{
 "cells": [
  {
   "cell_type": "code",
   "execution_count": 1,
   "metadata": {},
   "outputs": [
    {
     "name": "stderr",
     "output_type": "stream",
     "text": [
      "\u001b[32m\u001b[1m  Activating\u001b[22m\u001b[39m environment at `/cobra/ptmp/peitner/model_grid/MUST.jl/examples/stagger2bifrost/Project.toml`\n",
      "┌ Info: Precompiling MUST [78ff202f-d08f-4a78-aa4d-c8e96fa3dcb9]\n",
      "└ @ Base loading.jl:1342\n"
     ]
    }
   ],
   "source": [
    "using Pkg; Pkg.activate(\".\");\n",
    "using Revise\n",
    "import MUST\n",
    "using PyPlot\n",
    "\n",
    "MUST.@get_help_py stagger\n",
    "MUST.@get_help visual \n",
    "MUST.@import_dispatch \"../../../dispatch2_clean/dispatch2\";"
   ]
  },
  {
   "cell_type": "markdown",
   "metadata": {},
   "source": [
    "Read a snapshot from a folder of a converted dispatch simulation"
   ]
  },
  {
   "cell_type": "code",
   "execution_count": 2,
   "metadata": {},
   "outputs": [],
   "source": [
    "box_path = MUST.@in_dispatch \"data/solar_model_aux\"\n",
    "box      = first(MUST.Boxes(box_path, snaps=[24]));"
   ]
  },
  {
   "cell_type": "markdown",
   "metadata": {},
   "source": [
    "This snapshot now can be saved in a reduced bifrost format. Not needed quantities are set to 0 in the process, such as derivertives in the mesh etc."
   ]
  },
  {
   "cell_type": "code",
   "execution_count": 3,
   "metadata": {},
   "outputs": [],
   "source": [
    "MUST.legacyBox(box, \"solar_model_bifrost\")"
   ]
  },
  {
   "cell_type": "code",
   "execution_count": 4,
   "metadata": {},
   "outputs": [
    {
     "data": {
      "text/plain": [
       "3.5561652f7"
      ]
     },
     "execution_count": 4,
     "metadata": {},
     "output_type": "execute_result"
    }
   ],
   "source": [
    "box[:pg][1,4,7]"
   ]
  },
  {
   "cell_type": "code",
   "execution_count": null,
   "metadata": {},
   "outputs": [],
   "source": []
  }
 ],
 "metadata": {
  "kernelspec": {
   "display_name": "Julia 1.6.4",
   "language": "julia",
   "name": "julia-1.6"
  },
  "language_info": {
   "file_extension": ".jl",
   "mimetype": "application/julia",
   "name": "julia",
   "version": "1.6.4"
  },
  "orig_nbformat": 4
 },
 "nbformat": 4,
 "nbformat_minor": 2
}
