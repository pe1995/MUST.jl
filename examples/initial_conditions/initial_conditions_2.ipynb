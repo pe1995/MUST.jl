{
 "cells": [
  {
   "cell_type": "code",
   "execution_count": 1,
   "metadata": {},
   "outputs": [
    {
     "name": "stderr",
     "output_type": "stream",
     "text": [
      "\u001b[32m\u001b[1m  Activating\u001b[22m\u001b[39m environment at `/cobra/ptmp/peitner/model_grid/MUST.jl/examples/initial_conditions/Project.toml`\n"
     ]
    }
   ],
   "source": [
    "using Pkg; Pkg.activate(\".\")\n",
    "using PyPlot\n",
    "using MUST\n",
    "using DelimitedFiles\n",
    "\n",
    "MUST.@import_dispatch \"/u/peitner/DISPATCH/dispatch2/\";"
   ]
  },
  {
   "cell_type": "markdown",
   "metadata": {},
   "source": [
    "# Target properties of the model"
   ]
  },
  {
   "cell_type": "code",
   "execution_count": 2,
   "metadata": {},
   "outputs": [],
   "source": [
    "Teff = 5777.0\n",
    "logg = log(2.75e4);"
   ]
  },
  {
   "cell_type": "markdown",
   "metadata": {},
   "source": [
    "The corresponding model we want to compare it to"
   ]
  },
  {
   "cell_type": "code",
   "execution_count": 3,
   "metadata": {},
   "outputs": [],
   "source": [
    "path  = abspath.(\"../stagger2bifrost/stagger_av.dat\")\n",
    "model = reverse(readdlm(path, skipstart=2), dims=1)\n",
    "z_goal, T_goal, d_goal = model[:, 1], model[:, 2], exp.(model[:, 3]);"
   ]
  },
  {
   "cell_type": "markdown",
   "metadata": {},
   "source": [
    "The corresponding box dimensions based on the scale height"
   ]
  },
  {
   "cell_type": "code",
   "execution_count": 4,
   "metadata": {},
   "outputs": [
    {
     "data": {
      "text/plain": [
       "Dict{Symbol, Float64} with 2 entries:\n",
       "  :z => 4.0299\n",
       "  :x => 1.49682"
      ]
     },
     "metadata": {},
     "output_type": "display_data"
    }
   ],
   "source": [
    "MUST.box_dimensions(Teff, exp(logg))"
   ]
  },
  {
   "cell_type": "markdown",
   "metadata": {},
   "source": [
    "EoS + Opacities"
   ]
  },
  {
   "cell_type": "code",
   "execution_count": 5,
   "metadata": {},
   "outputs": [],
   "source": [
    "#eos_path = \"input_data/LegacyStagger_sun\"\n",
    "eos_path = \"input_data/TSO_sun_Magg_v10.2\"\n",
    "eos_path = \"input_data/DIS_AESOPUS_v1.3.3\"\n",
    "eos_path = \"input_data/DIS_MARCS_v0.3.1\"\n",
    "#eos_path = \"input_data/DISSTAG_v0.1\"\n",
    "\n",
    "eos      = MUST.SquareGasEOS(MUST.@in_dispatch(eos_path));"
   ]
  },
  {
   "cell_type": "code",
   "execution_count": 19,
   "metadata": {},
   "outputs": [],
   "source": [
    "E_goal = Float64[MUST.bisect(eos, ee=MUST.limits(eos)[3:4], d=d_goal[i], T=T_goal[i]) for i in eachindex(z_goal)];"
   ]
  },
  {
   "cell_type": "code",
   "execution_count": 21,
   "metadata": {},
   "outputs": [
    {
     "data": {
      "text/plain": [
       "236-element Vector{Float64}:\n",
       " -1.59216634223448e-8\n",
       " -5.231216712012685e-8\n",
       " -9.898566343215567e-8\n",
       " -1.5864826500099634e-7\n",
       " -2.3468938686372938e-7\n",
       " -3.324244295112885e-7\n",
       " -4.591394951321586e-7\n",
       " -6.237676569709146e-7\n",
       " -8.371994624136072e-7\n",
       " -1.1148157578507643e-6\n",
       "  ⋮\n",
       " -1.6309150151747655e7\n",
       " -1.69354499576409e7\n",
       " -1.758173063478924e7\n",
       " -1.824830899076499e7\n",
       " -1.893518539035494e7\n",
       " -1.964211001263816e7\n",
       " -2.0369434441267867e7\n",
       " -2.111773523995175e7\n",
       " -2.1887502927874748e7"
      ]
     },
     "metadata": {},
     "output_type": "display_data"
    }
   ],
   "source": [
    "kross_goal = [MUST.lookup(eos, :ross, d_goal[i], E_goal[i]) for i in eachindex(z_goal)] \n",
    "ross_goal  = MUST.optical_depth(d_goal, kross_goal, z_goal)"
   ]
  },
  {
   "cell_type": "markdown",
   "metadata": {},
   "source": [
    "# 1. Investigate the Adiabat"
   ]
  },
  {
   "cell_type": "code",
   "execution_count": 8,
   "metadata": {},
   "outputs": [
    {
     "name": "stderr",
     "output_type": "stream",
     "text": [
      "┌ Info: 11000.0\n",
      "│   ρ_ini = 3.981071705534969e-7\n",
      "│   z0 = -0.3\n",
      "│   log(E_surf) = 28.872019\n",
      "└ @ Main /u/peitner/DISPATCH/MUST.jl/examples/initial_conditions/initial_conditions_2.ipynb:9\n"
     ]
    }
   ],
   "source": [
    "## Initial point of the simulation\n",
    "T_ini  = 11000.0\n",
    "ρ_ini  = exp10(-6.4) #2.9e-7\n",
    "z0     = -0.3 #MUST.geometrical_depth(d_goal, ρ_ini, z_goal) / 1e8 ;\n",
    "ee_idx = argmin(abs.(z_goal .- 0.5e8))\n",
    "E_surf = MUST.bisect(eos; ee=MUST.limits(eos)[3:4], d=d_goal[ee_idx], T=T_goal[ee_idx])\n",
    "#z0     = MUST.match(T_ini, ρ_ini, logg, z_goal, T_goal, d_goal, eos; ee_min=E_surf/MUST.StaggerCGS().ee, nz=400, i0=100, hotspot=-2.5, which=:d) \n",
    "\n",
    "@info T_ini ρ_ini z0 log(E_surf) "
   ]
  },
  {
   "cell_type": "code",
   "execution_count": 9,
   "metadata": {},
   "outputs": [
    {
     "data": {
      "text/plain": [
       "3.459059810304"
      ]
     },
     "metadata": {},
     "output_type": "display_data"
    }
   ],
   "source": [
    "E_surf/MUST.StaggerCGS().ee"
   ]
  },
  {
   "cell_type": "code",
   "execution_count": 10,
   "metadata": {},
   "outputs": [],
   "source": [
    "z,d,ee,t,p = MUST.initial_adiabat(eos, T_ini, ρ_ini, exp(logg), ee_min=E_surf/MUST.StaggerCGS().ee, nz=400, i0=102, z0_position=z0);"
   ]
  },
  {
   "cell_type": "code",
   "execution_count": 25,
   "metadata": {},
   "outputs": [
    {
     "data": {
      "text/plain": [
       "400-element Vector{Float64}:\n",
       " 5.704330664913791e6\n",
       " 1.6626471375256509e7\n",
       " 2.642458905666469e7\n",
       " 3.522240029991548e7\n",
       " 4.312531658462376e7\n",
       " 5.023969709724762e7\n",
       " 5.6659661533928595e7\n",
       " 6.244924792085104e7\n",
       " 6.767064290824221e7\n",
       " 7.237533150185202e7\n",
       " ⋮\n",
       " 1.1329202952482913e8\n",
       " 1.1329202952482913e8\n",
       " 1.1329202952482913e8\n",
       " 1.1329202952482913e8\n",
       " 1.1329202952482913e8\n",
       " 1.1329202952482913e8\n",
       " 1.1329202952482913e8\n",
       " 1.1329202952482913e8\n",
       " 1.1329202952482913e8"
      ]
     },
     "metadata": {},
     "output_type": "display_data"
    }
   ],
   "source": [
    "kross = [MUST.lookup(eos, :ross, d[i], ee[i] .*MUST.StaggerCGS().ee) for i in eachindex(z)] \n",
    "ross  = MUST.optical_depth(d, kross, z*1e8);"
   ]
  },
  {
   "cell_type": "markdown",
   "metadata": {},
   "source": [
    "Temperature density diagram"
   ]
  },
  {
   "cell_type": "code",
   "execution_count": 12,
   "metadata": {},
   "outputs": [
    {
     "data": {
      "image/png": "[encoded data removed]",
      "text/plain": [
       "Figure(PyObject <Figure size 640x480 with 1 Axes>)"
      ]
     },
     "metadata": {},
     "output_type": "display_data"
    }
   ],
   "source": [
    "## Plotting\n",
    "close()\n",
    "\n",
    "# Curves\n",
    "plt.plot(d_goal, T_goal, color=\"k\",          label=\"goal profile\")\n",
    "plt.plot(d,      t,      color=\"r\", ls=\"--\", label=\"adiabat\")\n",
    "\n",
    "## initial point\n",
    "plt.scatter([ρ_ini], [T_ini], color=\"b\", marker=\"X\", s=50, label=\"initial seed\")\n",
    "\n",
    "## Setup\n",
    "plt.xlim(1e-11, 1e-4)\n",
    "plt.ylim(1000, 25000)\n",
    "\n",
    "#plt.axvline(3e-7)\n",
    "#plt.axhline(10000)\n",
    "\n",
    "## labels\n",
    "plt.xlabel(\"Density\")\n",
    "plt.ylabel(\"Temperature\")\n",
    "plt.xscale(\"log\")\n",
    "plt.legend();\n",
    "\n",
    "gcf()"
   ]
  },
  {
   "cell_type": "markdown",
   "metadata": {},
   "source": [
    "Profiles against geometrical depth"
   ]
  },
  {
   "cell_type": "code",
   "execution_count": 13,
   "metadata": {},
   "outputs": [
    {
     "ename": "UndefVarError",
     "evalue": "UndefVarError: ross_goal not defined",
     "output_type": "error",
     "traceback": [
      "UndefVarError: ross_goal not defined\n",
      "\n",
      "Stacktrace:\n",
      " [1] top-level scope\n",
      "   @ ~/DISPATCH/MUST.jl/examples/initial_conditions/initial_conditions_2.ipynb:5"
     ]
    }
   ],
   "source": [
    "## Plotting\n",
    "close()\n",
    "\n",
    "# Curves\n",
    "plt.plot(ross_goal, T_goal, color=\"k\",          label=\"goal profile\")\n",
    "plt.plot(ross,      t,      color=\"r\", ls=\"--\", label=\"adiabat\")\n",
    "\n",
    "## initial point\n",
    "plt.scatter([z0*1e8], [T_ini], color=\"b\", marker=\"X\", s=50, label=\"initial seed\")\n",
    "\n",
    "## Setup\n",
    "plt.xlim(-3e8, 1e8)\n",
    "plt.ylim(1000, 25000)\n",
    "\n",
    "## labels\n",
    "plt.xlabel(\"Depth\")\n",
    "plt.ylabel(\"Temperature\")\n",
    "plt.legend();\n",
    "\n",
    "gcf()"
   ]
  },
  {
   "cell_type": "code",
   "execution_count": 14,
   "metadata": {},
   "outputs": [
    {
     "data": {
      "image/png": "[encoded data removed]",
      "text/plain": [
       "Figure(PyObject <Figure size 640x480 with 1 Axes>)"
      ]
     },
     "metadata": {},
     "output_type": "display_data"
    }
   ],
   "source": [
    "## Plotting\n",
    "close()\n",
    "\n",
    "# Curves\n",
    "plt.plot(z_goal, d_goal, color=\"k\",          label=\"goal profile\")\n",
    "plt.plot(ross,   d,      color=\"r\", ls=\"--\", label=\"adiabat\")\n",
    "\n",
    "## initial point\n",
    "plt.scatter([z0*1e8], [ρ_ini], color=\"b\", marker=\"X\", s=50, label=\"initial seed\")\n",
    "\n",
    "## Setup\n",
    "plt.xlim(-3e8, 1e8)\n",
    "#plt.ylim(1000, 25000)\n",
    "\n",
    "## labels\n",
    "plt.xlabel(\"Depth\")\n",
    "plt.ylabel(\"Density\")\n",
    "plt.yscale(\"log\")\n",
    "plt.legend();\n",
    "\n",
    "gcf()"
   ]
  },
  {
   "cell_type": "code",
   "execution_count": 15,
   "metadata": {},
   "outputs": [],
   "source": []
  }
 ],
 "metadata": {
  "kernelspec": {
   "display_name": "Julia 1.6.7",
   "language": "julia",
   "name": "julia-1.6"
  },
  "language_info": {
   "file_extension": ".jl",
   "mimetype": "application/julia",
   "name": "julia",
   "version": "1.6.7"
  },
  "orig_nbformat": 4
 },
 "nbformat": 4,
 "nbformat_minor": 2
}
