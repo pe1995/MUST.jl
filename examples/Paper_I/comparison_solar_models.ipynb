{
 "cells": [
  {
   "attachments": {},
   "cell_type": "markdown",
   "metadata": {},
   "source": [
    "# Code Setup"
   ]
  },
  {
   "cell_type": "code",
   "execution_count": 33,
   "metadata": {},
   "outputs": [
    {
     "name": "stderr",
     "output_type": "stream",
     "text": [
      "\u001b[32m\u001b[1m  Activating\u001b[22m\u001b[39m environment at `/cobra/ptmp/peitner/model_grid/MUST.jl/examples/Paper_I/Project.toml`\n"
     ]
    }
   ],
   "source": [
    "using Pkg; Pkg.activate(\".\")\n",
    "using PyPlot\n",
    "using MUST\n",
    "using LaTeXStrings\n",
    "using DelimitedFiles\n",
    "\n",
    "MUST.@import_dispatch \"/u/peitner/DISPATCH/dispatch2\" ## Set the path of the current dispatch installation to find the models\n",
    "MUST.@get_help visual;                                ## Import functions for plotting"
   ]
  },
  {
   "attachments": {},
   "cell_type": "markdown",
   "metadata": {},
   "source": [
    "# Mode Comparisons\n",
    "We compare the models we obtain from DISPATCH with legacy models from Stagger, Co3bold and possibly other 1D models. For this compute the average structure of the 3D models on the geometrical and optical scale horizontally. \n",
    "We obtain different models using different EoS. We also use the Stagger opacities directly in DISPATCH to obtain a better comparison."
   ]
  },
  {
   "attachments": {},
   "cell_type": "markdown",
   "metadata": {},
   "source": [
    "## Loading Models"
   ]
  },
  {
   "attachments": {},
   "cell_type": "markdown",
   "metadata": {},
   "source": [
    "Currently Tagged Models:\n",
    "\n",
    "    1.) TSO_sun_v10.2_TDZ12: Matching profile to Stagger in the inerior, has a very hot surface\n",
    "    2.) DIS_MARCS_v0.1.1_TDZ6: Reproduces the Stagger surface very well, large missmatch in the interiorß"
   ]
  },
  {
   "cell_type": "code",
   "execution_count": 34,
   "metadata": {},
   "outputs": [],
   "source": [
    "## Stagger reference model (geometrical scale + optical depth scale (Rosseland))\n",
    "folder_stagger = \"/ptmp/peitner/model_grid/MUST.jl/examples/stagger2bifrost\"\n",
    "stagger        = MUST.Box(\"box_solar_stagger_LegacyStagger\", folder=folder_stagger)\n",
    "stagger_τ      = MUST.Box(\"box_solar_stagger_LegacyStagger_t\", folder=folder_stagger);"
   ]
  },
  {
   "cell_type": "code",
   "execution_count": 35,
   "metadata": {},
   "outputs": [],
   "source": [
    "## DISPATCH models (geometrical scale + optical depth scale (Rosseland))\n",
    "### (A) Models with Turbospectrum opacities\n",
    "folder_ts1             = MUST.@in_dispatch \"data/TSO_sun_v10.2_TDZ4\"\n",
    "model_ts1, model_ts1_τ = MUST.Boxes(folder_ts1);\n",
    "\n",
    "### (B) Models with AESOPUS 2.0 opacities\n",
    "folder_ae1             = MUST.@in_dispatch \"data/DIS_AESOPUS_v1.3.2_profile\"\n",
    "model_ae1, model_ae1_τ = MUST.Boxes(folder_ae1);\n",
    "\n",
    "### (C) Models with Legacy opacities\n",
    "folder_le1             = MUST.@in_dispatch \"data/LEG_sun_test_TDZ_corr\"\n",
    "model_le1, model_le1_τ = MUST.Boxes(folder_le1);"
   ]
  },
  {
   "attachments": {},
   "cell_type": "markdown",
   "metadata": {},
   "source": [
    "## Setup and averaging"
   ]
  },
  {
   "attachments": {},
   "cell_type": "markdown",
   "metadata": {},
   "source": [
    "For the plotting we compare the horizontal averages and the differences"
   ]
  },
  {
   "cell_type": "code",
   "execution_count": 36,
   "metadata": {},
   "outputs": [],
   "source": [
    "## Functions for keeping the figure layout homogeneous\n",
    "default_2figure() = begin\n",
    "    f, ax = plt.subplots(1, 2, figsize=(12,6))\n",
    "    basic_plot!.(ax)\n",
    "\n",
    "    f, ax\n",
    "end\n",
    "\n",
    "default_1figure() = begin\n",
    "    f, ax = plt.subplots(1, 1, figsize=(9,6))\n",
    "    basic_plot!(ax)\n",
    "\n",
    "    f, ax\n",
    "end;\n",
    "\n",
    "## Use the averaging function from MUST package (StatsBase)\n",
    "mean = MUST.mean;"
   ]
  },
  {
   "attachments": {},
   "cell_type": "markdown",
   "metadata": {},
   "source": [
    "We want to use a time statistic over the last snapshots for the comparison"
   ]
  },
  {
   "cell_type": "code",
   "execution_count": 37,
   "metadata": {},
   "outputs": [],
   "source": [
    "time_r = 10\n",
    "read_precomputed = false\n",
    "snapshot_range(model, r=time_r)     = max(length(model) - r, 1):length(model)   ## Use the last snapshot_range snapshots\n",
    "read_avsnap(folder::String, ext=\"\") = MUST.Box(\"t$(time_r)$(ext).hdf5\", folder=folder)\n",
    "read_avsnap(models)                 = MUST.time_statistic(mean, view(model, snapshot_range(model)))\n",
    "\n",
    "## (A)\n",
    "#tmodel_ts1   = read_avsnap(folder_ts1)         \n",
    "#tmodel_ts1_τ = read_avsnap(folder_ts1, \"_tau\") \n",
    "tmodel_ts1   = read_avsnap(model_ts1)\n",
    "tmodel_ts1_τ = read_avsnap(model_ts1_τ)\n",
    "\n",
    "## (B)\n",
    "tmodel_ae1   = read_avsnap(model_ae1)\n",
    "tmodel_ae1_τ = read_avsnap(model_ae1_τ)\n",
    "\n",
    "\n",
    "## (C)\n",
    "#tmodel_le1   = read_avsnap(folder_le1)         # read_avsnap(model_le1)\n",
    "#tmodel_le1_τ = read_avsnap(folder_le1, \"_tau\") # read_avsnap(model_le1_τ);\n",
    "tmodel_le1   = read_avsnap(model_le1)\n",
    "tmodel_le1_τ = read_avsnap(model_le1_τ);"
   ]
  },
  {
   "cell_type": "code",
   "execution_count": 38,
   "metadata": {},
   "outputs": [
    {
     "ename": "ArgumentError",
     "evalue": "ArgumentError: invalid ASCII at index 1 in \"τ_ross\"",
     "output_type": "error",
     "traceback": [
      "ArgumentError: invalid ASCII at index 1 in \"τ_ross\"\n",
      "\n",
      "Stacktrace:\n",
      "  [1] __throw_invalid_ascii(s::String, i::Int64)\n",
      "    @ Base ./strings/util.jl:714\n",
      "  [2] ascii(s::String)\n",
      "    @ Base ./strings/util.jl:710\n",
      "  [3] ascii\n",
      "    @ ./strings/util.jl:733 [inlined]\n",
      "  [4] delete_object(obj::HDF5.Dataset)\n",
      "    @ HDF5 ~/.julia/packages/HDF5/NqGY2/src/groups.jl:138\n",
      "  [5] write_dataset(parent::HDF5.File, name::String, data::Array{Float32, 3}; pv::Base.Iterators.Pairs{Union{}, Union{}, Tuple{}, NamedTuple{(), Tuple{}}})\n",
      "    @ HDF5 ~/.julia/packages/HDF5/NqGY2/src/datasets.jl:286\n",
      "  [6] write_dataset\n",
      "    @ ~/.julia/packages/HDF5/NqGY2/src/datasets.jl:282 [inlined]\n",
      "  [7] #write#57\n",
      "    @ ~/.julia/packages/HDF5/NqGY2/src/datasets.jl:306 [inlined]\n",
      "  [8] write\n",
      "    @ ~/.julia/packages/HDF5/NqGY2/src/datasets.jl:306 [inlined]\n",
      "  [9] #setindex!#108\n",
      "    @ ~/.julia/packages/HDF5/NqGY2/src/highlevel.jl:101 [inlined]\n",
      " [10] setindex!(parent::HDF5.File, val::Array{Float32, 3}, path::String)\n",
      "    @ HDF5 ~/.julia/packages/HDF5/NqGY2/src/highlevel.jl:87\n",
      " [11] save(s::Box; folder::String, name::String)\n",
      "    @ MUST /cobra/ptmp/peitner/model_grid/MUST.jl/src/_atmos.jl:613\n",
      " [12] top-level scope\n",
      "    @ ~/DISPATCH/MUST.jl/examples/Paper_I/comparison_solar_models.ipynb:3"
     ]
    }
   ],
   "source": [
    "## Saving time averagers if needed for later\n",
    "## (A)\n",
    "MUST.save(tmodel_ts1,   name=\"t$(time_r).hdf5\",     folder=folder_ts1)\n",
    "MUST.save(tmodel_ts1_τ, name=\"t$(time_r)_tau.hdf5\", folder=folder_ts1)\n",
    "\n",
    "## (B) \n",
    "MUST.save(tmodel_ae1,   name=\"t$(time_r).hdf5\",     folder=folder_ae1)\n",
    "MUST.save(tmodel_ae1_τ, name=\"t$(time_r)_tau.hdf5\", folder=folder_ae1)\n",
    "\n",
    "## (C)\n",
    "MUST.save(tmodel_le1,   name=\"t$(time_r).hdf5\",     folder=folder_le1)\n",
    "MUST.save(tmodel_le1_τ, name=\"t$(time_r)_tau.hdf5\", folder=folder_le1);"
   ]
  },
  {
   "attachments": {},
   "cell_type": "markdown",
   "metadata": {},
   "source": [
    "## Density - Temperature Comparison"
   ]
  },
  {
   "cell_type": "code",
   "execution_count": 39,
   "metadata": {},
   "outputs": [],
   "source": [
    "close()\n",
    "f, ax = default_1figure()\n",
    "\n",
    "\n",
    "## The Dispatch models\n",
    "begin\n",
    "    ## (A)\n",
    "    d = MUST.plane_statistic(mean, tmodel_ts1, :d)\n",
    "    t = MUST.plane_statistic(mean, tmodel_ts1, :T)\n",
    "    ax.plot(d, t, label=\"TS\", color=\"r\", lw=2)\n",
    "\n",
    "    ## (B)\n",
    "    d = MUST.plane_statistic(mean, tmodel_ae1, :d)\n",
    "    t = MUST.plane_statistic(mean, tmodel_ae1, :T)\n",
    "    ax.plot(d, t, label=\"TS\", color=\"r\", lw=2)\n",
    "\n",
    "    ## (C)\n",
    "    d = MUST.plane_statistic(mean, tmodel_le1, :d)\n",
    "    t = MUST.plane_statistic(mean, tmodel_le1, :T)\n",
    "    ax.plot(d, t, label=\"Legacy\", color=\"b\", lw=2)\n",
    "end\n",
    "\n",
    "\n",
    "## The Stagger model for comparison\n",
    "d = MUST.plane_statistic(mean, stagger, :d)\n",
    "t = MUST.plane_statistic(mean, stagger, :T)\n",
    "ax.plot(d, t, label=\"Stagger\", color=\"k\", lw=2.5)\n",
    "\n",
    "\n",
    "## Plot setup\n",
    "ax.set_xscale(\"log\")\n",
    "\n",
    "gcf()\n"
   ]
  }
 ],
 "metadata": {
  "kernelspec": {
   "display_name": "Julia 1.6.7",
   "language": "julia",
   "name": "julia-1.6"
  },
  "language_info": {
   "file_extension": ".jl",
   "mimetype": "application/julia",
   "name": "julia",
   "version": "1.6.7"
  },
  "orig_nbformat": 4,
  "vscode": {
   "interpreter": {
    "hash": "30295c5bec572e859485b1ffa5e89b8b3e2022ef6e3e739c1ac40f143a557caf"
   }
  }
 },
 "nbformat": 4,
 "nbformat_minor": 2
}
