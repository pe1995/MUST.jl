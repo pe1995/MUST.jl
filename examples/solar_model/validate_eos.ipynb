{
 "cells": [
  {
   "cell_type": "code",
   "execution_count": 1,
   "metadata": {},
   "outputs": [],
   "source": [
    "using MUST\n",
    "using PyPlot\n",
    "using DelimitedFiles\n",
    "using PyCall\n",
    "\n",
    "MUST.@get_help visual ;\n",
    "MUST.@import_dispatch \"/u/peitner/DISPATCH/dispatch2\"\n",
    "MUST.@import_dispatch \"/u/peitner/DISPATCH/dispatch2\" EOS ;"
   ]
  },
  {
   "cell_type": "code",
   "execution_count": 2,
   "metadata": {},
   "outputs": [],
   "source": [
    "leEos = MUST.@legacyPythonEOS ;"
   ]
  },
  {
   "cell_type": "code",
   "execution_count": 9,
   "metadata": {},
   "outputs": [
    {
     "data": {
      "text/plain": [
       "\"input_data/LegacyStagger_sun/\""
      ]
     },
     "metadata": {},
     "output_type": "display_data"
    }
   ],
   "source": [
    "bf_top = abspath.(MUST.@in_dispatch(\"\"))\n",
    "bf_dir = \"input_data/LegacyStagger_sun/\""
   ]
  },
  {
   "cell_type": "code",
   "execution_count": 10,
   "metadata": {},
   "outputs": [
    {
     "data": {
      "text/plain": [
       "PyObject <EOS.bifrost.bifrost object at 0x2b016ee2deb0>"
      ]
     },
     "metadata": {},
     "output_type": "display_data"
    }
   ],
   "source": [
    "eos = EOS.bifrost(dir=bf_dir, top=bf_top)"
   ]
  },
  {
   "cell_type": "code",
   "execution_count": 13,
   "metadata": {},
   "outputs": [
    {
     "data": {
      "text/plain": [
       "\"/u/peitner/DISPATCH/dispatch2/experiments/stellar_atmospheres/input_data/LegacyStagger_sun/dispatch.rs\""
      ]
     },
     "metadata": {},
     "output_type": "display_data"
    }
   ],
   "source": [
    "eos.write(\"dispatch.eos\",verbose=0)\n",
    "mv(\"dispatch.eos\", joinpath(bf_top, bf_dir, \"dispatch.eos\"))\n",
    "mv(\"dispatch.nml\", joinpath(bf_top, bf_dir, \"dispatch.nml\"))\n",
    "mv(\"dispatch.rs\", joinpath(bf_top, bf_dir, \"dispatch.rs\"))"
   ]
  },
  {
   "cell_type": "code",
   "execution_count": null,
   "metadata": {},
   "outputs": [],
   "source": []
  }
 ],
 "metadata": {
  "kernelspec": {
   "display_name": "Julia 1.6.7",
   "language": "julia",
   "name": "julia-1.6"
  },
  "language_info": {
   "file_extension": ".jl",
   "mimetype": "application/julia",
   "name": "julia",
   "version": "1.6.7"
  },
  "orig_nbformat": 4
 },
 "nbformat": 4,
 "nbformat_minor": 2
}
