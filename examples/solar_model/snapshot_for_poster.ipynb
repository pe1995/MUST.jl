{
 "cells": [
  {
   "cell_type": "code",
   "execution_count": 8,
   "metadata": {},
   "outputs": [
    {
     "name": "stderr",
     "output_type": "stream",
     "text": [
      "\u001b[32m\u001b[1m  Activating\u001b[22m\u001b[39m environment at `/cobra/ptmp/peitner/model_grid/MUST.jl/examples/solar_model/Project.toml`\n"
     ]
    }
   ],
   "source": [
    "using Pkg; Pkg.activate(\".\"); \n",
    "using StatsBase\n",
    "using NPZ\n",
    "using MUST\n",
    "using PyPlot\n",
    "using Interpolations\n",
    "using PyCall\n",
    "using KernelDensity\n",
    "using DelimitedFiles\n",
    "using Printf\n",
    "using TSO\n",
    "\n",
    "#import PyCall.rc\n",
    "#rc(\"font\", size=17)\n",
    "\n",
    "MUST.@import_dispatch \"/u/peitner/DISPATCH/dispatch2\"\n",
    "\n",
    "MUST.@get_help visual\n",
    "pl = pyimport(\"matplotlib.pylab\");"
   ]
  },
  {
   "cell_type": "code",
   "execution_count": 5,
   "metadata": {},
   "outputs": [],
   "source": [
    "folders = [ MUST.@in_dispatch(\"data_tmps/DIS_MARCS_v0.4.4_TDZ2\")]\n",
    "snaps   = [93]\n",
    "labels  = [\"MARCS (4 bins) - cooler adiabat\"]\n",
    "\n",
    "model, model_t = [first(MUST.Boxes(folder1, snaps=[snaps[i]])) for (i,folder1) in enumerate(folders)], \n",
    "                 [last(MUST.Boxes(folder1, snaps=[snaps[i]])) for (i,folder1) in enumerate(folders)];"
   ]
  },
  {
   "cell_type": "code",
   "execution_count": 4,
   "metadata": {},
   "outputs": [],
   "source": [
    "eos_path = \"/u/peitner/Turbospectrum/opacity_tables/tests/DIS_MARCS_v0.5.1\"\n",
    "eos = reload(SqEoS, joinpath(eos_path, \"eos.hdf5\"))\n",
    "opa = reload(SqOpacity, joinpath(eos_path, \"binned_opacities.hdf5\"));"
   ]
  },
  {
   "cell_type": "code",
   "execution_count": 6,
   "metadata": {},
   "outputs": [],
   "source": [
    "m = last(model);"
   ]
  },
  {
   "cell_type": "code",
   "execution_count": 10,
   "metadata": {},
   "outputs": [],
   "source": [
    "κ = lookup(eos, opa, :κ,   log.(m[:d]), log.(m[:T]), 1)\n",
    "S = lookup(eos, opa, :src, log.(m[:d]), log.(m[:T]), 1);"
   ]
  },
  {
   "cell_type": "code",
   "execution_count": 12,
   "metadata": {},
   "outputs": [
    {
     "data": {
      "text/plain": [
       "(200, 200, 100)"
      ]
     },
     "metadata": {},
     "output_type": "display_data"
    }
   ],
   "source": [
    "size(κ)"
   ]
  },
  {
   "cell_type": "code",
   "execution_count": 11,
   "metadata": {},
   "outputs": [],
   "source": [
    "npzwrite(\"cube.npz\", Dict(\"opacity\" => κ, \"source_function\" => S, \"Temperature\" => m[:T]))"
   ]
  }
 ],
 "metadata": {
  "kernelspec": {
   "display_name": "Julia 1.6.7",
   "language": "julia",
   "name": "julia-1.6"
  },
  "language_info": {
   "file_extension": ".jl",
   "mimetype": "application/julia",
   "name": "julia",
   "version": "1.6.7"
  },
  "orig_nbformat": 4,
  "vscode": {
   "interpreter": {
    "hash": "30295c5bec572e859485b1ffa5e89b8b3e2022ef6e3e739c1ac40f143a557caf"
   }
  }
 },
 "nbformat": 4,
 "nbformat_minor": 2
}
