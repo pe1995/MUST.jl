{
 "cells": [
  {
   "attachments": {},
   "cell_type": "markdown",
   "metadata": {},
   "source": [
    "# Packages"
   ]
  },
  {
   "cell_type": "code",
   "execution_count": 4,
   "metadata": {},
   "outputs": [
    {
     "name": "stderr",
     "output_type": "stream",
     "text": [
      "\u001b[32m\u001b[1m  Activating\u001b[22m\u001b[39m environment at `/cobra/ptmp/peitner/model_grid/MUST.jl/examples/solar_model/Project.toml`\n"
     ]
    }
   ],
   "source": [
    "using Pkg; Pkg.activate(\".\"); \n",
    "using StatsBase\n",
    "using MUST\n",
    "using PyPlot\n",
    "using Interpolations\n",
    "using PyCall\n",
    "using KernelDensity\n",
    "using DelimitedFiles\n",
    "using Printf\n",
    "using TSO\n",
    "\n",
    "#import PyCall.rc\n",
    "#rc(\"font\", size=17)\n",
    "\n",
    "MUST.@import_dispatch \"/u/peitner/DISPATCH/dispatch2\"\n",
    "\n",
    "MUST.@get_help visual\n",
    "pl = pyimport(\"matplotlib.pylab\");"
   ]
  },
  {
   "cell_type": "code",
   "execution_count": 5,
   "metadata": {},
   "outputs": [],
   "source": [
    "plt.style.use(\"dark_background\")"
   ]
  },
  {
   "attachments": {},
   "cell_type": "markdown",
   "metadata": {},
   "source": [
    "# Model"
   ]
  },
  {
   "cell_type": "code",
   "execution_count": 6,
   "metadata": {},
   "outputs": [],
   "source": [
    "folders = [ MUST.@in_dispatch(\"data_tmps/DIS_MARCS_v0.4.4_TDZ2\")]\n",
    "snaps   = [93]\n",
    "labels  = [\"MARCS (4 bins) - cooler adiabat\"]\n",
    "\n",
    "model, model_t = [first(MUST.Boxes(folder1, snaps=[snaps[i]])) for (i,folder1) in enumerate(folders)], \n",
    "                 [last(MUST.Boxes(folder1, snaps=[snaps[i]])) for (i,folder1) in enumerate(folders)];"
   ]
  },
  {
   "attachments": {},
   "cell_type": "markdown",
   "metadata": {},
   "source": [
    "# 3D surface plot"
   ]
  },
  {
   "cell_type": "code",
   "execution_count": 7,
   "metadata": {},
   "outputs": [],
   "source": [
    "m = first(model);"
   ]
  },
  {
   "cell_type": "code",
   "execution_count": 8,
   "metadata": {},
   "outputs": [
    {
     "data": {
      "text/plain": [
       "mesh (generic function with 1 method)"
      ]
     },
     "execution_count": 8,
     "metadata": {},
     "output_type": "execute_result"
    }
   ],
   "source": [
    "mesh(m::MUST.Box) = MUST.meshgrid(MUST.axis(m, :x) ./1e8, MUST.axis(m, :y) ./1e8, MUST.axis(m, :z) ./1e8)"
   ]
  },
  {
   "cell_type": "code",
   "execution_count": 16,
   "metadata": {},
   "outputs": [],
   "source": [
    "b = first(MUST.Boxes(first(folders)))\n",
    "\n",
    "m = b[1]\n",
    "\n",
    "paths = []\n",
    "\n",
    "# Define dimensions\n",
    "Nx, Ny, Nz = size(m)\n",
    "X, Y, Z    = mesh(m)\n",
    "\n",
    "xmin, xmax = minimum(X), maximum(X)\n",
    "ymin, ymax = minimum(Y), maximum(Y)\n",
    "zmin, zmax = minimum(Z), maximum(Z)\n",
    "\n",
    "vmin = 2000 \n",
    "vmax = 15000\n",
    "\n",
    "var = :T\n",
    "\n",
    "for i in eachindex(b)\n",
    "    #i > 5&& break\n",
    "    m = b[i]\n",
    "\n",
    "    close()\n",
    "\n",
    "    # Define dimensions\n",
    "    Nx, Ny, Nz = size(m)\n",
    "    X, Y, Z    = mesh(m)\n",
    "\n",
    "    #mask = (1:5, 1:5, 1:5)\n",
    "\n",
    "    data = m[var]\n",
    "\n",
    "    # Create a figure with 3D ax\n",
    "    fig = plt.figure(figsize=(10, 10))\n",
    "    ax = fig.add_subplot(111, projection=\"3d\")\n",
    "\n",
    "    im = ax.scatter(X[:,   1,  :],   Y[:,   1, :],   Z[:,   1, :],   c=data[:,   1, :],   s=6.5, vmin=vmin, vmax=vmax, cmap=\"rainbow\")\n",
    "    im = ax.scatter(X[end, :,  :],   Y[end, :, :],   Z[end, :, :],   c=data[end, :, :],   s=6.5, vmin=vmin, vmax=vmax, cmap=\"rainbow\")\n",
    "    im = ax.scatter(X[:,   :,  end], Y[:,   :, end], Z[:,   :, end], c=data[:,   :, end], s=6.5, vmin=vmin, vmax=vmax, cmap=\"rainbow\")\n",
    "    im = ax.scatter(X[:,   end, :],  Y[:, end, :],   Z[:, end, :],   c=data[:, end, :],   s=6.5, vmin=vmin, vmax=vmax, cmap=\"rainbow\")\n",
    "    im = ax.scatter(X[1,   :,  :],   Y[1,   :, :],   Z[1,   :, :],   c=data[1,   :, :],   s=6.5, vmin=vmin, vmax=vmax, cmap=\"rainbow\")\n",
    "    im = ax.scatter(X[:,   :,  1],   Y[:,   :, 1],   Z[:,   :, 1],   c=data[:,   :, 1],   s=6.5, vmin=vmin, vmax=vmax, cmap=\"rainbow\")\n",
    "\n",
    "    # Set limits of the plot from coord limits\n",
    "    ax.set(xlim=[xmin, xmax], ylim=[ymin, ymax], zlim=[zmin, zmax])\n",
    "\n",
    "    # Plot edges\n",
    "    ax.plot([xmax, xmax], [ymin, ymax], zmax, color=\"0.4\", linewidth=1, zorder=1e3)\n",
    "    ax.plot([xmin, xmax], [ymin, ymin], zmax, color=\"0.4\", linewidth=1, zorder=1e3)\n",
    "    ax.plot([xmax, xmax], [ymin, ymax], zmax, color=\"0.4\", linewidth=1, zorder=1e3)\n",
    "    ax.plot([xmin, xmax], [ymin, ymin], zmax, color=\"0.4\", linewidth=1, zorder=1e3)\n",
    "\n",
    "    ax.plot([xmax, xmax], [ymin, ymax], 0, color=\"0.4\", linewidth=1, zorder=1e3)\n",
    "    ax.plot([xmin, xmax], [ymin, ymin], 0, color=\"0.4\", linewidth=1, zorder=1e3)\n",
    "    ax.plot([xmax, xmax], [ymin, ymax], 0, color=\"0.4\", linewidth=1, zorder=1e3)\n",
    "    ax.plot([xmin, xmax], [ymin, ymin], 0, color=\"0.4\", linewidth=1, zorder=1e3)\n",
    "\n",
    "    ax.plot([xmax, xmax], [ymin, ymin], [zmin, zmax], color=\"0.4\", linewidth=1, zorder=1e3)\n",
    "\n",
    "    # Set labels and zticks\n",
    "    ax.set(\n",
    "        ylabel=\"Y [Mm]\",\n",
    "        xlabel=\"X [Mm]\",\n",
    "        zlabel=\"Z [Mm]\")\n",
    "\n",
    "    # Set zoom and angle view\n",
    "    #ax.view_init(40, -30, 0)\n",
    "    #ax.set_box_aspect(None, zoom=0.9)\n",
    "\n",
    "    norm = matplotlib.colors.Normalize(vmin=vmin, vmax=vmax)\n",
    "    sm   = plt.cm.ScalarMappable(norm=norm, cmap=\"rainbow\")\n",
    "    sm.set_array([]) \n",
    "\n",
    "    # Colorbar\n",
    "    plt.colorbar(sm, ax=ax, label=\"Temperature [K]\")\n",
    "\n",
    "    ax.grid(false)\n",
    "\n",
    "    # make the panes transparent\n",
    "    ax.xaxis.set_pane_color((1.0, 1.0, 1.0, 0.0))\n",
    "    ax.yaxis.set_pane_color((1.0, 1.0, 1.0, 0.0))\n",
    "    ax.zaxis.set_pane_color((1.0, 1.0, 1.0, 0.0))\n",
    "\n",
    "    ts = @sprintf(\"%i\", b[i].parameter.time)\n",
    "    ax.set_title(\"solar time: $(ts) min\", fontsize=\"x-large\")\n",
    "\n",
    "    fig.savefig(\"mtemp_$(i).png\", bbox_inches=\"tight\", dpi=300, transparent=false)\n",
    "    append!(paths, [\"mtemp_$(i).png\"])\n",
    "\n",
    "    plt.close()\n",
    "end\n",
    "\n",
    "gif_from_pngs(paths, \"cube_$(var).gif\", duration=0.45);"
   ]
  },
  {
   "cell_type": "code",
   "execution_count": null,
   "metadata": {},
   "outputs": [],
   "source": []
  }
 ],
 "metadata": {
  "kernelspec": {
   "display_name": "Julia 1.6.7",
   "language": "julia",
   "name": "julia-1.6"
  },
  "language_info": {
   "file_extension": ".jl",
   "mimetype": "application/julia",
   "name": "julia",
   "version": "1.6.7"
  },
  "orig_nbformat": 4
 },
 "nbformat": 4,
 "nbformat_minor": 2
}
