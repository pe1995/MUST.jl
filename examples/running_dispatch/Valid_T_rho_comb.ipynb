{
 "cells": [
  {
   "cell_type": "code",
   "execution_count": 1,
   "metadata": {},
   "outputs": [
    {
     "name": "stderr",
     "output_type": "stream",
     "text": [
      "\u001b[32m\u001b[1m  Activating\u001b[22m\u001b[39m environment at `/raven/ptmp/peitner/model_grids/MUST.jl/examples/running_dispatch/Project.toml`\n"
     ]
    },
    {
     "data": {
      "text/plain": [
       "PyObject <module 'dispatch' from '/raven/ptmp/peitner/model_grids/dispatch2/utilities/python/dispatch/__init__.py'>"
      ]
     },
     "metadata": {},
     "output_type": "display_data"
    }
   ],
   "source": [
    "using Pkg; Pkg.activate(\".\")\n",
    "using CSV\n",
    "using DataFrames\n",
    "using PyPlot\n",
    "using LaTeXStrings\n",
    "using MUST\n",
    "using DelimitedFiles\n",
    "using Statistics\n",
    "MUST.@import_dispatch \"../../../dispatch2\""
   ]
  },
  {
   "cell_type": "code",
   "execution_count": 2,
   "metadata": {},
   "outputs": [],
   "source": [
    "results = DataFrame(CSV.File(\"summary_testrun1.csv\"));"
   ]
  },
  {
   "cell_type": "code",
   "execution_count": 3,
   "metadata": {},
   "outputs": [],
   "source": [
    "t, rho, ee0, ee_min, successP1, successP2 = eachcol(results[:,[:stellar_params!tt_k, :stellar_params!d_cgs, :newton_params!ee0, :stellar_params!ee_min, :phase1_success, :phase2_success]]);"
   ]
  },
  {
   "cell_type": "markdown",
   "metadata": {},
   "source": [
    "# Phase 1 (no RT)"
   ]
  },
  {
   "cell_type": "code",
   "execution_count": 9,
   "metadata": {},
   "outputs": [],
   "source": [
    "plt.close()\n",
    "im = plt.scatter(t, rho, c=successP1, cmap=\"bwr_r\")\n",
    "plt.xlabel(L\"\\rm T_{ini}\", fontsize=\"x-large\")\n",
    "plt.ylabel(L\"\\rm \\rho_{ini}\", fontsize=\"x-large\")\n",
    "cbar = plt.colorbar(im)\n",
    "cbar.set_label(\"phase 1 (no RT)\")\n",
    "cbar.set_ticks([0,1])\n",
    "cbar.set_ticklabels([\"failed\", \"success\"])\n",
    "plt.savefig(\"t_rho_p1_success.png\")"
   ]
  },
  {
   "cell_type": "code",
   "execution_count": 10,
   "metadata": {},
   "outputs": [],
   "source": [
    "plt.close()\n",
    "im = plt.scatter(ee0, ee_min, c=successP1, cmap=\"bwr_r\")\n",
    "plt.xlabel(L\"\\rm ee_{0}\", fontsize=\"x-large\")\n",
    "plt.ylabel(L\"\\rm ee_{min}\", fontsize=\"x-large\")\n",
    "cbar = plt.colorbar(im)\n",
    "cbar.set_label(\"phase 1 (no RT)\")\n",
    "cbar.set_ticks([0,1])\n",
    "cbar.set_ticklabels([\"failed\", \"success\"])\n",
    "cbar.set_ticklabels([\"failed\", \"success\"])\n",
    "plt.savefig(\"ee0_eemin_p1_success.png\")"
   ]
  },
  {
   "cell_type": "markdown",
   "metadata": {},
   "source": [
    "# Phase 2 (with RT)"
   ]
  },
  {
   "cell_type": "code",
   "execution_count": 11,
   "metadata": {},
   "outputs": [],
   "source": [
    "plt.close()\n",
    "im = plt.scatter(t, rho, c=successP2, cmap=\"bwr_r\")\n",
    "plt.xlabel(L\"\\rm T_{ini}\", fontsize=\"x-large\")\n",
    "plt.ylabel(L\"\\rm \\rho_{ini}\", fontsize=\"x-large\")\n",
    "cbar = plt.colorbar(im)\n",
    "cbar.set_label(\"phase 2 (no RT)\")\n",
    "cbar.set_ticks([0,1])\n",
    "cbar.set_ticklabels([\"failed\", \"success\"])\n",
    "plt.savefig(\"t_rho_p2_success.png\")"
   ]
  },
  {
   "cell_type": "code",
   "execution_count": 17,
   "metadata": {},
   "outputs": [],
   "source": [
    "plt.close()\n",
    "im = plt.scatter(ee0, ee_min, c=successP2, cmap=\"bwr_r\")\n",
    "plt.xlabel(L\"\\rm ee_{0}\", fontsize=\"x-large\")\n",
    "plt.ylabel(L\"\\rm ee_{min}\", fontsize=\"x-large\")\n",
    "cbar = plt.colorbar(im)\n",
    "cbar.set_label(\"phase 2 (no RT)\")\n",
    "cbar.set_ticks([0,1])\n",
    "cbar.set_ticklabels([\"failed\", \"success\"])\n",
    "plt.savefig(\"ee0_eemin_p2_success.png\")"
   ]
  },
  {
   "cell_type": "markdown",
   "metadata": {},
   "source": [
    "# Effective temperature of successful runs"
   ]
  },
  {
   "cell_type": "code",
   "execution_count": 12,
   "metadata": {},
   "outputs": [
    {
     "data": {
      "text/plain": [
       "get_teff (generic function with 1 method)"
      ]
     },
     "metadata": {},
     "output_type": "display_data"
    }
   ],
   "source": [
    "get_teff(folder) = begin\n",
    "    path = joinpath(folder, \"teff.dat\")\n",
    "    if !ispath(path) @warn \"$(path) does not exist.\"\n",
    "        return nothing\n",
    "    end\n",
    "    data = readdlm(path)\n",
    "end "
   ]
  },
  {
   "cell_type": "code",
   "execution_count": 13,
   "metadata": {},
   "outputs": [],
   "source": [
    "folders = [@MUST.in_dispatch(joinpath(\"data\",r[1:first(findfirst(\".nml\",r))-1])) for r in results[results.phase2_success .== true, :phase2_name]];"
   ]
  },
  {
   "cell_type": "code",
   "execution_count": 14,
   "metadata": {},
   "outputs": [
    {
     "name": "stderr",
     "output_type": "stream",
     "text": [
      "┌ Warning: /raven/ptmp/peitner/model_grids/dispatch2/experiments/stellar_atmospheres/data/grid4_phase2/teff.dat does not exist.\n",
      "└ @ Main /ptmp/peitner/model_grids/MUST.jl/examples/running_dispatch/Valid_T_rho_comb.ipynb:3\n",
      "┌ Warning: /raven/ptmp/peitner/model_grids/dispatch2/experiments/stellar_atmospheres/data/grid19_phase2/teff.dat does not exist.\n",
      "└ @ Main /ptmp/peitner/model_grids/MUST.jl/examples/running_dispatch/Valid_T_rho_comb.ipynb:3\n"
     ]
    },
    {
     "name": "stderr",
     "output_type": "stream",
     "text": [
      "┌ Warning: /raven/ptmp/peitner/model_grids/dispatch2/experiments/stellar_atmospheres/data/grid32_phase2/teff.dat does not exist.\n",
      "└ @ Main /ptmp/peitner/model_grids/MUST.jl/examples/running_dispatch/Valid_T_rho_comb.ipynb:3\n",
      "┌ Warning: /raven/ptmp/peitner/model_grids/dispatch2/experiments/stellar_atmospheres/data/grid51_phase2/teff.dat does not exist.\n",
      "└ @ Main /ptmp/peitner/model_grids/MUST.jl/examples/running_dispatch/Valid_T_rho_comb.ipynb:3\n"
     ]
    }
   ],
   "source": [
    "teff = [get_teff(f) for f in folders];"
   ]
  },
  {
   "cell_type": "code",
   "execution_count": 16,
   "metadata": {},
   "outputs": [],
   "source": [
    "plt.close()\n",
    "for r in teff\n",
    "    isnothing(r) && continue\n",
    "    \n",
    "    plt.plot(r[:,1], r[:,2], marker=\".\")\n",
    "end\n",
    "plt.ylim(4500,5750)\n",
    "plt.savefig(\"teff.png\")"
   ]
  },
  {
   "cell_type": "code",
   "execution_count": 18,
   "metadata": {},
   "outputs": [],
   "source": [
    "teff_t = []\n",
    "for t in teff\n",
    "    try\n",
    "        isnothing(t) ? append!(teff_t, [NaN]) : append!(teff_t, [mean(t[end-20:end,2])])\n",
    "    catch\n",
    "        append!(teff_t, [NaN])\n",
    "    end\n",
    "end"
   ]
  },
  {
   "cell_type": "code",
   "execution_count": 19,
   "metadata": {},
   "outputs": [],
   "source": [
    "t_success, rho_success = eachcol(results[results.phase2_success .== true, [:stellar_params!tt_k, :stellar_params!d_cgs]]);"
   ]
  },
  {
   "cell_type": "code",
   "execution_count": 20,
   "metadata": {},
   "outputs": [],
   "source": [
    "plt.close()\n",
    "im = plt.scatter(t_success, rho_success, c=teff_t, cmap=\"gnuplot\", s=50)\n",
    "cbar = plt.colorbar(im)\n",
    "plt.xlabel(L\"\\rm T_{ini}\", fontsize=\"x-large\")\n",
    "plt.ylabel(L\"\\rm \\rho_{ini}\", fontsize=\"x-large\")\n",
    "cbar.set_label(L\"\\rm T_{eff}\", fontsize=\"x-large\")\n",
    "plt.savefig(\"t_rho_teff.png\")"
   ]
  },
  {
   "cell_type": "code",
   "execution_count": null,
   "metadata": {},
   "outputs": [],
   "source": []
  }
 ],
 "metadata": {
  "kernelspec": {
   "display_name": "Julia 1.6.4",
   "language": "julia",
   "name": "julia-1.6"
  },
  "language_info": {
   "file_extension": ".jl",
   "mimetype": "application/julia",
   "name": "julia",
   "version": "1.6.4"
  },
  "orig_nbformat": 4
 },
 "nbformat": 4,
 "nbformat_minor": 2
}
