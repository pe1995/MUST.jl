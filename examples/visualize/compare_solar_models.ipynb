{
 "cells": [
  {
   "cell_type": "code",
   "execution_count": 32,
   "metadata": {},
   "outputs": [
    {
     "name": "stderr",
     "output_type": "stream",
     "text": [
      "\u001b[32m\u001b[1m  Activating\u001b[22m\u001b[39m environment at `/cobra/ptmp/peitner/model_grid/MUST.jl/examples/visualize/Project.toml`\n"
     ]
    }
   ],
   "source": [
    "using Pkg; Pkg.activate(\".\")\n",
    "using Statistics\n",
    "using PyPlot\n",
    "using Glob\n",
    "using DelimitedFiles\n",
    "using MUST\n",
    "\n",
    "MUST.@import_dispatch \"../../../dispatch2_clean/dispatch2\" \n",
    "MUST.@import_dispatch \"../../../dispatch2_clean/dispatch2\" EOS \n",
    "MUST.@get_help visual\n",
    "pl = pyimport(\"matplotlib.pylab\");"
   ]
  },
  {
   "cell_type": "markdown",
   "metadata": {},
   "source": [
    "read the solar model"
   ]
  },
  {
   "cell_type": "code",
   "execution_count": 33,
   "metadata": {},
   "outputs": [],
   "source": [
    "solar_model = readdlm(\"solar_model.txt\");"
   ]
  },
  {
   "cell_type": "markdown",
   "metadata": {},
   "source": [
    "Loading different models. It loads the normal, as well as the optical depth box."
   ]
  },
  {
   "cell_type": "code",
   "execution_count": 34,
   "metadata": {},
   "outputs": [],
   "source": [
    "function read_snaps(folder)\n",
    "    content_of_folder = glob(\"*/\", folder)\n",
    "    snapshots         = sort(MUST.list_of_snapshots(content_of_folder));\n",
    "    boxes  = []\n",
    "    boxesT = []\n",
    "    for (i_s,snap) in enumerate(snapshots)\n",
    "        try\n",
    "            append!(boxes, [MUST.Box(\"box_sn$(snapshots[i_s])\", folder=folder)])\n",
    "        catch\n",
    "            #@warn \"could not load $(i_s) (spatial)\"\n",
    "        end\n",
    "\n",
    "        try\n",
    "            append!(boxesT, [MUST.Box(\"box_tau_sn$(snapshots[i_s])\", folder=folder)])\n",
    "        catch\n",
    "            #@warn \"could not load $(i_s) (optical depth)\"\n",
    "        end\n",
    "\n",
    "    end\n",
    "    boxes, boxesT\n",
    "end;"
   ]
  },
  {
   "cell_type": "code",
   "execution_count": 35,
   "metadata": {},
   "outputs": [],
   "source": [
    "folder = MUST.@in_dispatch \"data/p663\"\n",
    "m1 = read_snaps(folder);"
   ]
  },
  {
   "cell_type": "code",
   "execution_count": null,
   "metadata": {},
   "outputs": [],
   "source": [
    "folder2 = MUST.@in_dispatch \"data/p12126\"\n",
    "m2 = read_snaps(folder2);"
   ]
  },
  {
   "cell_type": "markdown",
   "metadata": {},
   "source": [
    "Load the suitable EOS"
   ]
  },
  {
   "cell_type": "code",
   "execution_count": null,
   "metadata": {},
   "outputs": [],
   "source": [
    "eos_sqg = MUST.SquareGasEOS(MUST.@in_dispatch(\"input_data/solar_lte\"));\n",
    "eos_leg = MUST.@legacyPythonEOS ;"
   ]
  },
  {
   "cell_type": "code",
   "execution_count": null,
   "metadata": {},
   "outputs": [],
   "source": [
    "units = MUST.StaggerCGS();"
   ]
  },
  {
   "cell_type": "code",
   "execution_count": null,
   "metadata": {},
   "outputs": [],
   "source": [
    "emin = exp(eos_sqg.lnEi_axis[1])\n",
    "dmin = exp(eos_sqg.lnRho_axis[1])"
   ]
  },
  {
   "cell_type": "code",
   "execution_count": null,
   "metadata": {},
   "outputs": [],
   "source": [
    "d, e = MUST.meshgrid(eos_sqg.lnRho_axis[1:2:end], eos_sqg.lnEi_axis[1:2:end])\n",
    "rk   = MUST.lookup(eos_sqg, :rk, d, e; to_log=false);"
   ]
  },
  {
   "cell_type": "code",
   "execution_count": null,
   "metadata": {},
   "outputs": [],
   "source": [
    "#rk2 = zeros(eltype(d), size(d2)..., 4)\n",
    "#for j in size(d2,2)\n",
    "#    for j in size(d2,1)\n",
    "#        rk2[i,j] = MUST.lookup(eos_leg, :rk, d[i,j], e[i,j]);\n",
    "#    end\n",
    "#end"
   ]
  },
  {
   "cell_type": "code",
   "execution_count": null,
   "metadata": {},
   "outputs": [],
   "source": [
    "mask = 1:size(d,1) ;"
   ]
  },
  {
   "cell_type": "code",
   "execution_count": null,
   "metadata": {},
   "outputs": [],
   "source": [
    "d0 = convert(Float64, eos_leg.eos.scale0.min)\n",
    "d1 = convert(Float64, eos_leg.eos.scale0.max)\n",
    "e0 = convert(Float64, eos_leg.eos.scale1.min)\n",
    "e1 = convert(Float64, eos_leg.eos.scale1.max)"
   ]
  },
  {
   "cell_type": "code",
   "execution_count": null,
   "metadata": {},
   "outputs": [],
   "source": [
    "model        = m2[1][end-4]\n",
    "d_profile    = MUST.plane_statistic(mean, model, :d) ./ units.d\n",
    "ee_profile   = MUST.plane_statistic(mean, model, :ee) ./ units.ee ;"
   ]
  },
  {
   "cell_type": "markdown",
   "metadata": {},
   "source": [
    "Plot the diagnostics as plane averages"
   ]
  },
  {
   "cell_type": "code",
   "execution_count": null,
   "metadata": {},
   "outputs": [],
   "source": [
    "function plot_diags(boxes, x_axis, ax, colors, stat, diags...; funcs...)\n",
    "    for i in 1:length(boxes)\n",
    "        for j in 1:length(diags)\n",
    "            v  = MUST.plane_statistic(stat, boxes[i], diags[j]) \n",
    "            if diags[j] in keys(funcs)\n",
    "                v = funcs[diags[j]].(v)\n",
    "            end\n",
    "            t  = boxes[i][x_axis][1,1,:]\n",
    "            if x_axis in keys(funcs)\n",
    "                t = funcs[x_axis].(t)\n",
    "            end\n",
    "            ax[j].plot(t, v, label=\"$(i)\", color=colors[i])\n",
    "        end\n",
    "    end\n",
    "end\n",
    "\n",
    "get_colors(cmap_name, cmap, boxes) = begin\n",
    "    colors = cmap.(Vector(range(0.1,1.0; length=length(boxes))))\n",
    "    sm     = plt.cm.ScalarMappable(cmap=cmap_name, norm=plt.Normalize(vmin=0, vmax=length(boxes)))\n",
    "    (colors, sm)\n",
    "end;"
   ]
  },
  {
   "cell_type": "code",
   "execution_count": null,
   "metadata": {},
   "outputs": [],
   "source": [
    "f, ax = plt.subplots(3, 2, sharex=true, sharey=false, figsize=(10,6))\n",
    "basic_plot!.(ax)\n",
    "\n",
    "ax[1,1].set_ylabel(L\"\\rm U_z\\ [km/s]\")\n",
    "ax[2,1].set_ylabel(L\"\\rm \\log\\ \\rho\\ [g/cm^3]\")\n",
    "ax[3,1].set_ylabel(L\"\\rm T [K]\")\n",
    "\n",
    "#ax[3,1].set_xlabel(L\"\\rm \\log\\ \\tau_{ross}\\ \")\n",
    "#ax[3,2].set_xlabel(L\"\\rm \\log\\ \\tau_{ross}\\ \")\n",
    "\n",
    "ax[3,1].set_xlabel(L\"\\rm z \\ \")\n",
    "ax[3,2].set_xlabel(L\"\\rm z \\ \")\n",
    "\n",
    "\n",
    "ax[1,1].set_title(L\"\\rm after\\ restart\")\n",
    "ax[1,2].set_title(L\"\\rm after\\ restart\")\n",
    "#ax[1,2].set_title(L\"\\rm Maximum\")\n",
    "\n",
    "\n",
    "e = length(m1[1]) -2\n",
    "\n",
    "# First model\n",
    "c1, sm1 = get_colors(\"Reds\", plt.cm.Reds,   m1[1][2:end-1])\n",
    "c2, sm2 = get_colors(\"Blues\", plt.cm.Blues, m1[1][2:end-1])\n",
    "c3, sm3 = get_colors(\"Greens\", plt.cm.Greens, m1[1][2:end-1])\n",
    "\n",
    "a  = @view ax[:,1]\n",
    "a2 = @view ax[:,2]\n",
    "#plt.colorbar(sm1, ax=a)\n",
    "plot_diags(m1[1][2:end-1], :z, a,  c2, minimum, :uz, :d, :T, d=log10, uz=x->x*1e-5)\n",
    "plot_diags(m1[1][2:end-1], :z, a,  c1, maximum, :uz, :d, :T, d=log10, uz=x->x*1e-5)\n",
    "plot_diags(m1[1][2:end-1], :z, a,  c3, mean,    :uz, :d, :T, d=log10, uz=x->x*1e-5)\n",
    "\n",
    "\n",
    "#plot_diags(m2[2][1:end-2], :τ_ross, a2,  c2, minimum, :uz, :d, :T, d=log10, uz=x->x*1e-5)\n",
    "#plot_diags(m2[2][1:end-2], :τ_ross, a2,  c1, maximum, :uz, :d, :T, d=log10, uz=x->x*1e-5)\n",
    "#plot_diags(m2[2][1:end-2], :τ_ross, a2,  c3, mean,    :uz, :d, :T, d=log10, uz=x->x*1e-5)\n",
    "#plot_diags(m1[2][1:end-2], :τ_ross, a2, c2, mean, :uz, :d, :T, d=log10, uz=x->x*1e-5)\n",
    "\n",
    "\n",
    "# Second model\n",
    "c1, sm1 = get_colors(\"Reds\", plt.cm.Reds,   m2[1][2:end-1])\n",
    "c2, sm2 = get_colors(\"Blues\", plt.cm.Blues, m2[1][2:end-1])\n",
    "c3, sm3 = get_colors(\"Greens\", plt.cm.Greens, m2[1][2:end-1])\n",
    "\n",
    "plot_diags(m2[1][2:end-1], :z, a2,  c2, minimum, :uz, :d, :tt, d=log10, uz=x->x*1e-5)\n",
    "plot_diags(m2[1][2:end-1], :z, a2,  c1, maximum, :uz, :d, :tt, d=log10, uz=x->x*1e-5)\n",
    "plot_diags(m2[1][2:end-1], :z, a2,  c3, mean,    :uz, :d, :tt, d=log10, uz=x->x*1e-5)\n",
    "\n",
    "#a = @view ax[:,2]\n",
    "#c2, sm2 = get_colors(\"Blues\", plt.cm.Blues, m2[2])\n",
    "#plt.colorbar(sm2, ax=a)\n",
    "#plot_diags(m2[2], :τ_ross, a, c2, mean, :uz, :d, :T, d=log10, uz=x->x*1e-5)\n",
    "\n",
    "\n",
    "# solar model\n",
    "#ax[2,1].plot(solar_model[:,2], solar_model[:,end], color=\"lime\", lw=5)\n",
    "#ax[3,1].plot(solar_model[:,2], solar_model[:,3], color=\"lime\", lw=5)\n",
    "#ax[2,2].plot(solar_model[:,2], solar_model[:,end], color=\"lime\", lw=5)\n",
    "#ax[3,2].plot(solar_model[:,2], solar_model[:,3], color=\"lime\", lw=5)\n",
    "\n",
    "# revert xlim\n",
    "ax[1,2].set_ylim(ax[1,1].get_ylim()...)\n",
    "ax[2,2].set_ylim(ax[2,1].get_ylim()...)\n",
    "ax[3,2].set_ylim(ax[3,1].get_ylim()...)\n",
    "\n",
    "#ax[3,1].set_yscale(\"log\")\n",
    "#ax[3,2].set_yscale(\"log\")\n",
    "#ax[3,1].set_ylim(4.8e12,6e12)\n",
    "gcf()"
   ]
  },
  {
   "cell_type": "code",
   "execution_count": null,
   "metadata": {},
   "outputs": [],
   "source": [
    "model        = m2[1][end-4]\n",
    "d_profile    = MUST.plane_statistic(mean, model, :d) \n",
    "ee_profile   = MUST.plane_statistic(mean, model, :ee) \n",
    "z1           = model.z[1,1,:];\n",
    "t1           = MUST.plane_statistic(mean, model, :T);"
   ]
  },
  {
   "cell_type": "code",
   "execution_count": null,
   "metadata": {},
   "outputs": [],
   "source": [
    "model        = m1[1][end-4]\n",
    "d_profile    = MUST.plane_statistic(mean, model, :d) \n",
    "ee_profile   = MUST.plane_statistic(mean, model, :ee) \n",
    "z2           = model.z[1,1,:];\n",
    "t2           = MUST.plane_statistic(mean, model, :T);"
   ]
  },
  {
   "cell_type": "code",
   "execution_count": null,
   "metadata": {},
   "outputs": [],
   "source": [
    "close(\"all\")\n",
    "plt.plot(z1, t1)\n",
    "plt.plot(z2, t2)\n",
    "gcf()"
   ]
  },
  {
   "cell_type": "code",
   "execution_count": null,
   "metadata": {},
   "outputs": [],
   "source": [
    "optical_surface = MUST.height_where(; τ_ross=0.0)\n",
    "tau_surface     = MUST.reduce_by_column(optical_surface, m1[1][end-2]);"
   ]
  },
  {
   "cell_type": "code",
   "execution_count": null,
   "metadata": {},
   "outputs": [],
   "source": [
    "plt.imshow(tau_surface[:d][:,:,1], cmap=\"hot_r\");\n",
    "plt.colorbar()"
   ]
  },
  {
   "cell_type": "code",
   "execution_count": null,
   "metadata": {},
   "outputs": [],
   "source": [
    "t    = [m1[1][i].parameter.time for i in 1:length(m1[1])]\n",
    "Teff = [m1[1][i].parameter.teff for i in 1:length(m1[1])];\n",
    "\n",
    "t2    = [m2[1][i].parameter.time for i in 1:length(m2[1])]\n",
    "Teff2 = [m2[1][i].parameter.teff for i in 1:length(m2[1])];"
   ]
  },
  {
   "cell_type": "code",
   "execution_count": null,
   "metadata": {},
   "outputs": [],
   "source": [
    "plt.plot(t, Teff)"
   ]
  },
  {
   "cell_type": "code",
   "execution_count": null,
   "metadata": {},
   "outputs": [],
   "source": [
    "#optical_surface = MUST.height_where(; τ_ross=0.0)\n",
    "#gif_by_column(optical_surface, m1[1], :d, duration=0.2, cmap=\"hot_r\", path_ext=\"d_t00_h\", \n",
    "#                vmin=1.5e-7, vmax=4.0e-7)"
   ]
  },
  {
   "cell_type": "code",
   "execution_count": null,
   "metadata": {},
   "outputs": [],
   "source": [
    "#gif_by_yindex(50, m1[1], :d, zrange=45:size(m1[1][1].z, 3)-20, \n",
    "#                vmin=-7.3, vmax=-5.5, clabel=L\"\\rm \\log\\ \\rho \\ [g \\ cm^{-3}]\",\n",
    "#                duration=0.2, cmap=\"ocean\", path_ext=\"d_yplane\", d=log10)"
   ]
  },
  {
   "cell_type": "code",
   "execution_count": null,
   "metadata": {},
   "outputs": [],
   "source": []
  }
 ],
 "metadata": {
  "kernelspec": {
   "display_name": "Julia 1.6.4",
   "language": "julia",
   "name": "julia-1.6"
  },
  "language_info": {
   "file_extension": ".jl",
   "mimetype": "application/julia",
   "name": "julia",
   "version": "1.6.4"
  },
  "orig_nbformat": 4
 },
 "nbformat": 4,
 "nbformat_minor": 2
}
