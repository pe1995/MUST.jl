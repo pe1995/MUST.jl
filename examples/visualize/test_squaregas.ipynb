{
 "cells": [
  {
   "cell_type": "code",
   "execution_count": 2,
   "metadata": {},
   "outputs": [
    {
     "data": {
      "text/plain": [
       "PyObject <module 'EOS' from '/cobra/ptmp/peitner/model_grid/dispatch2/utilities/python/dispatch/EOS/__init__.py'>"
      ]
     },
     "execution_count": 2,
     "metadata": {},
     "output_type": "execute_result"
    }
   ],
   "source": [
    "using MUST\n",
    "using PyPlot\n",
    "using PyCall\n",
    "\n",
    "MUST.@import_dispatch \"../../../dispatch2\"\n",
    "MUST.@import_dispatch \"../../../dispatch2\" EOS"
   ]
  },
  {
   "cell_type": "code",
   "execution_count": 3,
   "metadata": {},
   "outputs": [
    {
     "data": {
      "text/plain": [
       "MUST.PythonEOS(PyObject <EOS.stagger.stagger object at 0x2ab4c7f5ce20>, [:d, :ee], Bool[1, 0])"
      ]
     },
     "execution_count": 3,
     "metadata": {},
     "output_type": "execute_result"
    }
   ],
   "source": [
    "sqEos = MUST.@squaregasPythonEOS \n",
    "leEos = MUST.@legacyPythonEOS "
   ]
  },
  {
   "cell_type": "code",
   "execution_count": 4,
   "metadata": {},
   "outputs": [
    {
     "data": {
      "text/plain": [
       "MUST.AtmosUnits(\"cgs\", 1.0e8, 1.0e-7, 100.0, 1.0e6, 1.0e17, 100000.0, 0.09999999999999999, 1.0e12, 100000.0, 0.1, 1.0e-8, 1.3, 1120.9982432795857, 1.380658e-16, 1.6726219e-24, 6.65e-24)"
      ]
     },
     "execution_count": 4,
     "metadata": {},
     "output_type": "execute_result"
    }
   ],
   "source": [
    "units = MUST.StaggerCGS()"
   ]
  },
  {
   "cell_type": "code",
   "execution_count": 5,
   "metadata": {},
   "outputs": [
    {
     "name": "stdout",
     "output_type": "stream",
     "text": [
      "sqEos.eos.scale0.name = \"ln(rho)\"\n",
      "sqEos.eos.scale0.min = -30.50869679124781\n",
      "sqEos.eos.scale0.max = -5.147015827384369\n",
      "sqEos.eos.scale1.name = \"ln(ee)\"\n",
      "exp(sqEos.eos.scale1.min) = 1.9964450599999976e12\n",
      "exp(sqEos.eos.scale1.max) = 5.797331800000005e13\n"
     ]
    }
   ],
   "source": [
    "@show sqEos.eos.scale0.name sqEos.eos.scale0.min sqEos.eos.scale0.max\n",
    "@show sqEos.eos.scale1.name exp(sqEos.eos.scale1.min) exp(sqEos.eos.scale1.max);"
   ]
  },
  {
   "cell_type": "code",
   "execution_count": 6,
   "metadata": {},
   "outputs": [
    {
     "data": {
      "text/plain": [
       "Dict{Any, Any} with 4 entries:\n",
       "  0 => \"P\"\n",
       "  2 => \"Ne\"\n",
       "  3 => \"rkap\"\n",
       "  1 => \"T\""
      ]
     },
     "execution_count": 6,
     "metadata": {},
     "output_type": "execute_result"
    }
   ],
   "source": [
    "sqEos.eos.variables"
   ]
  },
  {
   "cell_type": "code",
   "execution_count": 7,
   "metadata": {},
   "outputs": [
    {
     "data": {
      "text/plain": [
       "Dict{Any, Any} with 11 entries:\n",
       "  5  => \"T\"\n",
       "  8  => \"S2\"\n",
       "  1  => \"K1\"\n",
       "  0  => \"P\"\n",
       "  6  => \"\"\n",
       "  9  => \"S3\"\n",
       "  3  => \"K3\"\n",
       "  7  => \"S1\"\n",
       "  4  => \"K4\"\n",
       "  2  => \"K2\"\n",
       "  10 => \"S4\""
      ]
     },
     "execution_count": 7,
     "metadata": {},
     "output_type": "execute_result"
    }
   ],
   "source": [
    "leEos.eos.variables"
   ]
  },
  {
   "cell_type": "code",
   "execution_count": 8,
   "metadata": {},
   "outputs": [
    {
     "name": "stdout",
     "output_type": "stream",
     "text": [
      "e = 4.319760345445752e12\n",
      "t = 8580.199999999812\n",
      "p = 180844.34429145555\n",
      "k = 10.246975093703007\n"
     ]
    }
   ],
   "source": [
    "e  = MUST.bisect(sqEos, ee=[exp(sqEos.eos.scale1.min), exp(sqEos.eos.scale1.max)], d=3.2599e-7, T=8580.2)\n",
    "t  = MUST.lookup(sqEos, \"T\", 3.2599e-7, e)\n",
    "p  = MUST.lookup(sqEos, \"P\", 3.2599e-7, e)\n",
    "k  = MUST.lookup(sqEos, \"rkap\", 3.2599e-7, e)\n",
    "\n",
    "@show e t p k;"
   ]
  },
  {
   "cell_type": "code",
   "execution_count": 9,
   "metadata": {},
   "outputs": [
    {
     "name": "stdout",
     "output_type": "stream",
     "text": [
      "e = 5.761841710646727\n",
      "t = 8580.199999999953\n",
      "p = 1.8076766498782928\n",
      "k = 486.19325453306675\n"
     ]
    }
   ],
   "source": [
    "e  = MUST.bisect(leEos, ee=[5,30], d=3.2599e-7 ./units.d, T=8580.2) \n",
    "t  = MUST.lookup(leEos, \"T\", 3.2599e-7./units.d, e)\n",
    "p  = MUST.lookup(leEos, \"P\", 3.2599e-7./units.d, e) \n",
    "k  = MUST.lookup(leEos, \"K1\", 3.2599e-7./units.d, e) \n",
    "\n",
    "@show e t p k;"
   ]
  },
  {
   "cell_type": "code",
   "execution_count": 10,
   "metadata": {},
   "outputs": [
    {
     "data": {
      "text/plain": [
       "1.0e-8"
      ]
     },
     "execution_count": 10,
     "metadata": {},
     "output_type": "execute_result"
    }
   ],
   "source": [
    "units.rk"
   ]
  },
  {
   "cell_type": "code",
   "execution_count": 11,
   "metadata": {},
   "outputs": [
    {
     "data": {
      "text/plain": [
       "1.0e8"
      ]
     },
     "execution_count": 11,
     "metadata": {},
     "output_type": "execute_result"
    }
   ],
   "source": [
    "units.l"
   ]
  },
  {
   "cell_type": "code",
   "execution_count": 12,
   "metadata": {},
   "outputs": [],
   "source": [
    "@pyimport numpy"
   ]
  },
  {
   "cell_type": "code",
   "execution_count": 13,
   "metadata": {},
   "outputs": [],
   "source": [
    "path = MUST.@in_dispatch \"input_data/square_gas/eostable.dat\"\n",
    "data = numpy.memmap(path,mode=\"r\",order=\"F\",shape=(1024,500,4),dtype=\"<f4\");"
   ]
  },
  {
   "cell_type": "code",
   "execution_count": 14,
   "metadata": {},
   "outputs": [],
   "source": [
    "#using Mmap"
   ]
  },
  {
   "cell_type": "code",
   "execution_count": 15,
   "metadata": {},
   "outputs": [],
   "source": [
    "#m = Mmap.mmap(path, Array{Float32,3}, (500,1024,4));"
   ]
  },
  {
   "cell_type": "code",
   "execution_count": 16,
   "metadata": {},
   "outputs": [
    {
     "data": {
      "text/plain": [
       "\"Square Gas\\n\\nd  4.0023014E-02 \\nee   3.757261     \\nopacity  6.2012821E-03 \\nsrc  1.2659934E-26 \\nne 1.1200634E-13\\n\\n\\nd  4.0126657E-03 \\nee   3.757261     \\nopacity  1.8582983E-04 \\nsrc  5.9403183E-27 \\nne 1.5834541E-14\\n\""
      ]
     },
     "execution_count": 16,
     "metadata": {},
     "output_type": "execute_result"
    }
   ],
   "source": [
    "\"\"\"\n",
    "Square Gas\n",
    "\n",
    "d  4.0023014E-02 \n",
    "ee   3.757261     \n",
    "opacity  6.2012821E-03 \n",
    "src  1.2659934E-26 \n",
    "ne 1.1200634E-13\n",
    "\n",
    "\n",
    "d  4.0126657E-03 \n",
    "ee   3.757261     \n",
    "opacity  1.8582983E-04 \n",
    "src  5.9403183E-27 \n",
    "ne 1.5834541E-14\n",
    "\"\"\""
   ]
  },
  {
   "cell_type": "code",
   "execution_count": 17,
   "metadata": {},
   "outputs": [
    {
     "data": {
      "text/plain": [
       "\"Stagger\\n\\nd  4.0023014E-02 \\nee   5.200000     \\nopacity  6.9835219E-03 \\nsrc  4.5125615E-02 \\nne 1.1510103E+11\\n\\nd  4.0126657E-03 \\nee   5.200000     \\nopacity  1.5603274E-04 \\nsrc  4.4788420E-02 \\nne 1.5962885E+10\\n\""
      ]
     },
     "execution_count": 17,
     "metadata": {},
     "output_type": "execute_result"
    }
   ],
   "source": [
    "\"\"\"\n",
    "Stagger\n",
    "\n",
    "d  4.0023014E-02 \n",
    "ee   5.200000     \n",
    "opacity  6.9835219E-03 \n",
    "src  4.5125615E-02 \n",
    "ne 1.1510103E+11\n",
    "\n",
    "d  4.0126657E-03 \n",
    "ee   5.200000     \n",
    "opacity  1.5603274E-04 \n",
    "src  4.4788420E-02 \n",
    "ne 1.5962885E+10\n",
    "\"\"\"   "
   ]
  },
  {
   "cell_type": "code",
   "execution_count": 18,
   "metadata": {},
   "outputs": [
    {
     "data": {
      "text/plain": [
       "4058.522259742569"
      ]
     },
     "execution_count": 18,
     "metadata": {},
     "output_type": "execute_result"
    }
   ],
   "source": [
    "MUST.lookup(sqEos, \"T\", 4.0023014E-02 *units.d, 3.757261 *units.ee)"
   ]
  },
  {
   "cell_type": "code",
   "execution_count": 19,
   "metadata": {},
   "outputs": [
    {
     "data": {
      "text/plain": [
       "4063.0608350731313"
      ]
     },
     "execution_count": 19,
     "metadata": {},
     "output_type": "execute_result"
    }
   ],
   "source": [
    "MUST.lookup(leEos, \"T\", 4.0023e-2, 5.2)"
   ]
  },
  {
   "cell_type": "code",
   "execution_count": 20,
   "metadata": {},
   "outputs": [
    {
     "data": {
      "text/plain": [
       "4.0126656999999997e-10"
      ]
     },
     "execution_count": 20,
     "metadata": {},
     "output_type": "execute_result"
    }
   ],
   "source": [
    "d_cgs = 4.0126657E-03 *units.d"
   ]
  },
  {
   "cell_type": "code",
   "execution_count": 21,
   "metadata": {},
   "outputs": [
    {
     "data": {
      "text/plain": [
       "5.9403183e-16"
      ]
     },
     "execution_count": 21,
     "metadata": {},
     "output_type": "execute_result"
    }
   ],
   "source": [
    "src_cgs = 5.9403183E-27 * (units.e / units.t * units.l)"
   ]
  },
  {
   "cell_type": "code",
   "execution_count": 22,
   "metadata": {},
   "outputs": [
    {
     "data": {
      "text/plain": [
       "4.478842e9"
      ]
     },
     "execution_count": 22,
     "metadata": {},
     "output_type": "execute_result"
    }
   ],
   "source": [
    "4.4788420E-02 * (units.e / units.t * units.l)"
   ]
  },
  {
   "cell_type": "code",
   "execution_count": 23,
   "metadata": {},
   "outputs": [
    {
     "data": {
      "text/plain": [
       "1.8582983e-12"
      ]
     },
     "execution_count": 23,
     "metadata": {},
     "output_type": "execute_result"
    }
   ],
   "source": [
    "rk_cgs = 1.8582983E-04 * units.rk"
   ]
  },
  {
   "cell_type": "code",
   "execution_count": 26,
   "metadata": {},
   "outputs": [
    {
     "data": {
      "text/plain": [
       "1.116176211738745e12"
      ]
     },
     "execution_count": 26,
     "metadata": {},
     "output_type": "execute_result"
    }
   ],
   "source": [
    "4.4788420E-02/4.0126657E-03 * (units.e / units.t * units.l)"
   ]
  },
  {
   "cell_type": "code",
   "execution_count": 24,
   "metadata": {},
   "outputs": [
    {
     "data": {
      "text/plain": [
       "\"Square Gas\\nd  2.2079017E-04 \\nee   3.757261     \\nopacity  4.6575392E-06  2.5362371E-05 2.3297449E-05  2.9776373E-04 \\nsrc  6.2964849E-17  6.6287261E-19  2.5442887E-19 5.7439292E-20\\n\""
      ]
     },
     "execution_count": 24,
     "metadata": {},
     "output_type": "execute_result"
    }
   ],
   "source": [
    "\"\"\"\n",
    "Square Gas\n",
    "d  2.2079017E-04 \n",
    "ee   3.757261     \n",
    "opacity  4.6575392E-06  2.5362371E-05 2.3297449E-05  2.9776373E-04 \n",
    "src  6.2964849E-17  6.6287261E-19  2.5442887E-19 5.7439292E-20\n",
    "\"\"\""
   ]
  },
  {
   "cell_type": "code",
   "execution_count": 27,
   "metadata": {},
   "outputs": [
    {
     "data": {
      "text/plain": [
       "9.6016154e-21"
      ]
     },
     "execution_count": 27,
     "metadata": {},
     "output_type": "execute_result"
    }
   ],
   "source": [
    "9.6016154E-32   * (units.e / units.t * units.l)"
   ]
  },
  {
   "cell_type": "code",
   "execution_count": 28,
   "metadata": {},
   "outputs": [
    {
     "data": {
      "text/plain": [
       "100000.0"
      ]
     },
     "execution_count": 28,
     "metadata": {},
     "output_type": "execute_result"
    }
   ],
   "source": [
    "units.e"
   ]
  },
  {
   "cell_type": "code",
   "execution_count": null,
   "metadata": {},
   "outputs": [],
   "source": [
    "sc. e  9.999999999999999E+028 \n",
    "sc. t   100.000000000000      \n",
    "sc. l 100000000.000000      \n",
    "sc. kr  0.100000000000000  "
   ]
  },
  {
   "cell_type": "code",
   "execution_count": 31,
   "metadata": {},
   "outputs": [
    {
     "data": {
      "text/plain": [
       "1.0e29"
      ]
     },
     "execution_count": 31,
     "metadata": {},
     "output_type": "execute_result"
    }
   ],
   "source": [
    "units.m * units.l^2/units.t^2 #/ (units.l)^3"
   ]
  },
  {
   "cell_type": "code",
   "execution_count": 36,
   "metadata": {},
   "outputs": [
    {
     "data": {
      "text/plain": [
       "1.0e17"
      ]
     },
     "execution_count": 36,
     "metadata": {},
     "output_type": "execute_result"
    }
   ],
   "source": [
    "units.m"
   ]
  },
  {
   "cell_type": "code",
   "execution_count": null,
   "metadata": {},
   "outputs": [],
   "source": []
  }
 ],
 "metadata": {
  "kernelspec": {
   "display_name": "Julia 1.6.4",
   "language": "julia",
   "name": "julia-1.6"
  },
  "language_info": {
   "file_extension": ".jl",
   "mimetype": "application/julia",
   "name": "julia",
   "version": "1.6.4"
  },
  "orig_nbformat": 4
 },
 "nbformat": 4,
 "nbformat_minor": 2
}
