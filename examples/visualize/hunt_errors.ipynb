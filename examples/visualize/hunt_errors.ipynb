{
 "cells": [
  {
   "cell_type": "code",
   "execution_count": 6,
   "metadata": {},
   "outputs": [
    {
     "name": "stderr",
     "output_type": "stream",
     "text": [
      "\u001b[32m\u001b[1m  Activating\u001b[22m\u001b[39m environment at `/raven/ptmp/peitner/model_grids/MUST.jl/examples/visualize/Project.toml`\n"
     ]
    }
   ],
   "source": [
    "using Pkg; Pkg.activate(\".\")\n",
    "using MUST\n",
    "using PyPlot\n",
    "using Glob\n",
    "\n",
    "MUST.@import_dispatch \"../../../dispatch2\";"
   ]
  },
  {
   "cell_type": "code",
   "execution_count": 8,
   "metadata": {},
   "outputs": [
    {
     "name": "stdout",
     "output_type": "stream",
     "text": [
      "content_of_folder = String[]\n"
     ]
    },
    {
     "data": {
      "text/plain": [
       "Any[]"
      ]
     },
     "execution_count": 8,
     "metadata": {},
     "output_type": "execute_result"
    }
   ],
   "source": [
    "folder            = MUST.@in_dispatch \"data/stellar_marcs\"\n",
    "content_of_folder = glob(\"*/\", folder)\n",
    "@show content_of_folder\n",
    "snapshots         = sort(MUST.list_of_snapshots(content_of_folder))"
   ]
  },
  {
   "cell_type": "code",
   "execution_count": null,
   "metadata": {},
   "outputs": [],
   "source": [
    "# The dispatch snapshot object (Python)\n",
    "snap = dispatch.snapshot(snapshots[i_s], data=folder)\n",
    "\n",
    "# Convert its content to pure Julia\n",
    "s = MUST.Space(snap, :d, :ee, :uz, :e)"
   ]
  }
 ],
 "metadata": {
  "kernelspec": {
   "display_name": "Julia 1.6.4",
   "language": "julia",
   "name": "julia-1.6"
  },
  "language_info": {
   "file_extension": ".jl",
   "mimetype": "application/julia",
   "name": "julia",
   "version": "1.6.4"
  },
  "orig_nbformat": 4
 },
 "nbformat": 4,
 "nbformat_minor": 2
}
